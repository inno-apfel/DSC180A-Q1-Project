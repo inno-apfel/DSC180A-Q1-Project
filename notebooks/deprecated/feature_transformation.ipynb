{
 "cells": [
  {
   "cell_type": "code",
   "execution_count": null,
   "id": "37a47ee5",
   "metadata": {},
   "outputs": [],
   "source": [
    "import numpy as np\n",
    "import pandas as pd"
   ]
  },
  {
   "cell_type": "markdown",
   "id": "cc10b59d",
   "metadata": {},
   "source": [
    "# DATA"
   ]
  },
  {
   "cell_type": "code",
   "execution_count": null,
   "id": "4cd92d14",
   "metadata": {},
   "outputs": [],
   "source": [
    "file_path = '../../src/data/temp/processed_zbp_detail_data.csv'\n",
    "zbp_detail = pd.read_csv(file_path)\n",
    "zbp_detail"
   ]
  },
  {
   "cell_type": "code",
   "execution_count": null,
   "id": "c1980abe",
   "metadata": {},
   "outputs": [],
   "source": [
    "file_path = '../../src/data/temp/processed_zbp_totals_data.csv'\n",
    "zbp_totals = pd.read_csv(file_path)\n",
    "zbp_totals"
   ]
  },
  {
   "cell_type": "code",
   "execution_count": null,
   "id": "c581b414",
   "metadata": {},
   "outputs": [],
   "source": [
    "file_path = '../../src/data/temp/processed_hh_income_data.csv'\n",
    "hh_income_data = pd.read_csv(file_path)\n",
    "hh_income_data"
   ]
  },
  {
   "cell_type": "code",
   "execution_count": null,
   "id": "eee02806",
   "metadata": {},
   "outputs": [],
   "source": [
    "file_path = '../../src/data/temp/processed_total_pop_data.csv'\n",
    "total_pop_data = pd.read_csv(file_path)\n",
    "total_pop_data"
   ]
  },
  {
   "cell_type": "code",
   "execution_count": null,
   "id": "2814ed86",
   "metadata": {},
   "outputs": [],
   "source": [
    "file_path = '../../src/data/temp/processed_retire_detail_data.csv'\n",
    "retire_data = pd.read_csv(file_path)\n",
    "retire_data"
   ]
  },
  {
   "cell_type": "markdown",
   "id": "5731395c",
   "metadata": {},
   "source": [
    "# Features\n",
    "\n",
    "* presence of anchor business(es) (eg, measured by the number of large businesses or combination of large business and industry)\n",
    "* % tech\n",
    "* % bio\n",
    "* % restaurant\n",
    "* % small business\n",
    "* population\n",
    "* % population working (labor force %)\n"
   ]
  },
  {
   "cell_type": "markdown",
   "id": "500ea013",
   "metadata": {},
   "source": [
    "# Industry Percentages"
   ]
  },
  {
   "cell_type": "code",
   "execution_count": null,
   "id": "2f2512fb",
   "metadata": {},
   "outputs": [],
   "source": [
    "zip_est = zbp_detail.groupby(['zip', 'year'])['est'].sum()\n",
    "zip_naics = zbp_detail.groupby(['zip', 'year', 'naics'])['est'].sum()\n",
    "naics_percentages = (zip_naics/zip_est).unstack().fillna(value=0).add_prefix('naics_').add_suffix('_pct').reset_index()\n",
    "naics_percentages"
   ]
  },
  {
   "cell_type": "markdown",
   "id": "a5b85680",
   "metadata": {},
   "source": [
    "# Establishment Size Percentages"
   ]
  },
  {
   "cell_type": "code",
   "execution_count": null,
   "id": "052d3df8",
   "metadata": {},
   "outputs": [],
   "source": [
    "est_size_percentages = zbp_detail.groupby(['zip', 'year'])[['n1_4', 'n5_9', 'n10_19', 'n20_49', 'n50_99', 'n100_249', 'n250_499', 'n500_999', 'n1000']].sum()\n",
    "est_size_percentages = est_size_percentages.apply(lambda ser: ser/zip_est, axis=0).add_suffix('_pct').reset_index()\n",
    "est_size_percentages"
   ]
  },
  {
   "cell_type": "markdown",
   "id": "94f25541",
   "metadata": {},
   "source": [
    "# Compile Features"
   ]
  },
  {
   "cell_type": "code",
   "execution_count": null,
   "id": "90689320",
   "metadata": {},
   "outputs": [],
   "source": [
    "zbp_totals_with_features = zbp_totals.merge(naics_percentages, on=['zip', 'year'])\n",
    "zbp_totals_with_features = zbp_totals_with_features.merge(est_size_percentages, on=['zip', 'year'])\n",
    "zbp_totals_with_features = zbp_totals_with_features.merge(hh_income_data, on=['zip', 'year'])\n",
    "zbp_totals_with_features = zbp_totals_with_features.merge(total_pop_data, on=['zip', 'year'])\n",
    "zbp_totals_with_features = zbp_totals_with_features.merge(retire_data, on=['zip', 'year'])\n",
    "# drop zip codes with insufficient observations (<5)\n",
    "zip_code_by_num_observations = zbp_totals_with_features.groupby('zip')['year'].count().sort_values()\n",
    "zip_codes_with_insufficient_observations = zip_code_by_num_observations[zip_code_by_num_observations<=5].index\n",
    "zbp_totals_with_features = zbp_totals_with_features[zbp_totals_with_features['zip'].apply(lambda x: x not in zip_codes_with_insufficient_observations)]\n",
    "zbp_totals_with_features"
   ]
  },
  {
   "cell_type": "markdown",
   "id": "faab8c50",
   "metadata": {},
   "source": [
    "# Lag All Independent Variables"
   ]
  },
  {
   "cell_type": "code",
   "execution_count": null,
   "id": "4374bafa",
   "metadata": {},
   "outputs": [],
   "source": [
    "def lag_all_zip_codes(data, cols_not_to_lag):\n",
    "\n",
    "    def create_lagged_dataset(data, cols_not_to_lag):\n",
    "        cols_to_lag = data.columns.drop(cols_not_to_lag)\n",
    "        return data[cols_not_to_lag].join(data[cols_to_lag].shift(1), how='inner')\n",
    "    \n",
    "    temp = []\n",
    "    \n",
    "    for curr_zip in data['zip'].unique():\n",
    "        \n",
    "        curr_zip_data = data[data['zip']==curr_zip].sort_values('year')\n",
    "        temp += [create_lagged_dataset(curr_zip_data, cols_not_to_lag).iloc[1:,:]]\n",
    "        \n",
    "    return pd.concat(temp, ignore_index=True).reset_index(drop=True)"
   ]
  },
  {
   "cell_type": "code",
   "execution_count": null,
   "id": "c67984fe",
   "metadata": {},
   "outputs": [],
   "source": [
    "data = pd.read_csv('../../src/data/temp/zbp_totals_with_features.csv')\n",
    "lagged = lag_all_zip_codes(data, ['zip', 'year', 'est'])\n",
    "lagged.to_csv('../../src/data/temp/lagged_zbp_totals_with_features.csv')\n",
    "lagged"
   ]
  },
  {
   "cell_type": "code",
   "execution_count": null,
   "id": "c6dbefaf",
   "metadata": {},
   "outputs": [],
   "source": []
  }
 ],
 "metadata": {
  "kernelspec": {
   "display_name": "Python 3 (ipykernel)",
   "language": "python",
   "name": "python3"
  },
  "language_info": {
   "codemirror_mode": {
    "name": "ipython",
    "version": 3
   },
   "file_extension": ".py",
   "mimetype": "text/x-python",
   "name": "python",
   "nbconvert_exporter": "python",
   "pygments_lexer": "ipython3",
   "version": "3.10.13"
  }
 },
 "nbformat": 4,
 "nbformat_minor": 5
}
