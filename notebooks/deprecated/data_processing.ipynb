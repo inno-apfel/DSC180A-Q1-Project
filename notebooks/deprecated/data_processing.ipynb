{
 "cells": [
  {
   "cell_type": "code",
   "execution_count": null,
   "id": "bad1a411",
   "metadata": {},
   "outputs": [],
   "source": [
    "import numpy as np\n",
    "import pandas as pd\n",
    "import json"
   ]
  },
  {
   "cell_type": "markdown",
   "id": "7d3af896",
   "metadata": {},
   "source": [
    "# Setup"
   ]
  },
  {
   "cell_type": "code",
   "execution_count": null,
   "id": "bef9e549",
   "metadata": {},
   "outputs": [],
   "source": [
    "with open('../../config/config.json', 'r') as fh:\n",
    "    params = json.load(fh)"
   ]
  },
  {
   "cell_type": "code",
   "execution_count": null,
   "id": "b0a58905",
   "metadata": {},
   "outputs": [],
   "source": [
    "zbp_detail_by_year = {}\n",
    "zbp_totals_by_year = {}\n",
    "hh_income_by_year = {}\n",
    "total_pop_by_year = {}\n",
    "payroll_estab_by_year = {}\n",
    "for year in params['years']:\n",
    "    shortened_year = str(year)[2:]\n",
    "    detail_encoding = None\n",
    "retire_by_year = {}\n",
    "    totals_encoding = None\n",
    "    if year >= 2017:\n",
    "        detail_encoding = 'latin-1'\n",
    "    if year >= 2018:\n",
    "        totals_encoding = 'latin-1'\n",
    "    zbp_detail_by_year[year] = pd.read_csv(f'../../src/data/raw/zbp_data/zbpdetail/zbp{shortened_year}detail/zbp{shortened_year}detail.txt', encoding=detail_encoding)\n",
    "    zbp_totals_by_year[year] = pd.read_csv(f'../../src/data/raw/zbp_data/zbptotals/zbp{shortened_year}totals/zbp{shortened_year}totals.txt', encoding=totals_encoding)\n",
    "    hh_income_by_year[year] = pd.read_csv(f'../../src/data/raw/household_data/ACSST5Y{year}.csv')\n",
    "    total_pop_by_year[year] = pd.read_csv(f'../../src/data/raw/pop_age_data/ACSDP5Y{year}.csv')\n",
    "    retire_by_year[year] = pd.read_csv(f'../../src/data/raw/retire_data/pop{year}.csv')\n",
    "#     payroll_estab_by_year[year] = pd.read_csv(f'../../src/data/raw/cbp_data/pop{year}.csv')\n",
    "    "
   ]
  },
  {
   "cell_type": "markdown",
   "id": "f7a8fe92",
   "metadata": {},
   "source": [
    "# ZBP Detail"
   ]
  },
  {
   "cell_type": "code",
   "execution_count": null,
   "id": "0fe3e349",
   "metadata": {},
   "outputs": [],
   "source": [
    "def is_2dig_naics(naics_code):\n",
    "    return naics_code[:2].isnumeric() and not any(char.isdigit() for char in naics_code[2:])\n",
    "\n",
    "def process_zbp_data(data, year):\n",
    "    cols = ['zip', 'naics', 'est']\n",
    "    if year <= 2016:\n",
    "        cols += ['n1_4']\n",
    "    else:\n",
    "        cols += ['n<5']\n",
    "    cols += ['n5_9', 'n10_19', 'n20_49', 'n50_99', 'n100_249', 'n250_499', 'n500_999', 'n1000']\n",
    "    \n",
    "    # filter and standardize col names\n",
    "    data = data[cols]\n",
    "    data = data.rename(columns={'n<5':'n1_4'})\n",
    "    # filter only relavent zip codes\n",
    "    data = data[data['zip'].apply(lambda x: x in params['zip_codes'])]\n",
    "    # keep only 2dig naics\n",
    "    data = data[data['naics'].apply(is_2dig_naics)]\n",
    "    data['naics'] = data['naics'].apply(lambda x: x[:2])\n",
    "    # cast est size bin cols to int, TREATING 'N'(Not available or not comparable) RECORDS AS 0\n",
    "    for col in ['n1_4', 'n5_9', 'n10_19', 'n20_49', 'n50_99', 'n100_249', 'n250_499', 'n500_999', 'n1000']:\n",
    "        data[col] = data[col].apply(lambda x: x if x != 'N' else 0).astype('int64')\n",
    "    # assign year variable\n",
    "    data = data.assign(year=np.full(data.shape[0], year))\n",
    "    \n",
    "    return data"
   ]
  },
  {
   "cell_type": "code",
   "execution_count": null,
   "id": "85b9bca3",
   "metadata": {
    "scrolled": false
   },
   "outputs": [],
   "source": [
    "for year in zbp_detail_by_year:\n",
    "    zbp_detail_by_year[year] = process_zbp_data(zbp_detail_by_year[year], year)\n",
    "    \n",
    "zbp_detail_data = pd.concat(list(zbp_detail_by_year.values()), ignore_index=True).reset_index(drop=True)\n",
    "zbp_detail_data.to_csv('../../src/data/temp/processed_zbp_detail_data.csv', index=False)\n",
    "zbp_detail_data.head()"
   ]
  },
  {
   "cell_type": "markdown",
   "id": "cceeca41",
   "metadata": {},
   "source": [
    "# ZBP Totals"
   ]
  },
  {
   "cell_type": "code",
   "execution_count": null,
   "id": "0a05f66d",
   "metadata": {},
   "outputs": [],
   "source": [
    "def process_zbp_totals(data, year):\n",
    "    # drop naming columns\n",
    "    cols = ['name', 'city', 'stabbr', 'cty_name']\n",
    "    if year <= 2017:\n",
    "        cols += ['empflag']\n",
    "    data = data.drop(columns=cols)\n",
    "    # filter only relavent zip codes\n",
    "    data = data[data['zip'].apply(lambda x: x in params['zip_codes'])]\n",
    "    # assign year variable\n",
    "    data = data.assign(year=np.full(data.shape[0], year))\n",
    "    return data"
   ]
  },
  {
   "cell_type": "code",
   "execution_count": null,
   "id": "d38aa03d",
   "metadata": {},
   "outputs": [],
   "source": [
    "for year in zbp_totals_by_year:\n",
    "    zbp_totals_by_year[year] = process_zbp_totals(zbp_totals_by_year[year], year)\n",
    "    \n",
    "zbp_totals_data = pd.concat(list(zbp_totals_by_year.values()), ignore_index=True).reset_index(drop=True)\n",
    "zbp_totals_data.to_csv('../../src/data/temp/processed_zbp_totals_data.csv', index=False)\n",
    "zbp_totals_data.head()"
   ]
  },
  {
   "cell_type": "markdown",
   "id": "8df1b89f",
   "metadata": {},
   "source": [
    "# Median Household Income Data Processing "
   ]
  },
  {
   "cell_type": "code",
   "execution_count": null,
   "id": "790ce8e5",
   "metadata": {},
   "outputs": [],
   "source": [
    "# Reformats zip column to be  5 digit zip code\n",
    "def reformat_zip(x):\n",
    "    return x[6:11]\n",
    "\n",
    "# Median household incomes 250000+ reformatted to 250000 and commas removed to convert object types to ints\n",
    "def reformat_income(x):\n",
    "    x = x.replace('+', '')\n",
    "    return int(x.replace(',', ''))\n",
    "\n",
    "# FUNCTION FOR PROCESSING HOUSEHOLD INCOME BY INPUT YEAR\n",
    "def process_hh(data, year):\n",
    "    hh2012 = data.T\n",
    "    hh2012.columns = hh2012.iloc[0]\n",
    "    hh2012 = hh2012.drop(hh2012.index[0])\n",
    "    hh2012 = hh2012.reset_index()\n",
    "    hh2012 = hh2012.rename_axis(None, axis=1)\n",
    "    hh2012 = hh2012.rename(columns = {'index':'zip'})\n",
    "    # Filtering data by household estimates\n",
    "    hh2012 = hh2012[hh2012[\"zip\"].str.contains(r'^(?=.*Households)(?=.*Estimate)')]\n",
    "    hh2012['zip'] = hh2012['zip'].apply(reformat_zip)\n",
    "    hh2012 = hh2012[['zip','Median income (dollars)']]\n",
    "    hh2012['year'] = year\n",
    "    # Dropping missing values\n",
    "    hh2012 = hh2012[hh2012['Median income (dollars)'].str.contains('-')==False]\n",
    "    hh2012 = hh2012[hh2012['Median income (dollars)'].str.contains('X')==False]\n",
    "    hh2012['Median income (dollars)'] = hh2012['Median income (dollars)'].apply(reformat_income)\n",
    "    hh2012['zip'] = hh2012['zip'].astype('int64')\n",
    "    # Keeping only relevant zip-codes\n",
    "    hh2012 = hh2012[hh2012['zip'].apply(lambda x: x in params['zip_codes'])]\n",
    "    return hh2012"
   ]
  },
  {
   "cell_type": "code",
   "execution_count": null,
   "id": "ccca5e4e",
   "metadata": {},
   "outputs": [],
   "source": [
    "#Processing the household income data for 2012-2021\n",
    "for year in hh_income_by_year:\n",
    "    hh_income_by_year[year] = process_hh(hh_income_by_year[year], year)\n",
    "    \n",
    "hh_income_data = pd.concat(list(hh_income_by_year.values()), ignore_index=True).reset_index(drop=True)\n",
    "hh_income_data.to_csv('../../src/data/temp/processed_hh_income_data.csv', index=False)\n",
    "hh_income_data.head()"
   ]
  },
  {
   "cell_type": "markdown",
   "id": "6f3addb8",
   "metadata": {},
   "source": [
    "# Population Data Processing "
   ]
  },
  {
   "cell_type": "code",
   "execution_count": null,
   "id": "6569745d",
   "metadata": {},
   "outputs": [],
   "source": [
    "#Removing commas from population strings before converting to floats.\n",
    "def reformat_pop(x):\n",
    "    return float(x.replace(',', ''))\n",
    "\n",
    "def float_check(x):\n",
    "    return isinstance(x, float)"
   ]
  },
  {
   "cell_type": "code",
   "execution_count": null,
   "id": "c1a0db1e",
   "metadata": {},
   "outputs": [],
   "source": [
    "#Function for processing population data by year\n",
    "def process_pop(data, year):\n",
    "    pop = data.T\n",
    "    pop.columns = pop.iloc[0]\n",
    "    pop = pop.drop(pop.index[0])\n",
    "    pop = pop.reset_index()\n",
    "    pop = pop.rename_axis(None, axis=1)\n",
    "    pop = pop.rename(columns = {'index':'zip'})\n",
    "    #Filtering population data by estimates only\n",
    "    pop = pop[pop[\"zip\"].str.contains(r'^(?=.*Estimate)')]\n",
    "    pop['zip'] = pop['zip'].apply(reformat_zip)\n",
    "    pop_column = pop.rename(columns = {'\\xa0\\xa0\\xa0\\xa0Total population': 'Total population'})\n",
    "    pop['Total population'] = pop_column['Total population'].iloc[:,:1]\n",
    "    pop = pop[['zip','Total population']]\n",
    "    pop['year'] = year\n",
    "    #Converting columns to appropriate datatypes\n",
    "    pop['zip'] = pop['zip'].astype('int64')\n",
    "    pop['Total population'] = pop['Total population'].astype(str)\n",
    "    pop['Total population'] = pop['Total population'].apply(reformat_pop)\n",
    "    # Keeping only relevant zip-codes\n",
    "    pop = pop[pop['zip'].apply(lambda x: x in params['zip_codes'])]\n",
    "    return pop"
   ]
  },
  {
   "cell_type": "code",
   "execution_count": null,
   "id": "cbb1a8c5",
   "metadata": {},
   "outputs": [],
   "source": [
    "#Processing all population estimate data from 2012-2021\n",
    "for year in total_pop_by_year:\n",
    "    total_pop_by_year[year] = process_pop(total_pop_by_year[year], year)\n",
    "\n",
    "total_pop_data = pd.concat(list(total_pop_by_year.values()), ignore_index=True).reset_index(drop=True)\n",
    "total_pop_data.to_csv('../../src/data/temp/processed_total_pop_data.csv', index=False)\n",
    "total_pop_data.head()"
   ]
  },
  {
   "cell_type": "markdown",
   "id": "f4323ce1",
   "metadata": {},
   "source": [
    "# Retirement Data Processing"
   ]
  },
  {
   "cell_type": "code",
   "execution_count": null,
   "id": "26a74226",
   "metadata": {},
   "outputs": [],
   "source": [
    "def process_retire_data(data, year):\n",
    "    \n",
    "    column_names = data.columns\n",
    "    # Only getting Estimates\n",
    "    filtered_columns = [col for col in column_names if col[-8:] == 'Estimate' and col[6:11].isdigit()]\n",
    "    data = data[filtered_columns]\n",
    "    # Cleaning up so that the rows are just the zipcode\n",
    "    data.columns = data.columns.str.replace('ZCTA5 ', '').str.replace('!!Estimate', '')\n",
    "    # Selecting: Total population and retired aged\n",
    "    selected_rows = data.loc[[1, 14, 15, 16]]\n",
    "    # Define the new row names\n",
    "    og_names = {\n",
    "                    1: 'Total population',\n",
    "                    14: '65 to 74 years',\n",
    "                    15: '75 to 84 years',\n",
    "                    16: '85 years and over'\n",
    "                }\n",
    "    data = selected_rows.rename(index=og_names)\n",
    "    # Remove commas from all numbers in all columns\n",
    "    data = data.applymap(lambda x: str(x).replace(',', ''))\n",
    "    # Convert all columns to numeric type\n",
    "    data = data.apply(pd.to_numeric, errors='ignore')\n",
    "    # Transpose dataframe and convert zip-code col\n",
    "    data = data.T\n",
    "    data.index = data.index.set_names(['zip'])\n",
    "    data = data.reset_index()\n",
    "    data['zip'] = data['zip'].astype('int64')\n",
    "    # Creating row for total retirement population\n",
    "    data.insert(2, 'Total Retirement', data.iloc[:,2:].sum(axis=1))\n",
    "    # Assign year variable\n",
    "    data = data.assign(year=np.full(data.shape[0], year))\n",
    "    # Keeping only relevant zip-codes\n",
    "    data = data[data['zip'].apply(lambda x: x in params['zip_codes'])]\n",
    "    \n",
    "    return data"
   ]
  },
  {
   "cell_type": "code",
   "execution_count": null,
   "id": "3b195336",
   "metadata": {},
   "outputs": [],
   "source": [
    "for year in retire_by_year:\n",
    "    retire_by_year[year] = process_retire_data(retire_by_year[year], year)\n",
    "\n",
    "retire_data = pd.concat(list(retire_by_year.values()), ignore_index=True).reset_index(drop=True)\n",
    "retire_data.to_csv('../../src/data/temp/processed_retire_detail_data.csv', index=False)\n",
    "retire_data.head()"
   ]
  },
  {
   "cell_type": "markdown",
   "id": "530b23af",
   "metadata": {},
   "source": [
    "# Payroll and Number of Establishments Data"
   ]
  },
  {
   "cell_type": "code",
   "execution_count": null,
   "id": "93dc3862",
   "metadata": {},
   "outputs": [],
   "source": [
    "# def process_payroll_estb_data(data, year):\n",
    "#     first_column_name = data.columns[0]\n",
    "#     second_column_name = data.columns[1]\n",
    "#     third_column_name = data.columns[2]\n",
    "\n",
    "#     data['zip'] = data[first_column_name].str.replace(r'\\D', '', regex=True).astype('int64')\n",
    "#     data['NAICS Code'] = data[second_column_name]\n",
    "#     data['Meaning of NAICS Code'] = data[third_column_name]\n",
    "#     data.drop(columns=[first_column_name, second_column_name, third_column_name], inplace=True)\n",
    "    \n",
    "#     new_column_names = {\n",
    "#                         'Year (YEAR)': 'year', \n",
    "#                         'Number of establishments (ESTAB)': 'Number of Establishments',\n",
    "#                         'Annual payroll ($1,000) (PAYANN)': 'Annual Payroll ($1,000)',\n",
    "#                         }\n",
    "\n",
    "#     data.rename(columns=new_column_names, inplace=True)\n",
    "    \n",
    "#     return data"
   ]
  },
  {
   "cell_type": "code",
   "execution_count": null,
   "id": "54a3e523",
   "metadata": {},
   "outputs": [],
   "source": [
    "# payroll_estab_by_year"
   ]
  },
  {
   "cell_type": "code",
   "execution_count": null,
   "id": "cb9da2f9",
   "metadata": {
    "scrolled": false
   },
   "outputs": [],
   "source": [
    "# for year in payroll_estab_by_year:\n",
    "#     payroll_estab_by_year[year] = process_payroll_estb_data(payroll_estab_by_year[year], year)\n",
    "\n",
    "# pay_estb_data = pd.concat(list(payroll_estab_by_year.values()), ignore_index=True).reset_index(drop=True)\n",
    "# pay_estb_data.to_csv('../../src/data/temp/processed_payroll_estb_data.csv', index=False)\n",
    "# pay_estb_data.head()"
   ]
  },
  {
   "cell_type": "markdown",
   "id": "86e5698a",
   "metadata": {},
   "source": [
    "# Unemployment Data"
   ]
  },
  {
   "cell_type": "code",
   "execution_count": null,
   "id": "afc88cc9",
   "metadata": {},
   "outputs": [],
   "source": [
    "file_path = '../../src/data/raw/employment_data/employment.csv'\n",
    "employment_rate = pd.read_csv(file_path)\n",
    "\n",
    "# Only get the year\n",
    "employment_rate['year'] = pd.to_datetime(employment_rate['DATE']).dt.year\n",
    "\n",
    "employment_rate = employment_rate.drop(columns=['DATE','CASAND5URN_20240104'])\n",
    "\n",
    "employment_rate.rename(columns={'CASAND5URN_20231130': 'unemployment_rate'}, inplace=True)\n",
    "\n",
    "unemployment_by_year = employment_rate.groupby('year')['unemployment_rate'].mean().reset_index()\n",
    "\n",
    "unemployment_by_year.head()"
   ]
  },
  {
   "cell_type": "code",
   "execution_count": null,
   "id": "924f1035",
   "metadata": {},
   "outputs": [],
   "source": []
  }
 ],
 "metadata": {
  "kernelspec": {
   "display_name": "Python 3 (ipykernel)",
   "language": "python",
   "name": "python3"
  },
  "language_info": {
   "codemirror_mode": {
    "name": "ipython",
    "version": 3
   },
   "file_extension": ".py",
   "mimetype": "text/x-python",
   "name": "python",
   "nbconvert_exporter": "python",
   "pygments_lexer": "ipython3",
   "version": "3.10.13"
  }
 },
 "nbformat": 4,
 "nbformat_minor": 5
}
