{
 "cells": [
  {
   "cell_type": "code",
   "execution_count": null,
   "id": "bad1a411",
   "metadata": {},
   "outputs": [],
   "source": [
    "import numpy as np\n",
    "import pandas as pd\n",
    "import json"
   ]
  },
  {
   "cell_type": "markdown",
   "id": "7d3af896",
   "metadata": {},
   "source": [
    "# Setup"
   ]
  },
  {
   "cell_type": "code",
   "execution_count": null,
   "id": "bef9e549",
   "metadata": {},
   "outputs": [],
   "source": [
    "with open('../../config/config.json', 'r') as fh:\n",
    "    params = json.load(fh)"
   ]
  },
  {
   "cell_type": "code",
   "execution_count": null,
   "id": "b0a58905",
   "metadata": {},
   "outputs": [],
   "source": [
    "zbp_detail_by_year = {}\n",
    "zbp_totals_by_year = {}\n",
    "for year in params['years']:\n",
    "    shortened_year = str(year)[2:]\n",
    "    detail_encoding = None\n",
    "    totals_encoding = None\n",
    "    if year >= 2017:\n",
    "        detail_encoding = 'latin-1'\n",
    "    if year >= 2018:\n",
    "        totals_encoding = 'latin-1'\n",
    "    zbp_detail_by_year[year] = pd.read_csv(f'../../src/data/raw/zbp_data/zbpdetail/zbp{shortened_year}detail/zbp{shortened_year}detail.txt', encoding=detail_encoding)\n",
    "    zbp_totals_by_year[year] = pd.read_csv(f'../../src/data/raw/zbp_data/zbptotals/zbp{shortened_year}totals/zbp{shortened_year}totals.txt', encoding=totals_encoding)"
   ]
  },
  {
   "cell_type": "markdown",
   "id": "f7a8fe92",
   "metadata": {},
   "source": [
    "# ZBP Detail"
   ]
  },
  {
   "cell_type": "code",
   "execution_count": null,
   "id": "0fe3e349",
   "metadata": {},
   "outputs": [],
   "source": [
    "def is_2dig_naics(naics_code):\n",
    "    return naics_code[:2].isnumeric() and not any(char.isdigit() for char in naics_code[2:])\n",
    "\n",
    "def process_zbp_data(data, year):\n",
    "    cols = ['zip', 'naics', 'est']\n",
    "    if year <= 2016:\n",
    "        cols += ['n1_4']\n",
    "    else:\n",
    "        cols += ['n<5']\n",
    "    cols += ['n5_9', 'n10_19', 'n20_49', 'n50_99', 'n100_249', 'n250_499', 'n500_999', 'n1000']\n",
    "    \n",
    "    # filter and standardize col names\n",
    "    data = data[cols]\n",
    "    data = data.rename(columns={'n<5':'n1_4'})\n",
    "    # filter only relavent zip codes\n",
    "    data = data[data['zip'].apply(lambda x: x in params['zip_codes'])]\n",
    "    # keep only 2dig naics\n",
    "    data = data[data['naics'].apply(is_2dig_naics)]\n",
    "    data['naics'] = data['naics'].apply(lambda x: x[:2])\n",
    "    # assign year variable\n",
    "    data = data.assign(year=np.full(data.shape[0], year))\n",
    "    \n",
    "    return data"
   ]
  },
  {
   "cell_type": "code",
   "execution_count": null,
   "id": "85b9bca3",
   "metadata": {
    "scrolled": true
   },
   "outputs": [],
   "source": [
    "for year in zbp_detail_by_year:\n",
    "    zbp_detail_by_year[year] = process_zbp_data(zbp_detail_by_year[year], year)\n",
    "    \n",
    "zbp_detail_data = pd.concat(list(zbp_detail_by_year.values()), ignore_index=True).reset_index(drop=True)\n",
    "zbp_detail_data.to_csv('../../src/data/temp/processed_zbp_detail_data.csv', index=False)\n",
    "zbp_detail_data.head()"
   ]
  },
  {
   "cell_type": "markdown",
   "id": "cceeca41",
   "metadata": {},
   "source": [
    "# ZBP Totals"
   ]
  },
  {
   "cell_type": "code",
   "execution_count": null,
   "id": "0a05f66d",
   "metadata": {},
   "outputs": [],
   "source": [
    "def process_zbp_totals(data, year):\n",
    "    # drop naming columns\n",
    "    cols = ['name', 'city', 'stabbr', 'cty_name']\n",
    "    if year <= 2017:\n",
    "        cols += ['empflag']\n",
    "    data = data.drop(columns=cols)\n",
    "    # filter only relavent zip codes\n",
    "    data = data[data['zip'].apply(lambda x: x in params['zip_codes'])]\n",
    "    # assign year variable\n",
    "    data = data.assign(year=np.full(data.shape[0], year))\n",
    "    return data"
   ]
  },
  {
   "cell_type": "code",
   "execution_count": null,
   "id": "d38aa03d",
   "metadata": {},
   "outputs": [],
   "source": [
    "for year in zbp_totals_by_year:\n",
    "    zbp_totals_by_year[year] = process_zbp_totals(zbp_totals_by_year[year], year)\n",
    "    \n",
    "zbp_totals_data = pd.concat(list(zbp_totals_by_year.values()), ignore_index=True).reset_index(drop=True)\n",
    "zbp_totals_data.to_csv('../../src/data/temp/processed_zbp_totals_data.csv', index=False)\n",
    "zbp_totals_data.head()"
   ]
  },
  {
   "cell_type": "code",
   "execution_count": null,
   "id": "9bc98f50",
   "metadata": {},
   "outputs": [],
   "source": []
  }
 ],
 "metadata": {
  "kernelspec": {
   "display_name": "Python 3 (ipykernel)",
   "language": "python",
   "name": "python3"
  },
  "language_info": {
   "codemirror_mode": {
    "name": "ipython",
    "version": 3
   },
   "file_extension": ".py",
   "mimetype": "text/x-python",
   "name": "python",
   "nbconvert_exporter": "python",
   "pygments_lexer": "ipython3",
   "version": "3.10.10"
  }
 },
 "nbformat": 4,
 "nbformat_minor": 5
}
