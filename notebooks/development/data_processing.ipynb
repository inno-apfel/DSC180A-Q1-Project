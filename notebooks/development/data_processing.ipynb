{
 "cells": [
  {
   "cell_type": "code",
   "execution_count": 1,
   "id": "bad1a411",
   "metadata": {},
   "outputs": [],
   "source": [
    "import numpy as np\n",
    "import pandas as pd\n",
    "import json"
   ]
  },
  {
   "cell_type": "markdown",
   "id": "1b797d4e",
   "metadata": {},
   "source": [
    "# Setup"
   ]
  },
  {
   "cell_type": "code",
   "execution_count": 2,
   "id": "f342c023",
   "metadata": {},
   "outputs": [],
   "source": [
    "with open('../../config/config.json', 'r') as fh:\n",
    "    params = json.load(fh)"
   ]
  },
  {
   "cell_type": "code",
   "execution_count": 3,
   "id": "b0a58905",
   "metadata": {},
   "outputs": [],
   "source": [
    "zbp_detail_by_year = {}\n",
    "zbp_totals_by_year = {}\n",
    "for year in params['years']:\n",
    "    shortened_year = str(year)[2:]\n",
    "    detail_encoding = None\n",
    "    totals_encoding = None\n",
    "    if year >= 2017:\n",
    "        detail_encoding = 'latin-1'\n",
    "    if year >= 2018:\n",
    "        totals_encoding = 'latin-1'\n",
    "    zbp_detail_by_year[year] = pd.read_csv(f'../../src/data/raw/zbp_data/zbpdetail/zbp{shortened_year}detail/zbp{shortened_year}detail.txt', encoding=detail_encoding)\n",
    "    zbp_totals_by_year[year] = pd.read_csv(f'../../src/data/raw/zbp_data/zbptotals/zbp{shortened_year}totals/zbp{shortened_year}totals.txt', encoding=totals_encoding)"
   ]
  },
  {
   "cell_type": "markdown",
   "id": "f7a8fe92",
   "metadata": {},
   "source": [
    "# ZBP Detail"
   ]
  },
  {
   "cell_type": "code",
   "execution_count": 4,
   "id": "0fe3e349",
   "metadata": {},
   "outputs": [],
   "source": [
    "def is_2dig_naics(naics_code):\n",
    "    return naics_code[:2].isnumeric() and not any(char.isdigit() for char in naics_code[2:])\n",
    "\n",
    "def process_zbp_data(data, year):\n",
    "    cols = ['zip', 'naics', 'est']\n",
    "    if year <= 2016:\n",
    "        cols += ['n1_4']\n",
    "    else:\n",
    "        cols += ['n<5']\n",
    "    cols += ['n5_9', 'n10_19', 'n20_49', 'n50_99', 'n100_249', 'n250_499', 'n500_999', 'n1000']\n",
    "    \n",
    "    # filter and standardize col names\n",
    "    data = data[cols]\n",
    "    data = data.rename(columns={'n<5':'n1_4'})\n",
    "    # filter only relavent zip codes\n",
    "    data = data[data['zip'].apply(lambda x: x in params['zip_codes'])]\n",
    "    # keep only 2dig naics\n",
    "    data = data[data['naics'].apply(is_2dig_naics)]\n",
    "    data['naics'] = data['naics'].apply(lambda x: x[:2])\n",
    "    # assign year variable\n",
    "    data = data.assign(year=np.full(data.shape[0], year))\n",
    "    \n",
    "    return data"
   ]
  },
  {
   "cell_type": "code",
   "execution_count": 5,
   "id": "85b9bca3",
   "metadata": {
    "scrolled": true
   },
   "outputs": [
    {
     "data": {
      "text/html": [
       "<div>\n",
       "<style scoped>\n",
       "    .dataframe tbody tr th:only-of-type {\n",
       "        vertical-align: middle;\n",
       "    }\n",
       "\n",
       "    .dataframe tbody tr th {\n",
       "        vertical-align: top;\n",
       "    }\n",
       "\n",
       "    .dataframe thead th {\n",
       "        text-align: right;\n",
       "    }\n",
       "</style>\n",
       "<table border=\"1\" class=\"dataframe\">\n",
       "  <thead>\n",
       "    <tr style=\"text-align: right;\">\n",
       "      <th></th>\n",
       "      <th>zip</th>\n",
       "      <th>naics</th>\n",
       "      <th>est</th>\n",
       "      <th>n1_4</th>\n",
       "      <th>n5_9</th>\n",
       "      <th>n10_19</th>\n",
       "      <th>n20_49</th>\n",
       "      <th>n50_99</th>\n",
       "      <th>n100_249</th>\n",
       "      <th>n250_499</th>\n",
       "      <th>n500_999</th>\n",
       "      <th>n1000</th>\n",
       "      <th>year</th>\n",
       "    </tr>\n",
       "  </thead>\n",
       "  <tbody>\n",
       "    <tr>\n",
       "      <th>0</th>\n",
       "      <td>91901</td>\n",
       "      <td>23</td>\n",
       "      <td>88</td>\n",
       "      <td>68</td>\n",
       "      <td>7</td>\n",
       "      <td>6</td>\n",
       "      <td>5</td>\n",
       "      <td>1</td>\n",
       "      <td>0</td>\n",
       "      <td>1</td>\n",
       "      <td>0</td>\n",
       "      <td>0</td>\n",
       "      <td>2012</td>\n",
       "    </tr>\n",
       "    <tr>\n",
       "      <th>1</th>\n",
       "      <td>91901</td>\n",
       "      <td>31</td>\n",
       "      <td>2</td>\n",
       "      <td>1</td>\n",
       "      <td>1</td>\n",
       "      <td>0</td>\n",
       "      <td>0</td>\n",
       "      <td>0</td>\n",
       "      <td>0</td>\n",
       "      <td>0</td>\n",
       "      <td>0</td>\n",
       "      <td>0</td>\n",
       "      <td>2012</td>\n",
       "    </tr>\n",
       "    <tr>\n",
       "      <th>2</th>\n",
       "      <td>91901</td>\n",
       "      <td>42</td>\n",
       "      <td>9</td>\n",
       "      <td>9</td>\n",
       "      <td>0</td>\n",
       "      <td>0</td>\n",
       "      <td>0</td>\n",
       "      <td>0</td>\n",
       "      <td>0</td>\n",
       "      <td>0</td>\n",
       "      <td>0</td>\n",
       "      <td>0</td>\n",
       "      <td>2012</td>\n",
       "    </tr>\n",
       "    <tr>\n",
       "      <th>3</th>\n",
       "      <td>91901</td>\n",
       "      <td>44</td>\n",
       "      <td>67</td>\n",
       "      <td>25</td>\n",
       "      <td>21</td>\n",
       "      <td>16</td>\n",
       "      <td>4</td>\n",
       "      <td>1</td>\n",
       "      <td>0</td>\n",
       "      <td>0</td>\n",
       "      <td>0</td>\n",
       "      <td>0</td>\n",
       "      <td>2012</td>\n",
       "    </tr>\n",
       "    <tr>\n",
       "      <th>4</th>\n",
       "      <td>91901</td>\n",
       "      <td>48</td>\n",
       "      <td>8</td>\n",
       "      <td>8</td>\n",
       "      <td>0</td>\n",
       "      <td>0</td>\n",
       "      <td>0</td>\n",
       "      <td>0</td>\n",
       "      <td>0</td>\n",
       "      <td>0</td>\n",
       "      <td>0</td>\n",
       "      <td>0</td>\n",
       "      <td>2012</td>\n",
       "    </tr>\n",
       "  </tbody>\n",
       "</table>\n",
       "</div>"
      ],
      "text/plain": [
       "     zip naics  est n1_4 n5_9 n10_19 n20_49 n50_99 n100_249 n250_499 n500_999   \n",
       "0  91901    23   88   68    7      6      5      1        0        1        0  \\\n",
       "1  91901    31    2    1    1      0      0      0        0        0        0   \n",
       "2  91901    42    9    9    0      0      0      0        0        0        0   \n",
       "3  91901    44   67   25   21     16      4      1        0        0        0   \n",
       "4  91901    48    8    8    0      0      0      0        0        0        0   \n",
       "\n",
       "  n1000  year  \n",
       "0     0  2012  \n",
       "1     0  2012  \n",
       "2     0  2012  \n",
       "3     0  2012  \n",
       "4     0  2012  "
      ]
     },
     "execution_count": 5,
     "metadata": {},
     "output_type": "execute_result"
    }
   ],
   "source": [
    "for year in zbp_detail_by_year:\n",
    "    zbp_detail_by_year[year] = process_zbp_data(zbp_detail_by_year[year], year)\n",
    "    \n",
    "zbp_detail_data = pd.concat(list(zbp_detail_by_year.values()), ignore_index=True).reset_index(drop=True)\n",
    "zbp_detail_data.to_csv('../../src/data/temp/processed_zbp_detail_data.csv', index=False)\n",
    "zbp_detail_data.head()"
   ]
  },
  {
   "cell_type": "markdown",
   "id": "cceeca41",
   "metadata": {},
   "source": [
    "# ZBP Totals"
   ]
  },
  {
   "cell_type": "code",
   "execution_count": 6,
   "id": "adcf7949",
   "metadata": {},
   "outputs": [],
   "source": [
    "def process_zbp_totals(data, year):\n",
    "    # drop naming columns\n",
    "    cols = ['name', 'city', 'stabbr', 'cty_name']\n",
    "    if year <= 2017:\n",
    "        cols += ['empflag']\n",
    "    data = data.drop(columns=cols)\n",
    "    # filter only relavent zip codes\n",
    "    data = data[data['zip'].apply(lambda x: x in params['zip_codes'])]\n",
    "    # assign year variable\n",
    "    data = data.assign(year=np.full(data.shape[0], year))\n",
    "    return data"
   ]
  },
  {
   "cell_type": "code",
   "execution_count": 7,
   "id": "d38aa03d",
   "metadata": {},
   "outputs": [
    {
     "data": {
      "text/html": [
       "<div>\n",
       "<style scoped>\n",
       "    .dataframe tbody tr th:only-of-type {\n",
       "        vertical-align: middle;\n",
       "    }\n",
       "\n",
       "    .dataframe tbody tr th {\n",
       "        vertical-align: top;\n",
       "    }\n",
       "\n",
       "    .dataframe thead th {\n",
       "        text-align: right;\n",
       "    }\n",
       "</style>\n",
       "<table border=\"1\" class=\"dataframe\">\n",
       "  <thead>\n",
       "    <tr style=\"text-align: right;\">\n",
       "      <th></th>\n",
       "      <th>zip</th>\n",
       "      <th>emp_nf</th>\n",
       "      <th>emp</th>\n",
       "      <th>qp1_nf</th>\n",
       "      <th>qp1</th>\n",
       "      <th>ap_nf</th>\n",
       "      <th>ap</th>\n",
       "      <th>est</th>\n",
       "      <th>year</th>\n",
       "    </tr>\n",
       "  </thead>\n",
       "  <tbody>\n",
       "    <tr>\n",
       "      <th>0</th>\n",
       "      <td>91901</td>\n",
       "      <td>H</td>\n",
       "      <td>4141</td>\n",
       "      <td>H</td>\n",
       "      <td>36304</td>\n",
       "      <td>H</td>\n",
       "      <td>174786</td>\n",
       "      <td>391</td>\n",
       "      <td>2012</td>\n",
       "    </tr>\n",
       "    <tr>\n",
       "      <th>1</th>\n",
       "      <td>91902</td>\n",
       "      <td>G</td>\n",
       "      <td>2265</td>\n",
       "      <td>G</td>\n",
       "      <td>19111</td>\n",
       "      <td>G</td>\n",
       "      <td>81569</td>\n",
       "      <td>349</td>\n",
       "      <td>2012</td>\n",
       "    </tr>\n",
       "    <tr>\n",
       "      <th>2</th>\n",
       "      <td>91903</td>\n",
       "      <td>S</td>\n",
       "      <td>0</td>\n",
       "      <td>G</td>\n",
       "      <td>123</td>\n",
       "      <td>G</td>\n",
       "      <td>491</td>\n",
       "      <td>13</td>\n",
       "      <td>2012</td>\n",
       "    </tr>\n",
       "    <tr>\n",
       "      <th>3</th>\n",
       "      <td>91905</td>\n",
       "      <td>G</td>\n",
       "      <td>19</td>\n",
       "      <td>S</td>\n",
       "      <td>0</td>\n",
       "      <td>H</td>\n",
       "      <td>748</td>\n",
       "      <td>9</td>\n",
       "      <td>2012</td>\n",
       "    </tr>\n",
       "    <tr>\n",
       "      <th>4</th>\n",
       "      <td>91906</td>\n",
       "      <td>D</td>\n",
       "      <td>0</td>\n",
       "      <td>D</td>\n",
       "      <td>0</td>\n",
       "      <td>D</td>\n",
       "      <td>0</td>\n",
       "      <td>27</td>\n",
       "      <td>2012</td>\n",
       "    </tr>\n",
       "  </tbody>\n",
       "</table>\n",
       "</div>"
      ],
      "text/plain": [
       "     zip emp_nf   emp qp1_nf    qp1 ap_nf      ap  est  year\n",
       "0  91901      H  4141      H  36304     H  174786  391  2012\n",
       "1  91902      G  2265      G  19111     G   81569  349  2012\n",
       "2  91903      S     0      G    123     G     491   13  2012\n",
       "3  91905      G    19      S      0     H     748    9  2012\n",
       "4  91906      D     0      D      0     D       0   27  2012"
      ]
     },
     "execution_count": 7,
     "metadata": {},
     "output_type": "execute_result"
    }
   ],
   "source": [
    "for year in zbp_totals_by_year:\n",
    "    zbp_totals_by_year[year] = process_zbp_totals(zbp_totals_by_year[year], year)\n",
    "    \n",
    "zbp_totals_data = pd.concat(list(zbp_totals_by_year.values()), ignore_index=True).reset_index(drop=True)\n",
    "zbp_totals_data.to_csv('../../src/data/temp/processed_zbp_totals_data.csv', index=False)\n",
    "zbp_totals_data.head()"
   ]
  },
  {
   "cell_type": "code",
   "execution_count": 13,
   "id": "6b91dc79",
   "metadata": {},
   "outputs": [
    {
     "name": "stdout",
     "output_type": "stream",
     "text": [
      "175\n",
      "174\n",
      "174\n",
      "175\n",
      "175\n",
      "167\n",
      "165\n",
      "167\n",
      "167\n",
      "166\n"
     ]
    }
   ],
   "source": [
    "for year in zbp_totals_data['year'].unique():\n",
    "    print(zbp_totals_data[zbp_totals_data['year']==year]['zip'].nunique())"
   ]
  },
  {
   "cell_type": "code",
   "execution_count": 10,
   "id": "83ba197e",
   "metadata": {},
   "outputs": [
    {
     "data": {
      "text/plain": [
       "array([2012, 2013, 2014, 2015, 2016, 2017, 2018, 2019, 2020, 2021])"
      ]
     },
     "execution_count": 10,
     "metadata": {},
     "output_type": "execute_result"
    }
   ],
   "source": []
  },
  {
   "cell_type": "code",
   "execution_count": null,
   "id": "2d2b133e",
   "metadata": {},
   "outputs": [],
   "source": []
  }
 ],
 "metadata": {
  "kernelspec": {
   "display_name": "Python 3 (ipykernel)",
   "language": "python",
   "name": "python3"
  },
  "language_info": {
   "codemirror_mode": {
    "name": "ipython",
    "version": 3
   },
   "file_extension": ".py",
   "mimetype": "text/x-python",
   "name": "python",
   "nbconvert_exporter": "python",
   "pygments_lexer": "ipython3",
   "version": "3.10.10"
  }
 },
 "nbformat": 4,
 "nbformat_minor": 5
}
