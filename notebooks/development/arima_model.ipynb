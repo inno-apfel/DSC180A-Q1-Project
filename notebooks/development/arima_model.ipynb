{
 "cells": [
  {
   "cell_type": "code",
   "execution_count": null,
   "id": "677f7114",
   "metadata": {},
   "outputs": [],
   "source": [
    "import sys\n",
    "sys.path.insert(0, '../../src/code')\n",
    "import zbp_visualizer\n",
    "\n",
    "import pandas as pd\n",
    "import numpy as np\n",
    "import matplotlib.pyplot as plt\n",
    "from statsmodels.tsa.arima.model import ARIMA\n",
    "from sklearn.metrics import mean_squared_error"
   ]
  },
  {
   "cell_type": "code",
   "execution_count": null,
   "id": "ed559856",
   "metadata": {},
   "outputs": [],
   "source": [
    "import warnings\n",
    "warnings.filterwarnings('ignore')"
   ]
  },
  {
   "cell_type": "markdown",
   "id": "781aa23a",
   "metadata": {},
   "source": [
    "# Data"
   ]
  },
  {
   "cell_type": "code",
   "execution_count": null,
   "id": "7396532b",
   "metadata": {},
   "outputs": [],
   "source": [
    "file_path = '../../src/data/temp/zbp_totals_with_features.csv'\n",
    "data = pd.read_csv(file_path, parse_dates = ['year'])\n",
    "data.head()"
   ]
  },
  {
   "cell_type": "markdown",
   "id": "2b6c7376",
   "metadata": {},
   "source": [
    "# Model"
   ]
  },
  {
   "cell_type": "code",
   "execution_count": null,
   "id": "c0987e74",
   "metadata": {},
   "outputs": [],
   "source": [
    "class ARIMAForecast():\n",
    "    \n",
    "    def __init__(self, data, n_lag_terms ,diff_order ,window_size):\n",
    "        self.data = data\n",
    "        self.models = {}\n",
    "        self.n_lag_terms = n_lag_terms\n",
    "        self.diff_order = diff_order\n",
    "        self.window_size = window_size\n",
    "        \n",
    "    def train(self):\n",
    "        for zip_code in self.data['zip'].unique():\n",
    "            # filter\n",
    "            curr_data = self.data[self.data['zip']==zip_code][['year', 'emp']].set_index('year')\n",
    "            start_time = curr_data.index[0]\n",
    "            # train\n",
    "            model = ARIMA(curr_data, order=(self.n_lag_terms ,self.diff_order ,self.window_size))\n",
    "            try:\n",
    "                results = model.fit()\n",
    "                self.models[zip_code] = (results, start_time)\n",
    "            except:\n",
    "                pass\n",
    "#                 print(zip_code)\n",
    "#                 print(curr_data)\n",
    "            \n",
    "    def forecast(self, year):\n",
    "        preds = []\n",
    "        # last year seen in the training set\n",
    "        # used to calculate start range for forecast, to avoid predicting values in training set\n",
    "        data_last_year = self.data['year'].max().year\n",
    "        for zip_code, model_info in self.models.items():\n",
    "            model, start_time = model_info\n",
    "            # make predictions\n",
    "            curr_pred = model.predict(data_last_year-start_time.year+1,year-start_time.year)\n",
    "            # modify results into a df object\n",
    "            curr_pred = curr_pred.to_frame().assign(zip=np.full(curr_pred.shape[0], zip_code)).reset_index()\n",
    "            curr_pred = curr_pred.rename(columns={'index':'year', 0:'emp', 'predicted_mean':'emp'})\n",
    "            # address issue where timestamp of some predictions is the number of years after the last year\n",
    "            # in the training data rather than a timestamp object\n",
    "            max_int = curr_pred[curr_pred['year'].apply(lambda x: type(x) == int)]['year'].max()\n",
    "            curr_pred['year'] = curr_pred['year'].apply(lambda x: pd.Timestamp(str(year-max_int+x)) if (type(x) == int) else x)\n",
    "            preds += [curr_pred]\n",
    "            \n",
    "        return pd.concat(preds, ignore_index=True).reset_index(drop=True)\n",
    "            "
   ]
  },
  {
   "cell_type": "markdown",
   "id": "64e685e1",
   "metadata": {},
   "source": [
    "# Train-test Split"
   ]
  },
  {
   "cell_type": "code",
   "execution_count": null,
   "id": "dc5d5ada",
   "metadata": {},
   "outputs": [],
   "source": [
    "end_year = 2020\n",
    "data_train = data[data['year'] <= pd.Timestamp(str(end_year))]\n",
    "data_test = data[data['year'] > pd.Timestamp(str(end_year))]"
   ]
  },
  {
   "cell_type": "markdown",
   "id": "687dd084",
   "metadata": {},
   "source": [
    "# Evaluate"
   ]
  },
  {
   "cell_type": "code",
   "execution_count": null,
   "id": "dadcbac4",
   "metadata": {
    "scrolled": true
   },
   "outputs": [],
   "source": [
    "model = ARIMAForecast(data_train, 1, 1, 1)\n",
    "model.train()\n",
    "forecast = model.forecast(data_test['year'].max().year)\n",
    "preds_labels = forecast.merge(data_test, on=['zip', 'year'], suffixes=('_pred', '_true'))\n",
    "mean_squared_error(preds_labels['emp_true'], preds_labels['emp_pred'], squared=False)"
   ]
  },
  {
   "cell_type": "markdown",
   "id": "7d5b1502",
   "metadata": {},
   "source": [
    "# Visualize Predictions"
   ]
  },
  {
   "cell_type": "code",
   "execution_count": null,
   "id": "5f012ef8",
   "metadata": {},
   "outputs": [],
   "source": [
    "last_year = data_test['year'].max().year\n",
    "preds_last_year = preds_labels[preds_labels['year'] == pd.Timestamp(str(last_year))][['zip','emp_pred']]\n",
    "zbp_visualizer.generate_zbp_chloropleth(preds_last_year, 'zip', 'emp_pred', f'arima_{last_year}_preds')"
   ]
  },
  {
   "cell_type": "code",
   "execution_count": null,
   "id": "5e40c66a",
   "metadata": {},
   "outputs": [],
   "source": []
  }
 ],
 "metadata": {
  "kernelspec": {
   "display_name": "Python 3 (ipykernel)",
   "language": "python",
   "name": "python3"
  },
  "language_info": {
   "codemirror_mode": {
    "name": "ipython",
    "version": 3
   },
   "file_extension": ".py",
   "mimetype": "text/x-python",
   "name": "python",
   "nbconvert_exporter": "python",
   "pygments_lexer": "ipython3",
   "version": "3.10.13"
  }
 },
 "nbformat": 4,
 "nbformat_minor": 5
}
