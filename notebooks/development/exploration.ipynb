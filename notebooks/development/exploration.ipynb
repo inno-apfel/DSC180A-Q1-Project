{
 "cells": [
  {
   "cell_type": "code",
   "execution_count": null,
   "id": "6738a148",
   "metadata": {},
   "outputs": [],
   "source": [
    "import sys\n",
    "sys.path.insert(0, '../../src/helper')\n",
    "\n",
    "import numpy as np\n",
    "import pandas as pd\n",
    "\n",
    "import matplotlib.pyplot as plt\n",
    "import seaborn as sns\n",
    "\n",
    "from IPython.display import IFrame\n",
    "\n",
    "import zbp_visualizer"
   ]
  },
  {
   "cell_type": "markdown",
   "id": "fd26d9ae",
   "metadata": {},
   "source": [
    "# Data"
   ]
  },
  {
   "cell_type": "code",
   "execution_count": null,
   "id": "c259acf2",
   "metadata": {},
   "outputs": [],
   "source": [
    "file_path = '../../src/data/temp/zbp_totals_with_features.csv'\n",
    "data = pd.read_csv(file_path).select_dtypes(include='number')\n",
    "data.head()"
   ]
  },
  {
   "cell_type": "markdown",
   "id": "75d25b7d",
   "metadata": {},
   "source": [
    "# Coorelation Matrix"
   ]
  },
  {
   "cell_type": "code",
   "execution_count": null,
   "id": "ed3c0ab8",
   "metadata": {},
   "outputs": [],
   "source": [
    "corr = data.corr()\n",
    "corr = corr[['est']].sort_values('est', ascending=False)\n",
    "vmin = corr.min()\n",
    "vmax = corr.max()\n",
    "corr_thresh = corr.abs().sort_values('est', ascending=False).iloc[13]['est']\n",
    "corr = corr[corr['est'].abs() > corr_thresh]\n",
    "print(f'top {corr.shape[0]} features:')\n",
    "corr.style.background_gradient(cmap='coolwarm', vmin=vmin, vmax=vmax)"
   ]
  },
  {
   "cell_type": "markdown",
   "id": "8454f373",
   "metadata": {},
   "source": [
    "# Establishment Growth"
   ]
  },
  {
   "cell_type": "code",
   "execution_count": null,
   "id": "58a44e0b",
   "metadata": {},
   "outputs": [],
   "source": [
    "sum_establishments_by_year = data.groupby('year')['est'].sum().reset_index()\n",
    "\n",
    "plt.rcParams.update({'font.size': 10})\n",
    "\n",
    "plt.figure(figsize=(5, 5))\n",
    "plt.plot(sum_establishments_by_year['year'], sum_establishments_by_year['est'], marker='o', linestyle='-', color='tab:blue')\n",
    "# plt.xticks(np.arange(2012, 2021 + 1))\n",
    "\n",
    "# plt.title('Establishments Growth (2012-2021)')\n",
    "# plt.xlabel('Year')\n",
    "# plt.ylabel('Establishments')\n",
    "# plt.grid(True)\n",
    "plt.savefig('../../out/plots/est_plot.jpg', dpi=500, bbox_inches='tight', pad_inches=0)"
   ]
  },
  {
   "cell_type": "markdown",
   "id": "a8012d22",
   "metadata": {},
   "source": [
    "# Geographical Distribution of Values - GeoPlots"
   ]
  },
  {
   "cell_type": "code",
   "execution_count": null,
   "id": "e9cb2ebe",
   "metadata": {
    "scrolled": false
   },
   "outputs": [],
   "source": [
    "out_path = '../../out/plots/zbp_plot_trues_2021.jpg'\n",
    "zbp_visualizer.generate_zbp_chloropleth(data, 'zip', 'est', out_path)\n",
    "# IFrame(out_path, 500,500)"
   ]
  },
  {
   "cell_type": "code",
   "execution_count": null,
   "id": "4b784900",
   "metadata": {},
   "outputs": [],
   "source": [
    "with pd.option_context('mode.chained_assignment', None):\n",
    "    data_small_businesses = data[['zip']]\n",
    "    data_small_businesses['small_bus'] = data.filter(regex='n\\d+.*_pct').iloc[:,:-2].sum(axis=1)\n",
    "    data_big_businesses = data[['zip']]\n",
    "    data_big_businesses['big_bus'] = data.filter(regex='n\\d+.*_pct').iloc[:,-2:].sum(axis=1)\n",
    "\n",
    "data_big_businesses = data_big_businesses.groupby('zip').mean()\n",
    "# data_big_businesses = (data_big_businesses - data_big_businesses.mean())/data_big_businesses.std()\n",
    "data_big_businesses = data_big_businesses.reset_index()\n",
    "\n",
    "data_small_businesses = data_small_businesses.groupby('zip').mean()\n",
    "data_small_businesses = (data_small_businesses - data_small_businesses.mean())/data_small_businesses.std()\n",
    "data_small_businesses = data_small_businesses.reset_index()"
   ]
  },
  {
   "cell_type": "code",
   "execution_count": null,
   "id": "252225a3",
   "metadata": {},
   "outputs": [],
   "source": [
    "out_path = f'../../out/plots/zbp_plot_small_bus.html'\n",
    "zbp_visualizer.generate_zbp_chloropleth(data_small_businesses, 'zip', 'small_bus', out_path)\n",
    "IFrame(out_path, 500,500)"
   ]
  },
  {
   "cell_type": "code",
   "execution_count": null,
   "id": "09d7d5f5",
   "metadata": {},
   "outputs": [],
   "source": [
    "out_path = f'../../out/plots/zbp_plot_big_bus.html'\n",
    "zbp_visualizer.generate_zbp_chloropleth(data_big_businesses, 'zip', 'big_bus', out_path)\n",
    "IFrame(out_path, 500,500)"
   ]
  },
  {
   "cell_type": "code",
   "execution_count": null,
   "id": "b00010da",
   "metadata": {
    "scrolled": false
   },
   "outputs": [],
   "source": [
    "for i, col in enumerate(data.filter(regex='n\\d+.+pct').columns):\n",
    "    out_path = f'../../out/plots/zbp_plot_{i}.html'\n",
    "    zbp_visualizer.generate_zbp_chloropleth(data, 'zip', col, out_path)\n",
    "    display(IFrame(out_path, 500,500))"
   ]
  },
  {
   "cell_type": "markdown",
   "id": "ebc536c2",
   "metadata": {},
   "source": [
    "# Range of Feature Values - Violin Plots"
   ]
  },
  {
   "cell_type": "code",
   "execution_count": null,
   "id": "f77db7bd",
   "metadata": {},
   "outputs": [],
   "source": [
    "def gen_violin_plot(df, cols):\n",
    "    \n",
    "    plt.rcParams.update({'font.size': 14})\n",
    "#     plt.rcParams['font.weight'] = 'bold'\n",
    "    \n",
    "    temp = df.groupby('zip')[cols].mean()\n",
    "    train_mean = temp.mean()\n",
    "    train_std = temp.std()\n",
    "    df_std = (temp - train_mean) / train_std\n",
    "    df_std = df_std.rename(columns={'total_midcareer (25-34)': 'total_midcareer',\n",
    "                                    'naics_62_pct': 'health_industry',\n",
    "                                    'naics_54_pct': 'mngmt_industry',\n",
    "                                    'emp': 'employee_count'})\n",
    "    df_std = df_std.melt(var_name='Column', value_name='Normalized')\n",
    "    plt.figure(figsize=(20, 5))\n",
    "    ax = sns.violinplot(x='Column', y='Normalized', data=df_std)\n",
    "    plt.xticks(rotation=0)\n",
    "    plt.xlabel('')\n",
    "    plt.ylabel('')\n",
    "    \n",
    "    return ax"
   ]
  },
  {
   "cell_type": "code",
   "execution_count": null,
   "id": "d95b7af4",
   "metadata": {
    "scrolled": false
   },
   "outputs": [],
   "source": [
    "violin_cols = ['emp', 'median_hh_income', 'total_midcareer (25-34)',\n",
    "               'n1_4_pct', 'n250_499_pct',\n",
    "               'naics_54_pct', 'naics_62_pct']\n",
    "gen_violin_plot(data, violin_cols)\n",
    "plt.savefig('../../out/plots/violin_plots.jpg', dpi=500, bbox_inches='tight', pad_inches=0)"
   ]
  },
  {
   "cell_type": "code",
   "execution_count": null,
   "id": "ef988f91",
   "metadata": {},
   "outputs": [],
   "source": [
    "violin_cols = ['naics_11_pct', 'naics_21_pct',\n",
    "       'naics_22_pct', 'naics_23_pct', 'naics_31_pct', 'naics_42_pct',\n",
    "       'naics_44_pct', 'naics_48_pct', 'naics_51_pct', 'naics_52_pct',\n",
    "       'naics_53_pct', 'naics_54_pct', 'naics_55_pct', 'naics_56_pct',\n",
    "       'naics_61_pct', 'naics_62_pct', 'naics_71_pct', 'naics_72_pct',\n",
    "       'naics_81_pct', 'naics_99_pct']\n",
    "gen_violin_plot(data, violin_cols)"
   ]
  },
  {
   "cell_type": "code",
   "execution_count": null,
   "id": "34a59d52",
   "metadata": {
    "scrolled": false
   },
   "outputs": [],
   "source": [
    "violin_cols = ['n1_4_pct', 'n5_9_pct', 'n10_19_pct',\n",
    "       'n20_49_pct', 'n50_99_pct', 'n100_249_pct', 'n250_499_pct',\n",
    "       'n500_999_pct', 'n1000_pct']\n",
    "gen_violin_plot(data, violin_cols)"
   ]
  },
  {
   "cell_type": "markdown",
   "id": "26b7119a",
   "metadata": {},
   "source": [
    "# Temporal Distribution of Values - ZCTA Averaged Lineplots"
   ]
  },
  {
   "cell_type": "code",
   "execution_count": null,
   "id": "64f71697",
   "metadata": {
    "scrolled": false
   },
   "outputs": [],
   "source": [
    "line_cols = data.filter(regex='^((?!naics).)*$').filter(regex='^((?!pct).)*$')\n",
    "for col in line_cols:\n",
    "    if col not in ['zip', 'year']:\n",
    "        \n",
    "        fig, ax = plt.subplots()\n",
    "        ax = data.groupby('year')[col].mean().plot()\n",
    "        ax.set_title(f'{col.upper()} by Year')\n",
    "        ax.set_ylabel(col)"
   ]
  },
  {
   "cell_type": "code",
   "execution_count": null,
   "id": "d7b3c8e1",
   "metadata": {
    "scrolled": false
   },
   "outputs": [],
   "source": [
    "ax = data.groupby('year')[['total_midcareer (25-34)', 'total_midcareer (35-44)']].mean().sum(axis=1).plot()\n",
    "ax.set_title('TOTAL_MIDCAREER by Year')"
   ]
  },
  {
   "cell_type": "markdown",
   "id": "2ac18fdd",
   "metadata": {},
   "source": [
    "## Distribution of Business Sizes"
   ]
  },
  {
   "cell_type": "code",
   "execution_count": null,
   "id": "34670595",
   "metadata": {},
   "outputs": [],
   "source": [
    "data[['n1_4_pct', 'n5_9_pct', 'n10_19_pct', 'n20_49_pct', 'n50_99_pct',\n",
    "       'n100_249_pct', 'n250_499_pct', 'n500_999_pct', 'n1000_pct']].mean().plot(kind='bar')"
   ]
  },
  {
   "cell_type": "markdown",
   "id": "8601ddcc",
   "metadata": {},
   "source": [
    "## Distrubution of Business Industries"
   ]
  },
  {
   "cell_type": "code",
   "execution_count": null,
   "id": "b0682b18",
   "metadata": {},
   "outputs": [],
   "source": [
    "data[['naics_11_pct', 'naics_21_pct', 'naics_22_pct', 'naics_23_pct',\n",
    "       'naics_31_pct', 'naics_42_pct', 'naics_44_pct', 'naics_48_pct',\n",
    "       'naics_51_pct', 'naics_52_pct', 'naics_53_pct', 'naics_54_pct',\n",
    "       'naics_55_pct', 'naics_56_pct', 'naics_61_pct', 'naics_62_pct',\n",
    "       'naics_71_pct', 'naics_72_pct', 'naics_81_pct', 'naics_99_pct']].mean().sort_values(ascending=False).plot(kind='bar')"
   ]
  },
  {
   "cell_type": "markdown",
   "id": "cc27a37f",
   "metadata": {},
   "source": [
    "## Unemployment Over The Years"
   ]
  },
  {
   "cell_type": "code",
   "execution_count": null,
   "id": "00feee73",
   "metadata": {
    "scrolled": false
   },
   "outputs": [],
   "source": [
    "file_path = '../../src/data/raw/employment_data/employment.csv'\n",
    "employment_rate = pd.read_csv(file_path)\n",
    "\n",
    "# Only get the year\n",
    "employment_rate['year'] = pd.to_datetime(employment_rate['DATE']).dt.year\n",
    "\n",
    "employment_rate = employment_rate.drop(columns=['DATE','CASAND5URN_20240104'])\n",
    "\n",
    "employment_rate.rename(columns={'CASAND5URN_20231130': 'unemployment_rate'}, inplace=True)\n",
    "\n",
    "unemployment_by_year = employment_rate.groupby('year')['unemployment_rate'].mean().reset_index()\n",
    "\n",
    "\n",
    "unemployment_rate_over_years = unemployment_by_year.groupby('year')['unemployment_rate'].mean()\n",
    "\n",
    "\n",
    "plt.figure(figsize=(10, 6))\n",
    "unemployment_rate_over_years.plot(marker='o', linestyle='-', color='r')\n",
    "plt.title('Unemployment Rate Over the Years (2012 - 2021)')\n",
    "plt.xlabel('Year')\n",
    "plt.ylabel('Mean Unemployment Rate')\n",
    "plt.grid(True)\n",
    "plt.show()"
   ]
  },
  {
   "cell_type": "code",
   "execution_count": null,
   "id": "22c9f405",
   "metadata": {},
   "outputs": [],
   "source": []
  }
 ],
 "metadata": {
  "kernelspec": {
   "display_name": "Python 3 (ipykernel)",
   "language": "python",
   "name": "python3"
  },
  "language_info": {
   "codemirror_mode": {
    "name": "ipython",
    "version": 3
   },
   "file_extension": ".py",
   "mimetype": "text/x-python",
   "name": "python",
   "nbconvert_exporter": "python",
   "pygments_lexer": "ipython3",
   "version": "3.10.13"
  }
 },
 "nbformat": 4,
 "nbformat_minor": 5
}
