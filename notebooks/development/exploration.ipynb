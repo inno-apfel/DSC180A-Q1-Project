{
 "cells": [
  {
   "cell_type": "code",
   "execution_count": null,
   "id": "6738a148",
   "metadata": {},
   "outputs": [],
   "source": [
    "import numpy as np\n",
    "import pandas as pd\n",
    "\n",
    "import matplotlib.pyplot as plt"
   ]
  },
  {
   "cell_type": "markdown",
   "id": "fd26d9ae",
   "metadata": {},
   "source": [
    "# DATA"
   ]
  },
  {
   "cell_type": "code",
   "execution_count": null,
   "id": "c259acf2",
   "metadata": {},
   "outputs": [],
   "source": [
    "file_path = '../../src/data/temp/zbp_totals_with_features.csv'\n",
    "data = pd.read_csv(file_path)\n",
    "data.head()"
   ]
  },
  {
   "cell_type": "code",
   "execution_count": null,
   "id": "e22712de",
   "metadata": {},
   "outputs": [],
   "source": [
    "data.columns"
   ]
  },
  {
   "cell_type": "markdown",
   "id": "fc5a7fb0",
   "metadata": {},
   "source": [
    "# Exploratory Data Analysis"
   ]
  },
  {
   "cell_type": "markdown",
   "id": "7248881b",
   "metadata": {},
   "source": [
    "In below, we check for trends within the above features, Specifically how they change over time and coorelation with the number of establishments (est)\n",
    "\n",
    "Check the hypotheses from the paper that inspired our feature selection"
   ]
  },
  {
   "cell_type": "markdown",
   "id": "75d25b7d",
   "metadata": {},
   "source": [
    "## Coorelation Matrix"
   ]
  },
  {
   "cell_type": "code",
   "execution_count": null,
   "id": "ed3c0ab8",
   "metadata": {},
   "outputs": [],
   "source": [
    "corr = data.drop(columns=['emp_nf', 'qp1_nf', 'ap_nf']).corr()\n",
    "corr[['est']].sort_values('est', ascending=False).style.background_gradient(cmap='coolwarm')"
   ]
  },
  {
   "cell_type": "code",
   "execution_count": null,
   "id": "e340f252",
   "metadata": {
    "scrolled": false
   },
   "outputs": [],
   "source": [
    "i = 0\n",
    "for curr_zip in data['zip'].unique():\n",
    "    i += 1\n",
    "    curr_data = data[data['zip']==curr_zip]\n",
    "    plt.plot(curr_data['year'], curr_data['est'], label=curr_zip)\n",
    "    \n",
    "    if i % 10 == 0:\n",
    "        plt.legend(loc='upper left', bbox_to_anchor=(1, 1))\n",
    "        plt.figure()\n",
    "    \n",
    "plt.legend(loc='upper left', bbox_to_anchor=(1, 1))"
   ]
  },
  {
   "cell_type": "markdown",
   "id": "24ce4cf4",
   "metadata": {},
   "source": [
    "## Top Zipcodes"
   ]
  },
  {
   "cell_type": "code",
   "execution_count": null,
   "id": "bf521a6d",
   "metadata": {},
   "outputs": [],
   "source": [
    "data.groupby('zip')['est'].mean().sort_values(ascending=False).head(25).plot(kind='bar')"
   ]
  },
  {
   "cell_type": "code",
   "execution_count": null,
   "id": "01bb6856",
   "metadata": {},
   "outputs": [],
   "source": [
    "data.groupby('zip')['emp'].mean().sort_values(ascending=False).head(25).plot(kind='bar')"
   ]
  },
  {
   "cell_type": "code",
   "execution_count": null,
   "id": "4838d04e",
   "metadata": {
    "scrolled": false
   },
   "outputs": [],
   "source": [
    "data.groupby('zip')['ap'].mean().sort_values(ascending=False).head(25).plot(kind='bar')"
   ]
  },
  {
   "cell_type": "code",
   "execution_count": null,
   "id": "765b22d4",
   "metadata": {},
   "outputs": [],
   "source": [
    "data.groupby('zip')['median_hh_income'].mean().sort_values(ascending=False).head(25).plot(kind='bar')"
   ]
  },
  {
   "cell_type": "code",
   "execution_count": null,
   "id": "9791c898",
   "metadata": {},
   "outputs": [],
   "source": [
    "data.groupby('zip')['total_population'].mean().sort_values(ascending=False).head(25).plot(kind='bar')"
   ]
  },
  {
   "cell_type": "code",
   "execution_count": null,
   "id": "720c7cbc",
   "metadata": {},
   "outputs": [],
   "source": [
    "data.groupby('zip')['total_retirement'].mean().sort_values(ascending=False).head(25).plot(kind='bar')"
   ]
  },
  {
   "cell_type": "code",
   "execution_count": null,
   "id": "9bce14ff",
   "metadata": {},
   "outputs": [],
   "source": [
    "data.groupby('zip')['total_midcareer (25-34)'].mean().sort_values(ascending=False).head(25).plot(kind='bar')"
   ]
  },
  {
   "cell_type": "code",
   "execution_count": null,
   "id": "05c41d0f",
   "metadata": {},
   "outputs": [],
   "source": [
    "data.groupby('zip')['total_midcareer (35-44)'].mean().sort_values(ascending=False).head(25).plot(kind='bar')"
   ]
  },
  {
   "cell_type": "code",
   "execution_count": null,
   "id": "0cebab24",
   "metadata": {},
   "outputs": [],
   "source": [
    "data.groupby('zip')['n1_4_pct'].mean().sort_values(ascending=False).head(25).plot(kind='bar')"
   ]
  },
  {
   "cell_type": "code",
   "execution_count": null,
   "id": "3ee22c6e",
   "metadata": {},
   "outputs": [],
   "source": [
    "data.groupby('zip')['n1000_pct'].mean().sort_values(ascending=False).head(25).plot(kind='bar')"
   ]
  },
  {
   "cell_type": "code",
   "execution_count": null,
   "id": "aadfbd9d",
   "metadata": {},
   "outputs": [],
   "source": [
    "data.groupby('zip')['naics_55_pct'].mean().sort_values(ascending=False).head(25).plot(kind='bar')"
   ]
  },
  {
   "cell_type": "markdown",
   "id": "e5a18c5d",
   "metadata": {},
   "source": [
    "## Number of Mid-Career Adults"
   ]
  },
  {
   "cell_type": "code",
   "execution_count": null,
   "id": "1ce87842",
   "metadata": {
    "scrolled": true
   },
   "outputs": [],
   "source": [
    "data.groupby('zip')[['total_midcareer (25-34)', 'est']].mean().plot(kind='scatter', x='total_midcareer (25-34)', y='est')"
   ]
  },
  {
   "cell_type": "code",
   "execution_count": null,
   "id": "86dc861e",
   "metadata": {},
   "outputs": [],
   "source": [
    "data.groupby('zip')[['total_midcareer (35-44)', 'est']].mean().plot(kind='scatter', x='total_midcareer (35-44)', y='est')"
   ]
  },
  {
   "cell_type": "markdown",
   "id": "1cb271da",
   "metadata": {},
   "source": [
    "## Greater Personal Wealth"
   ]
  },
  {
   "cell_type": "code",
   "execution_count": null,
   "id": "dabdf528",
   "metadata": {},
   "outputs": [],
   "source": [
    "data.groupby('zip')[['median_hh_income', 'est']].mean().plot(kind='scatter', x='median_hh_income', y='est')"
   ]
  },
  {
   "cell_type": "markdown",
   "id": "15d3a143",
   "metadata": {},
   "source": [
    "## Population Growth"
   ]
  },
  {
   "cell_type": "code",
   "execution_count": null,
   "id": "3ac8d675",
   "metadata": {},
   "outputs": [],
   "source": [
    "data.groupby('zip')[['emp', 'est']].mean().plot(kind='scatter', x='emp', y='est')"
   ]
  },
  {
   "cell_type": "markdown",
   "id": "1b6c9ec6",
   "metadata": {},
   "source": [
    "## Economic Diversity = More Smaller Organizations"
   ]
  },
  {
   "cell_type": "code",
   "execution_count": null,
   "id": "7156dea7",
   "metadata": {},
   "outputs": [],
   "source": [
    "data.groupby('zip')[['n1_4_pct', 'est']].mean().plot(kind='scatter', x='n1_4_pct', y='est')"
   ]
  },
  {
   "cell_type": "code",
   "execution_count": null,
   "id": "c8129de8",
   "metadata": {},
   "outputs": [],
   "source": [
    "data.groupby('zip')[['ap', 'est']].mean().plot(kind='scatter', x='ap', y='est')"
   ]
  },
  {
   "cell_type": "markdown",
   "id": "2ac18fdd",
   "metadata": {},
   "source": [
    "## Distribution of Business Sizes"
   ]
  },
  {
   "cell_type": "code",
   "execution_count": null,
   "id": "34670595",
   "metadata": {},
   "outputs": [],
   "source": [
    "data[['n1_4_pct', 'n5_9_pct', 'n10_19_pct', 'n20_49_pct', 'n50_99_pct',\n",
    "       'n100_249_pct', 'n250_499_pct', 'n500_999_pct', 'n1000_pct']].mean()"
   ]
  },
  {
   "cell_type": "markdown",
   "id": "8601ddcc",
   "metadata": {},
   "source": [
    "## Distrubution of Business Industries"
   ]
  },
  {
   "cell_type": "code",
   "execution_count": null,
   "id": "b0682b18",
   "metadata": {},
   "outputs": [],
   "source": [
    "data[['naics_11_pct', 'naics_21_pct', 'naics_22_pct', 'naics_23_pct',\n",
    "       'naics_31_pct', 'naics_42_pct', 'naics_44_pct', 'naics_48_pct',\n",
    "       'naics_51_pct', 'naics_52_pct', 'naics_53_pct', 'naics_54_pct',\n",
    "       'naics_55_pct', 'naics_56_pct', 'naics_61_pct', 'naics_62_pct',\n",
    "       'naics_71_pct', 'naics_72_pct', 'naics_81_pct', 'naics_99_pct']].mean().sort_values(ascending=False)"
   ]
  },
  {
   "cell_type": "markdown",
   "id": "6c50d63d",
   "metadata": {},
   "source": [
    "## Total Mid-Career Feature w/ Ages (25-34) Sharply Declining 2016-2017"
   ]
  },
  {
   "cell_type": "code",
   "execution_count": null,
   "id": "635b8ae3",
   "metadata": {},
   "outputs": [],
   "source": [
    "i = 0\n",
    "for curr_zip in data['zip'].unique():\n",
    "    i += 1\n",
    "    curr_data = data[data['zip']==curr_zip]\n",
    "    plt.plot(curr_data['year'], curr_data['total_midcareer (25-34)'], label=curr_zip)\n",
    "    \n",
    "    if i % 10 == 0:\n",
    "        plt.legend(loc='upper left', bbox_to_anchor=(1, 1))\n",
    "        plt.figure()\n",
    "    \n",
    "plt.legend(loc='upper left', bbox_to_anchor=(1, 1))"
   ]
  },
  {
   "cell_type": "markdown",
   "id": "70621ddd",
   "metadata": {},
   "source": [
    "## Total Mid-Career Feature w/ Ages (35-44) Sharply Rising 2016-2017"
   ]
  },
  {
   "cell_type": "code",
   "execution_count": null,
   "id": "cd0b1552",
   "metadata": {},
   "outputs": [],
   "source": [
    "i = 0\n",
    "for curr_zip in data['zip'].unique():\n",
    "    i += 1\n",
    "    curr_data = data[data['zip']==curr_zip]\n",
    "    plt.plot(curr_data['year'], curr_data['total_midcareer (35-44)'], label=curr_zip)\n",
    "    \n",
    "    if i % 10 == 0:\n",
    "        plt.legend(loc='upper left', bbox_to_anchor=(1, 1))\n",
    "        plt.figure()\n",
    "    \n",
    "plt.legend(loc='upper left', bbox_to_anchor=(1, 1))"
   ]
  },
  {
   "cell_type": "markdown",
   "id": "a710fe58",
   "metadata": {},
   "source": [
    "San Diego has had trouble retaining it's young adult population, as a result, we split the Mid-Career feature into two groups: 25-34 years and 35-44 years to try to gain more detailed insights."
   ]
  },
  {
   "cell_type": "markdown",
   "id": "3a4d4228",
   "metadata": {},
   "source": [
    "## Total Retirement Rising"
   ]
  },
  {
   "cell_type": "code",
   "execution_count": null,
   "id": "8bfc4849",
   "metadata": {},
   "outputs": [],
   "source": [
    "i = 0\n",
    "for curr_zip in data['zip'].unique():\n",
    "    i += 1\n",
    "    curr_data = data[data['zip']==curr_zip]\n",
    "    plt.plot(curr_data['year'], curr_data['total_retirement'], label=curr_zip)\n",
    "    \n",
    "    if i % 10 == 0:\n",
    "        plt.legend(loc='upper left', bbox_to_anchor=(1, 1))\n",
    "        plt.figure()\n",
    "    \n",
    "plt.legend(loc='upper left', bbox_to_anchor=(1, 1))"
   ]
  },
  {
   "cell_type": "markdown",
   "id": "eb41ad7c",
   "metadata": {},
   "source": [
    "### Sharp increase in Total Retirement population from 2016-2017. Large generation group entering retirement age?"
   ]
  },
  {
   "cell_type": "markdown",
   "id": "28c4cae4",
   "metadata": {},
   "source": [
    "## Median Household Income Rising"
   ]
  },
  {
   "cell_type": "code",
   "execution_count": null,
   "id": "e76589bf",
   "metadata": {},
   "outputs": [],
   "source": [
    "i = 0\n",
    "for curr_zip in data['zip'].unique():\n",
    "    i += 1\n",
    "    curr_data = data[data['zip']==curr_zip]\n",
    "    plt.plot(curr_data['year'], curr_data['median_hh_income'], label=curr_zip)\n",
    "    \n",
    "    if i % 10 == 0:\n",
    "        plt.legend(loc='upper left', bbox_to_anchor=(1, 1))\n",
    "        plt.figure()\n",
    "    \n",
    "plt.legend(loc='upper left', bbox_to_anchor=(1, 1))"
   ]
  },
  {
   "cell_type": "markdown",
   "id": "dc8f5736",
   "metadata": {},
   "source": [
    "## Population Not Changing Significantly"
   ]
  },
  {
   "cell_type": "code",
   "execution_count": null,
   "id": "1d32740d",
   "metadata": {},
   "outputs": [],
   "source": [
    "i = 0\n",
    "for curr_zip in data['zip'].unique():\n",
    "    i += 1\n",
    "    curr_data = data[data['zip']==curr_zip]\n",
    "    plt.plot(curr_data['year'], curr_data['total_population'], label=curr_zip)\n",
    "    \n",
    "    if i % 10 == 0:\n",
    "        plt.legend(loc='upper left', bbox_to_anchor=(1, 1))\n",
    "        plt.figure()\n",
    "    \n",
    "plt.legend(loc='upper left', bbox_to_anchor=(1, 1))"
   ]
  },
  {
   "cell_type": "markdown",
   "id": "c02c6ee6",
   "metadata": {},
   "source": [
    "## Annual Payroll Rising"
   ]
  },
  {
   "cell_type": "code",
   "execution_count": null,
   "id": "2de6d56b",
   "metadata": {},
   "outputs": [],
   "source": [
    "i = 0\n",
    "for curr_zip in data['zip'].unique():\n",
    "    i += 1\n",
    "    curr_data = data[data['zip']==curr_zip]\n",
    "    plt.plot(curr_data['year'], curr_data['ap'], label=curr_zip)\n",
    "    \n",
    "    if i % 10 == 0:\n",
    "        plt.legend(loc='upper left', bbox_to_anchor=(1, 1))\n",
    "        plt.figure()\n",
    "    \n",
    "plt.legend(loc='upper left', bbox_to_anchor=(1, 1))"
   ]
  },
  {
   "cell_type": "markdown",
   "id": "cc27a37f",
   "metadata": {},
   "source": [
    "## Unemployment Over The Years"
   ]
  },
  {
   "cell_type": "code",
   "execution_count": null,
   "id": "00feee73",
   "metadata": {},
   "outputs": [],
   "source": [
    "file_path = '../../src/data/raw/employment_data/employment.csv'\n",
    "employment_rate = pd.read_csv(file_path)\n",
    "\n",
    "# Only get the year\n",
    "employment_rate['year'] = pd.to_datetime(employment_rate['DATE']).dt.year\n",
    "\n",
    "employment_rate = employment_rate.drop(columns=['DATE','CASAND5URN_20240104'])\n",
    "\n",
    "employment_rate.rename(columns={'CASAND5URN_20231130': 'unemployment_rate'}, inplace=True)\n",
    "\n",
    "unemployment_by_year = employment_rate.groupby('year')['unemployment_rate'].mean().reset_index()\n",
    "\n",
    "\n",
    "unemployment_rate_over_years = unemployment_by_year.groupby('year')['unemployment_rate'].mean()\n",
    "\n",
    "\n",
    "plt.figure(figsize=(10, 6))\n",
    "unemployment_rate_over_years.plot(marker='o', linestyle='-', color='r')\n",
    "plt.title('Unemployment Rate Over the Years (2012 - 2021)')\n",
    "plt.xlabel('Year')\n",
    "plt.ylabel('Mean Unemployment Rate')\n",
    "plt.grid(True)\n",
    "plt.show()"
   ]
  },
  {
   "cell_type": "markdown",
   "id": "8454f373",
   "metadata": {},
   "source": [
    "## Establishment Growth"
   ]
  },
  {
   "cell_type": "code",
   "execution_count": null,
   "id": "58a44e0b",
   "metadata": {},
   "outputs": [],
   "source": [
    "sum_establishments_by_year = zbp_totals.groupby('year')['est'].sum().reset_index()\n",
    "\n",
    "plt.figure(figsize=(10, 6))\n",
    "plt.plot(sum_establishments_by_year['year'], sum_establishments_by_year['est'], marker='o', linestyle='-', color='b')\n",
    "plt.title('Establishments Growth (2012-2021)')\n",
    "plt.xlabel('Year')\n",
    "plt.ylabel('Establishments')\n",
    "plt.grid(True)\n",
    "plt.show()"
   ]
  },
  {
   "cell_type": "code",
   "execution_count": null,
   "id": "22c9f405",
   "metadata": {},
   "outputs": [],
   "source": []
  }
 ],
 "metadata": {
  "kernelspec": {
   "display_name": "Python 3 (ipykernel)",
   "language": "python",
   "name": "python3"
  },
  "language_info": {
   "codemirror_mode": {
    "name": "ipython",
    "version": 3
   },
   "file_extension": ".py",
   "mimetype": "text/x-python",
   "name": "python",
   "nbconvert_exporter": "python",
   "pygments_lexer": "ipython3",
   "version": "3.10.13"
  }
 },
 "nbformat": 4,
 "nbformat_minor": 5
}
