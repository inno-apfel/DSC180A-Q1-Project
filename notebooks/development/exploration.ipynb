{
 "cells": [
  {
   "cell_type": "code",
   "execution_count": 1,
   "id": "6738a148",
   "metadata": {},
   "outputs": [],
   "source": [
    "import numpy as np\n",
    "import pandas as pd\n",
    "\n",
    "import matplotlib.pyplot as plt"
   ]
  },
  {
   "cell_type": "markdown",
   "id": "fd26d9ae",
   "metadata": {},
   "source": [
    "# DATA"
   ]
  },
  {
   "cell_type": "code",
   "execution_count": 2,
   "id": "c259acf2",
   "metadata": {},
   "outputs": [
    {
     "data": {
      "text/html": [
       "<div>\n",
       "<style scoped>\n",
       "    .dataframe tbody tr th:only-of-type {\n",
       "        vertical-align: middle;\n",
       "    }\n",
       "\n",
       "    .dataframe tbody tr th {\n",
       "        vertical-align: top;\n",
       "    }\n",
       "\n",
       "    .dataframe thead th {\n",
       "        text-align: right;\n",
       "    }\n",
       "</style>\n",
       "<table border=\"1\" class=\"dataframe\">\n",
       "  <thead>\n",
       "    <tr style=\"text-align: right;\">\n",
       "      <th></th>\n",
       "      <th>zip</th>\n",
       "      <th>emp_nf</th>\n",
       "      <th>emp</th>\n",
       "      <th>qp1_nf</th>\n",
       "      <th>qp1</th>\n",
       "      <th>ap_nf</th>\n",
       "      <th>ap</th>\n",
       "      <th>est</th>\n",
       "      <th>year</th>\n",
       "      <th>naics_11_pct</th>\n",
       "      <th>...</th>\n",
       "      <th>naics_99_pct</th>\n",
       "      <th>n1_4_pct</th>\n",
       "      <th>n5_9_pct</th>\n",
       "      <th>n10_19_pct</th>\n",
       "      <th>n20_49_pct</th>\n",
       "      <th>n50_99_pct</th>\n",
       "      <th>n100_249_pct</th>\n",
       "      <th>n250_499_pct</th>\n",
       "      <th>n500_999_pct</th>\n",
       "      <th>n1000_pct</th>\n",
       "    </tr>\n",
       "  </thead>\n",
       "  <tbody>\n",
       "    <tr>\n",
       "      <th>0</th>\n",
       "      <td>91901</td>\n",
       "      <td>H</td>\n",
       "      <td>4141</td>\n",
       "      <td>H</td>\n",
       "      <td>36304</td>\n",
       "      <td>H</td>\n",
       "      <td>174786</td>\n",
       "      <td>391</td>\n",
       "      <td>2012</td>\n",
       "      <td>0.000000</td>\n",
       "      <td>...</td>\n",
       "      <td>0.0</td>\n",
       "      <td>0.649616</td>\n",
       "      <td>0.166240</td>\n",
       "      <td>0.107417</td>\n",
       "      <td>0.056266</td>\n",
       "      <td>0.010230</td>\n",
       "      <td>0.005115</td>\n",
       "      <td>0.002558</td>\n",
       "      <td>0.0</td>\n",
       "      <td>0.002558</td>\n",
       "    </tr>\n",
       "    <tr>\n",
       "      <th>1</th>\n",
       "      <td>91902</td>\n",
       "      <td>G</td>\n",
       "      <td>2265</td>\n",
       "      <td>G</td>\n",
       "      <td>19111</td>\n",
       "      <td>G</td>\n",
       "      <td>81569</td>\n",
       "      <td>349</td>\n",
       "      <td>2012</td>\n",
       "      <td>0.002865</td>\n",
       "      <td>...</td>\n",
       "      <td>0.0</td>\n",
       "      <td>0.641834</td>\n",
       "      <td>0.183381</td>\n",
       "      <td>0.094556</td>\n",
       "      <td>0.060172</td>\n",
       "      <td>0.017192</td>\n",
       "      <td>0.002865</td>\n",
       "      <td>0.000000</td>\n",
       "      <td>0.0</td>\n",
       "      <td>0.000000</td>\n",
       "    </tr>\n",
       "    <tr>\n",
       "      <th>2</th>\n",
       "      <td>91903</td>\n",
       "      <td>S</td>\n",
       "      <td>0</td>\n",
       "      <td>G</td>\n",
       "      <td>123</td>\n",
       "      <td>G</td>\n",
       "      <td>491</td>\n",
       "      <td>13</td>\n",
       "      <td>2012</td>\n",
       "      <td>0.000000</td>\n",
       "      <td>...</td>\n",
       "      <td>0.0</td>\n",
       "      <td>0.923077</td>\n",
       "      <td>0.076923</td>\n",
       "      <td>0.000000</td>\n",
       "      <td>0.000000</td>\n",
       "      <td>0.000000</td>\n",
       "      <td>0.000000</td>\n",
       "      <td>0.000000</td>\n",
       "      <td>0.0</td>\n",
       "      <td>0.000000</td>\n",
       "    </tr>\n",
       "    <tr>\n",
       "      <th>3</th>\n",
       "      <td>91905</td>\n",
       "      <td>G</td>\n",
       "      <td>19</td>\n",
       "      <td>S</td>\n",
       "      <td>0</td>\n",
       "      <td>H</td>\n",
       "      <td>748</td>\n",
       "      <td>9</td>\n",
       "      <td>2012</td>\n",
       "      <td>0.000000</td>\n",
       "      <td>...</td>\n",
       "      <td>0.0</td>\n",
       "      <td>0.777778</td>\n",
       "      <td>0.222222</td>\n",
       "      <td>0.000000</td>\n",
       "      <td>0.000000</td>\n",
       "      <td>0.000000</td>\n",
       "      <td>0.000000</td>\n",
       "      <td>0.000000</td>\n",
       "      <td>0.0</td>\n",
       "      <td>0.000000</td>\n",
       "    </tr>\n",
       "    <tr>\n",
       "      <th>4</th>\n",
       "      <td>91906</td>\n",
       "      <td>D</td>\n",
       "      <td>0</td>\n",
       "      <td>D</td>\n",
       "      <td>0</td>\n",
       "      <td>D</td>\n",
       "      <td>0</td>\n",
       "      <td>27</td>\n",
       "      <td>2012</td>\n",
       "      <td>0.000000</td>\n",
       "      <td>...</td>\n",
       "      <td>0.0</td>\n",
       "      <td>0.629630</td>\n",
       "      <td>0.222222</td>\n",
       "      <td>0.074074</td>\n",
       "      <td>0.037037</td>\n",
       "      <td>0.000000</td>\n",
       "      <td>0.000000</td>\n",
       "      <td>0.037037</td>\n",
       "      <td>0.0</td>\n",
       "      <td>0.000000</td>\n",
       "    </tr>\n",
       "  </tbody>\n",
       "</table>\n",
       "<p>5 rows × 38 columns</p>\n",
       "</div>"
      ],
      "text/plain": [
       "     zip emp_nf   emp qp1_nf    qp1 ap_nf      ap  est  year  naics_11_pct  \\\n",
       "0  91901      H  4141      H  36304     H  174786  391  2012      0.000000   \n",
       "1  91902      G  2265      G  19111     G   81569  349  2012      0.002865   \n",
       "2  91903      S     0      G    123     G     491   13  2012      0.000000   \n",
       "3  91905      G    19      S      0     H     748    9  2012      0.000000   \n",
       "4  91906      D     0      D      0     D       0   27  2012      0.000000   \n",
       "\n",
       "   ...  naics_99_pct  n1_4_pct  n5_9_pct  n10_19_pct  n20_49_pct  n50_99_pct  \\\n",
       "0  ...           0.0  0.649616  0.166240    0.107417    0.056266    0.010230   \n",
       "1  ...           0.0  0.641834  0.183381    0.094556    0.060172    0.017192   \n",
       "2  ...           0.0  0.923077  0.076923    0.000000    0.000000    0.000000   \n",
       "3  ...           0.0  0.777778  0.222222    0.000000    0.000000    0.000000   \n",
       "4  ...           0.0  0.629630  0.222222    0.074074    0.037037    0.000000   \n",
       "\n",
       "   n100_249_pct  n250_499_pct  n500_999_pct  n1000_pct  \n",
       "0      0.005115      0.002558           0.0   0.002558  \n",
       "1      0.002865      0.000000           0.0   0.000000  \n",
       "2      0.000000      0.000000           0.0   0.000000  \n",
       "3      0.000000      0.000000           0.0   0.000000  \n",
       "4      0.000000      0.037037           0.0   0.000000  \n",
       "\n",
       "[5 rows x 38 columns]"
      ]
     },
     "execution_count": 2,
     "metadata": {},
     "output_type": "execute_result"
    }
   ],
   "source": [
    "file_path = '../../src/data/temp/zbp_totals_with_features.csv'\n",
    "data = pd.read_csv(file_path)\n",
    "data.head()"
   ]
  },
  {
   "cell_type": "code",
   "execution_count": 3,
   "id": "e22712de",
   "metadata": {},
   "outputs": [
    {
     "data": {
      "text/plain": [
       "Index(['zip', 'emp_nf', 'emp', 'qp1_nf', 'qp1', 'ap_nf', 'ap', 'est', 'year',\n",
       "       'naics_11_pct', 'naics_21_pct', 'naics_22_pct', 'naics_23_pct',\n",
       "       'naics_31_pct', 'naics_42_pct', 'naics_44_pct', 'naics_48_pct',\n",
       "       'naics_51_pct', 'naics_52_pct', 'naics_53_pct', 'naics_54_pct',\n",
       "       'naics_55_pct', 'naics_56_pct', 'naics_61_pct', 'naics_62_pct',\n",
       "       'naics_71_pct', 'naics_72_pct', 'naics_81_pct', 'naics_99_pct',\n",
       "       'n1_4_pct', 'n5_9_pct', 'n10_19_pct', 'n20_49_pct', 'n50_99_pct',\n",
       "       'n100_249_pct', 'n250_499_pct', 'n500_999_pct', 'n1000_pct'],\n",
       "      dtype='object')"
      ]
     },
     "execution_count": 3,
     "metadata": {},
     "output_type": "execute_result"
    }
   ],
   "source": [
    "data.columns"
   ]
  },
  {
   "cell_type": "markdown",
   "id": "fc5a7fb0",
   "metadata": {},
   "source": [
    "# Exploratory Data Analysis"
   ]
  },
  {
   "cell_type": "markdown",
   "id": "7248881b",
   "metadata": {},
   "source": [
    "In below, we check for trends within the above features, Specifically how they change over time and coorelation with the number of establishments (est)\n",
    "\n",
    "Check the hypotheses from the paper that inspired our feature selection"
   ]
  },
  {
   "cell_type": "markdown",
   "id": "75d25b7d",
   "metadata": {},
   "source": [
    "## Coorelation Matrix"
   ]
  },
  {
   "cell_type": "code",
   "execution_count": null,
   "id": "ed3c0ab8",
   "metadata": {},
   "outputs": [],
   "source": [
    "corr = data.drop(columns=['emp_nf', 'qp1_nf', 'ap_nf']).corr()\n",
    "corr[['est']].sort_values('est', ascending=False).style.background_gradient(cmap='coolwarm')"
   ]
  },
  {
   "cell_type": "code",
   "execution_count": null,
   "id": "e340f252",
   "metadata": {
    "scrolled": false
   },
   "outputs": [],
   "source": [
    "i = 0\n",
    "for curr_zip in data['zip'].unique():\n",
    "    i += 1\n",
    "    curr_data = data[data['zip']==curr_zip]\n",
    "    plt.plot(curr_data['year'], curr_data['est'], label=curr_zip)\n",
    "    \n",
    "    if i % 10 == 0:\n",
    "        plt.legend(loc='upper left', bbox_to_anchor=(1, 1))\n",
    "        plt.figure()\n",
    "    \n",
    "plt.legend(loc='upper left', bbox_to_anchor=(1, 1))"
   ]
  },
  {
   "cell_type": "markdown",
   "id": "24ce4cf4",
   "metadata": {},
   "source": [
    "## Top Zipcodes"
   ]
  },
  {
   "cell_type": "code",
   "execution_count": null,
   "id": "bf521a6d",
   "metadata": {},
   "outputs": [],
   "source": [
    "data.groupby('zip')['est'].mean().sort_values(ascending=False).head(25).plot(kind='bar')"
   ]
  },
  {
   "cell_type": "code",
   "execution_count": null,
   "id": "01bb6856",
   "metadata": {},
   "outputs": [],
   "source": [
    "data.groupby('zip')['emp'].mean().sort_values(ascending=False).head(25).plot(kind='bar')"
   ]
  },
  {
   "cell_type": "code",
   "execution_count": null,
   "id": "4838d04e",
   "metadata": {
    "scrolled": false
   },
   "outputs": [],
   "source": [
    "data.groupby('zip')['ap'].mean().sort_values(ascending=False).head(25).plot(kind='bar')"
   ]
  },
  {
   "cell_type": "code",
   "execution_count": null,
   "id": "765b22d4",
   "metadata": {},
   "outputs": [],
   "source": [
    "data.groupby('zip')['median_hh_income'].mean().sort_values(ascending=False).head(25).plot(kind='bar')"
   ]
  },
  {
   "cell_type": "code",
   "execution_count": null,
   "id": "9791c898",
   "metadata": {},
   "outputs": [],
   "source": [
    "data.groupby('zip')['total_population'].mean().sort_values(ascending=False).head(25).plot(kind='bar')"
   ]
  },
  {
   "cell_type": "code",
   "execution_count": null,
   "id": "720c7cbc",
   "metadata": {},
   "outputs": [],
   "source": [
    "data.groupby('zip')['total_retirement'].mean().sort_values(ascending=False).head(25).plot(kind='bar')"
   ]
  },
  {
   "cell_type": "code",
   "execution_count": null,
   "id": "9bce14ff",
   "metadata": {},
   "outputs": [],
   "source": [
    "data.groupby('zip')['total_midcareer (25-34)'].mean().sort_values(ascending=False).head(25).plot(kind='bar')"
   ]
  },
  {
   "cell_type": "code",
   "execution_count": null,
   "id": "05c41d0f",
   "metadata": {},
   "outputs": [],
   "source": [
    "data.groupby('zip')['total_midcareer (35-44)'].mean().sort_values(ascending=False).head(25).plot(kind='bar')"
   ]
  },
  {
   "cell_type": "code",
   "execution_count": null,
   "id": "0cebab24",
   "metadata": {},
   "outputs": [],
   "source": [
    "data.groupby('zip')['n1_4_pct'].mean().sort_values(ascending=False).head(25).plot(kind='bar')"
   ]
  },
  {
   "cell_type": "code",
   "execution_count": null,
   "id": "3ee22c6e",
   "metadata": {},
   "outputs": [],
   "source": [
    "data.groupby('zip')['n1000_pct'].mean().sort_values(ascending=False).head(25).plot(kind='bar')"
   ]
  },
  {
   "cell_type": "code",
   "execution_count": null,
   "id": "aadfbd9d",
   "metadata": {},
   "outputs": [],
   "source": [
    "data.groupby('zip')['naics_55_pct'].mean().sort_values(ascending=False).head(25).plot(kind='bar')"
   ]
  },
  {
   "cell_type": "markdown",
   "id": "e5a18c5d",
   "metadata": {},
   "source": [
    "## Number of Mid-Career Adults"
   ]
  },
  {
   "cell_type": "code",
   "execution_count": null,
   "id": "1ce87842",
   "metadata": {
    "scrolled": true
   },
   "outputs": [],
   "source": [
    "data.groupby('zip')[['total_midcareer (25-34)', 'est']].mean().plot(kind='scatter', x='total_midcareer (25-34)', y='est')"
   ]
  },
  {
   "cell_type": "code",
   "execution_count": null,
   "id": "86dc861e",
   "metadata": {},
   "outputs": [],
   "source": [
    "data.groupby('zip')[['total_midcareer (35-44)', 'est']].mean().plot(kind='scatter', x='total_midcareer (35-44)', y='est')"
   ]
  },
  {
   "cell_type": "markdown",
   "id": "1cb271da",
   "metadata": {},
   "source": [
    "## Greater Personal Wealth"
   ]
  },
  {
   "cell_type": "code",
   "execution_count": null,
   "id": "dabdf528",
   "metadata": {},
   "outputs": [],
   "source": [
    "data.groupby('zip')[['median_hh_income', 'est']].mean().plot(kind='scatter', x='median_hh_income', y='est')"
   ]
  },
  {
   "cell_type": "markdown",
   "id": "15d3a143",
   "metadata": {},
   "source": [
    "## Population Growth"
   ]
  },
  {
   "cell_type": "code",
   "execution_count": null,
   "id": "3ac8d675",
   "metadata": {},
   "outputs": [],
   "source": [
    "data.groupby('zip')[['emp', 'est']].mean().plot(kind='scatter', x='emp', y='est')"
   ]
  },
  {
   "cell_type": "markdown",
   "id": "1b6c9ec6",
   "metadata": {},
   "source": [
    "## Economic Diversity = More Smaller Organizations"
   ]
  },
  {
   "cell_type": "code",
   "execution_count": null,
   "id": "7156dea7",
   "metadata": {},
   "outputs": [],
   "source": [
    "data.groupby('zip')[['n1_4_pct', 'est']].mean().plot(kind='scatter', x='n1_4_pct', y='est')"
   ]
  },
  {
   "cell_type": "code",
   "execution_count": null,
   "id": "c8129de8",
   "metadata": {},
   "outputs": [],
   "source": [
    "data.groupby('zip')[['ap', 'est']].mean().plot(kind='scatter', x='ap', y='est')"
   ]
  },
  {
   "cell_type": "markdown",
   "id": "2ac18fdd",
   "metadata": {},
   "source": [
    "## Distribution of Business Sizes"
   ]
  },
  {
   "cell_type": "code",
   "execution_count": null,
   "id": "34670595",
   "metadata": {},
   "outputs": [],
   "source": [
    "data[['n1_4_pct', 'n5_9_pct', 'n10_19_pct', 'n20_49_pct', 'n50_99_pct',\n",
    "       'n100_249_pct', 'n250_499_pct', 'n500_999_pct', 'n1000_pct']].mean()"
   ]
  },
  {
   "cell_type": "markdown",
   "id": "8601ddcc",
   "metadata": {},
   "source": [
    "## Distrubution of Business Industries"
   ]
  },
  {
   "cell_type": "code",
   "execution_count": null,
   "id": "b0682b18",
   "metadata": {},
   "outputs": [],
   "source": [
    "data[['naics_11_pct', 'naics_21_pct', 'naics_22_pct', 'naics_23_pct',\n",
    "       'naics_31_pct', 'naics_42_pct', 'naics_44_pct', 'naics_48_pct',\n",
    "       'naics_51_pct', 'naics_52_pct', 'naics_53_pct', 'naics_54_pct',\n",
    "       'naics_55_pct', 'naics_56_pct', 'naics_61_pct', 'naics_62_pct',\n",
    "       'naics_71_pct', 'naics_72_pct', 'naics_81_pct', 'naics_99_pct']].mean().sort_values(ascending=False)"
   ]
  },
  {
   "cell_type": "markdown",
   "id": "6c50d63d",
   "metadata": {},
   "source": [
    "## Total Mid-Career Feature w/ Ages (25-34) Sharply Declining 2016-2017"
   ]
  },
  {
   "cell_type": "code",
   "execution_count": null,
   "id": "635b8ae3",
   "metadata": {},
   "outputs": [],
   "source": [
    "i = 0\n",
    "for curr_zip in data['zip'].unique():\n",
    "    i += 1\n",
    "    curr_data = data[data['zip']==curr_zip]\n",
    "    plt.plot(curr_data['year'], curr_data['total_midcareer (25-34)'], label=curr_zip)\n",
    "    \n",
    "    if i % 10 == 0:\n",
    "        plt.legend(loc='upper left', bbox_to_anchor=(1, 1))\n",
    "        plt.figure()\n",
    "    \n",
    "plt.legend(loc='upper left', bbox_to_anchor=(1, 1))"
   ]
  },
  {
   "cell_type": "markdown",
   "id": "70621ddd",
   "metadata": {},
   "source": [
    "## Total Mid-Career Feature w/ Ages (35-44) Sharply Rising 2016-2017"
   ]
  },
  {
   "cell_type": "code",
   "execution_count": null,
   "id": "cd0b1552",
   "metadata": {},
   "outputs": [],
   "source": [
    "i = 0\n",
    "for curr_zip in data['zip'].unique():\n",
    "    i += 1\n",
    "    curr_data = data[data['zip']==curr_zip]\n",
    "    plt.plot(curr_data['year'], curr_data['total_midcareer (35-44)'], label=curr_zip)\n",
    "    \n",
    "    if i % 10 == 0:\n",
    "        plt.legend(loc='upper left', bbox_to_anchor=(1, 1))\n",
    "        plt.figure()\n",
    "    \n",
    "plt.legend(loc='upper left', bbox_to_anchor=(1, 1))"
   ]
  },
  {
   "cell_type": "markdown",
   "id": "a710fe58",
   "metadata": {},
   "source": [
    "San Diego has had trouble retaining it's young adult population, as a result, we split the Mid-Career feature into two groups: 25-34 years and 35-44 years to try to gain more detailed insights."
   ]
  },
  {
   "cell_type": "markdown",
   "id": "3a4d4228",
   "metadata": {},
   "source": [
    "## Total Retirement Rising"
   ]
  },
  {
   "cell_type": "code",
   "execution_count": null,
   "id": "8bfc4849",
   "metadata": {},
   "outputs": [],
   "source": [
    "i = 0\n",
    "for curr_zip in data['zip'].unique():\n",
    "    i += 1\n",
    "    curr_data = data[data['zip']==curr_zip]\n",
    "    plt.plot(curr_data['year'], curr_data['total_retirement'], label=curr_zip)\n",
    "    \n",
    "    if i % 10 == 0:\n",
    "        plt.legend(loc='upper left', bbox_to_anchor=(1, 1))\n",
    "        plt.figure()\n",
    "    \n",
    "plt.legend(loc='upper left', bbox_to_anchor=(1, 1))"
   ]
  },
  {
   "cell_type": "markdown",
   "id": "eb41ad7c",
   "metadata": {},
   "source": [
    "### Sharp increase in Total Retirement population from 2016-2017. Large generation group entering retirement age?"
   ]
  },
  {
   "cell_type": "markdown",
   "id": "28c4cae4",
   "metadata": {},
   "source": [
    "## Median Household Income Rising"
   ]
  },
  {
   "cell_type": "code",
   "execution_count": null,
   "id": "e76589bf",
   "metadata": {},
   "outputs": [],
   "source": [
    "i = 0\n",
    "for curr_zip in data['zip'].unique():\n",
    "    i += 1\n",
    "    curr_data = data[data['zip']==curr_zip]\n",
    "    plt.plot(curr_data['year'], curr_data['median_hh_income'], label=curr_zip)\n",
    "    \n",
    "    if i % 10 == 0:\n",
    "        plt.legend(loc='upper left', bbox_to_anchor=(1, 1))\n",
    "        plt.figure()\n",
    "    \n",
    "plt.legend(loc='upper left', bbox_to_anchor=(1, 1))"
   ]
  },
  {
   "cell_type": "markdown",
   "id": "dc8f5736",
   "metadata": {},
   "source": [
    "## Population Not Changing Significantly"
   ]
  },
  {
   "cell_type": "code",
   "execution_count": null,
   "id": "1d32740d",
   "metadata": {},
   "outputs": [],
   "source": [
    "i = 0\n",
    "for curr_zip in data['zip'].unique():\n",
    "    i += 1\n",
    "    curr_data = data[data['zip']==curr_zip]\n",
    "    plt.plot(curr_data['year'], curr_data['total_population'], label=curr_zip)\n",
    "    \n",
    "    if i % 10 == 0:\n",
    "        plt.legend(loc='upper left', bbox_to_anchor=(1, 1))\n",
    "        plt.figure()\n",
    "    \n",
    "plt.legend(loc='upper left', bbox_to_anchor=(1, 1))"
   ]
  },
  {
   "cell_type": "markdown",
   "id": "c02c6ee6",
   "metadata": {},
   "source": [
    "## Annual Payroll Rising"
   ]
  },
  {
   "cell_type": "code",
   "execution_count": null,
   "id": "2de6d56b",
   "metadata": {},
   "outputs": [],
   "source": [
    "i = 0\n",
    "for curr_zip in data['zip'].unique():\n",
    "    i += 1\n",
    "    curr_data = data[data['zip']==curr_zip]\n",
    "    plt.plot(curr_data['year'], curr_data['ap'], label=curr_zip)\n",
    "    \n",
    "    if i % 10 == 0:\n",
    "        plt.legend(loc='upper left', bbox_to_anchor=(1, 1))\n",
    "        plt.figure()\n",
    "    \n",
    "plt.legend(loc='upper left', bbox_to_anchor=(1, 1))"
   ]
  },
  {
   "cell_type": "markdown",
   "id": "47b27786",
   "metadata": {},
   "source": [
    "## Unemployment Over The Years"
   ]
  },
  {
   "cell_type": "code",
   "execution_count": 57,
   "id": "ea2685a4",
   "metadata": {},
   "outputs": [
    {
     "data": {
      "image/png": "[encoded data removed]",
      "text/plain": [
       "<Figure size 1000x600 with 1 Axes>"
      ]
     },
     "metadata": {},
     "output_type": "display_data"
    }
   ],
   "source": [
    "file_path = '../../src/data/raw/employment_data/employment.csv'\n",
    "employment_rate = pd.read_csv(file_path)\n",
    "\n",
    "# Only get the year\n",
    "employment_rate['year'] = pd.to_datetime(employment_rate['DATE']).dt.year\n",
    "\n",
    "employment_rate = employment_rate.drop(columns=['DATE','CASAND5URN_20240104'])\n",
    "\n",
    "employment_rate.rename(columns={'CASAND5URN_20231130': 'unemployment_rate'}, inplace=True)\n",
    "\n",
    "unemployment_by_year = employment_rate.groupby('year')['unemployment_rate'].mean().reset_index()\n",
    "\n",
    "\n",
    "unemployment_rate_over_years = unemployment_by_year.groupby('year')['unemployment_rate'].mean()\n",
    "\n",
    "\n",
    "plt.figure(figsize=(10, 6))\n",
    "unemployment_rate_over_years.plot(marker='o', linestyle='-', color='r')\n",
    "plt.title('Unemployment Rate Over the Years (2012 - 2021)')\n",
    "plt.xlabel('Year')\n",
    "plt.ylabel('Mean Unemployment Rate')\n",
    "plt.grid(True)\n",
    "plt.show()"
   ]
  },
  {
   "cell_type": "markdown",
   "id": "0cb72216",
   "metadata": {},
   "source": [
    "## Establishment Growth"
   ]
  },
  {
   "cell_type": "code",
   "execution_count": 56,
   "id": "25d37f5a",
   "metadata": {},
   "outputs": [
    {
     "data": {
      "image/png": "[encoded data removed]",
      "text/plain": [
       "<Figure size 1000x600 with 1 Axes>"
      ]
     },
     "metadata": {},
     "output_type": "display_data"
    }
   ],
   "source": [
    "sum_establishments_by_year = zbp_totals.groupby('year')['est'].sum().reset_index()\n",
    "\n",
    "plt.figure(figsize=(10, 6))\n",
    "plt.plot(sum_establishments_by_year['year'], sum_establishments_by_year['est'], marker='o', linestyle='-', color='b')\n",
    "plt.title('Establishments Growth (2012-2021)')\n",
    "plt.xlabel('Year')\n",
    "plt.ylabel('Establishments')\n",
    "plt.grid(True)\n",
    "plt.show()"
   ]
  },
  {
   "cell_type": "code",
   "execution_count": null,
   "id": "e25f5439",
   "metadata": {},
   "outputs": [],
   "source": []
  }
 ],
 "metadata": {
  "kernelspec": {
   "display_name": "Python 3 (ipykernel)",
   "language": "python",
   "name": "python3"
  },
  "language_info": {
   "codemirror_mode": {
    "name": "ipython",
    "version": 3
   },
   "file_extension": ".py",
   "mimetype": "text/x-python",
   "name": "python",
   "nbconvert_exporter": "python",
   "pygments_lexer": "ipython3",
   "version": "3.10.13"
  }
 },
 "nbformat": 4,
 "nbformat_minor": 5
}
