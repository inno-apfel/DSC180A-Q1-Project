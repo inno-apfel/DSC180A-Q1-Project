{
 "cells": [
  {
   "cell_type": "code",
   "execution_count": null,
   "id": "6738a148",
   "metadata": {},
   "outputs": [],
   "source": [
    "import numpy as np\n",
    "import pandas as pd\n",
    "\n",
    "import matplotlib.pyplot as plt"
   ]
  },
  {
   "cell_type": "markdown",
   "id": "fd26d9ae",
   "metadata": {},
   "source": [
    "# DATA"
   ]
  },
  {
   "cell_type": "code",
   "execution_count": null,
   "id": "c259acf2",
   "metadata": {},
   "outputs": [],
   "source": [
    "file_path = '../../src/data/temp/processed_zbp_detail_data.csv'\n",
    "zbp_detail = pd.read_csv(file_path)\n",
    "zbp_detail.head()"
   ]
  },
  {
   "cell_type": "code",
   "execution_count": null,
   "id": "ecd34114",
   "metadata": {},
   "outputs": [],
   "source": [
    "file_path = '../../src/data/temp/processed_zbp_totals_data.csv'\n",
    "zbp_totals = pd.read_csv(file_path)\n",
    "zbp_totals.head()"
   ]
  },
  {
   "cell_type": "code",
   "execution_count": null,
   "id": "bcaa342a",
   "metadata": {},
   "outputs": [],
   "source": [
    "naics_mapping = {11: 'Agriculture, Forestry, Fishing and Hunting',\n",
    "                 21: 'Mining',\n",
    "                 22: 'Utilities',\n",
    "                 23: 'Construction', \n",
    "                 31: 'Manufacturing',\n",
    "                 32: 'Manufacturing',\n",
    "                 33: 'Manufacturing',\n",
    "                 42: 'Wholesale Trade',\n",
    "                 44: 'Retail Trade',\n",
    "                 45: 'Retail Trade',\n",
    "                 48: 'Transportation and Warehousing',\n",
    "                 49: 'Transportation and Warehousing',\n",
    "                 51: 'Information',\n",
    "                 52: 'Finance and Insurance',\n",
    "                 53: 'Real Estate Rental and Leasing',\n",
    "                 54: 'Professional, Scientific, and Technical Services',\n",
    "                 55: 'Management of Companies and Enterprises',\n",
    "                 56: 'Administrative and Support and Waste… Services',\n",
    "                 61: 'Educational Services',\n",
    "                 62: 'Health Care and Social Assistance',\n",
    "                 71: 'Arts, Entertainment, and Recreation',\n",
    "                 72: 'Accommodation and Food Services',\n",
    "                 81: 'Other Services (except Public Administration)',\n",
    "                 92: 'Public Administration',\n",
    "                 99: 'Nonclassifiable Establishments'} "
   ]
  },
  {
   "cell_type": "markdown",
   "id": "83939c40",
   "metadata": {},
   "source": [
    "# Changes Over-Time: Zip-Code"
   ]
  },
  {
   "cell_type": "code",
   "execution_count": null,
   "id": "704bbff8",
   "metadata": {},
   "outputs": [],
   "source": [
    "temp = zbp_detail.groupby(['year', 'zip'])['est'].sum()\n",
    "temp = temp.unstack()\n",
    "temp = temp.sort_values(by=2012, axis=1, ascending=False)\n",
    "\n",
    "counter = 0\n",
    "for i in np.arange(0, temp.shape[1], 20):\n",
    "    if counter >= 6:\n",
    "        break\n",
    "    ax = temp.iloc[:,i:i+20].plot()\n",
    "    ax.legend(loc='center left', bbox_to_anchor=(1, 0.5))\n",
    "    counter += 1"
   ]
  },
  {
   "cell_type": "markdown",
   "id": "3784e10f",
   "metadata": {},
   "source": [
    "# Changes Over-Time: Industry"
   ]
  },
  {
   "cell_type": "code",
   "execution_count": null,
   "id": "693901a9",
   "metadata": {},
   "outputs": [],
   "source": [
    "temp = zbp_detail.groupby(['year', 'naics'])['est'].sum()\n",
    "ax = temp.unstack().plot()\n",
    "ax.legend(loc='center left', bbox_to_anchor=(1, 0.5), labels=[naics_mapping[col] for col in temp.unstack().columns])"
   ]
  },
  {
   "cell_type": "markdown",
   "id": "08c8d87e",
   "metadata": {},
   "source": [
    "# Check Highest Growth Establishment Sizes"
   ]
  },
  {
   "cell_type": "code",
   "execution_count": null,
   "id": "ac496a51",
   "metadata": {},
   "outputs": [],
   "source": [
    "temp = zbp_detail.groupby(['year'])[['n1_4', 'n5_9', 'n10_19', 'n20_49', 'n50_99', 'n100_249', 'n250_499', 'n500_999', 'n1000']].sum()\n",
    "ax = temp.plot()\n",
    "ax.legend(loc='center left', bbox_to_anchor=(1, 0.5))"
   ]
  },
  {
   "cell_type": "code",
   "execution_count": null,
   "id": "aa230303",
   "metadata": {},
   "outputs": [],
   "source": []
  }
 ],
 "metadata": {
  "kernelspec": {
   "display_name": "Python 3 (ipykernel)",
   "language": "python",
   "name": "python3"
  },
  "language_info": {
   "codemirror_mode": {
    "name": "ipython",
    "version": 3
   },
   "file_extension": ".py",
   "mimetype": "text/x-python",
   "name": "python",
   "nbconvert_exporter": "python",
   "pygments_lexer": "ipython3",
   "version": "3.10.10"
  }
 },
 "nbformat": 4,
 "nbformat_minor": 5
}
