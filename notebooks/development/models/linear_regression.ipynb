{
 "cells": [
  {
   "cell_type": "code",
   "execution_count": null,
   "id": "74534f7a",
   "metadata": {},
   "outputs": [],
   "source": [
    "import numpy as np\n",
    "import pandas as pd\n",
    "\n",
    "from sklearn.model_selection import train_test_split\n",
    "from sklearn.linear_model import LinearRegression\n",
    "from sklearn.metrics import mean_squared_error\n",
    "from sklearn.preprocessing import StandardScaler\n",
    "from sklearn.pipeline import Pipeline\n",
    "from sklearn.compose import ColumnTransformer\n",
    "from sklearn.preprocessing import OneHotEncoder\n",
    "\n",
    "import statsmodels.api as sm"
   ]
  },
  {
   "cell_type": "code",
   "execution_count": null,
   "id": "32f58e69",
   "metadata": {},
   "outputs": [],
   "source": [
    "### zbp total with features data\n",
    "file_path = '../../../src/data/temp/lagged_zbp_totals_with_features.csv'\n",
    "data = pd.read_csv(file_path)"
   ]
  },
  {
   "cell_type": "markdown",
   "id": "84cf93bc",
   "metadata": {},
   "source": [
    "## Correlation Matrix"
   ]
  },
  {
   "cell_type": "code",
   "execution_count": null,
   "id": "7421ab05",
   "metadata": {
    "scrolled": true
   },
   "outputs": [],
   "source": [
    "numeric_columns = data.select_dtypes(include=['number']).columns\n",
    "selected_df = data[numeric_columns]\n",
    "\n",
    "correlation_matrix = selected_df.corr()"
   ]
  },
  {
   "cell_type": "code",
   "execution_count": null,
   "id": "6e2893c7",
   "metadata": {
    "scrolled": true
   },
   "outputs": [],
   "source": [
    "correlation_matrix.head()"
   ]
  },
  {
   "cell_type": "code",
   "execution_count": null,
   "id": "c7ddc155",
   "metadata": {
    "scrolled": true
   },
   "outputs": [],
   "source": [
    "correlation_with_est = correlation_matrix['est'].sort_values(ascending=False)\n",
    "\n",
    "top_5_features = correlation_with_est.head(6)[1:]  # Excluding 'est' \n",
    "\n",
    "print(top_5_features)"
   ]
  },
  {
   "cell_type": "markdown",
   "id": "43a232af",
   "metadata": {},
   "source": [
    "# DROP NON-NUMERICAL"
   ]
  },
  {
   "cell_type": "code",
   "execution_count": null,
   "id": "cb78c2c1",
   "metadata": {},
   "outputs": [],
   "source": [
    "non_numerical_cols = data.select_dtypes(exclude=['int64', 'float64']).columns\n",
    "data = data.drop(columns=non_numerical_cols)\n",
    "data.head(1)"
   ]
  },
  {
   "cell_type": "markdown",
   "id": "5be7e9a3",
   "metadata": {},
   "source": [
    "# TRAIN-TEST SPLIT"
   ]
  },
  {
   "cell_type": "code",
   "execution_count": null,
   "id": "6d6401bb",
   "metadata": {},
   "outputs": [],
   "source": [
    "end_year = 2020\n",
    "data_train = data[data['year'] <= end_year]\n",
    "data_test = data[data['year'] > end_year]"
   ]
  },
  {
   "cell_type": "markdown",
   "id": "e45e6e91",
   "metadata": {},
   "source": [
    "# STANDARDIZATION"
   ]
  },
  {
   "cell_type": "code",
   "execution_count": null,
   "id": "ba71bb36",
   "metadata": {},
   "outputs": [],
   "source": [
    "train_mean = data_train.mean()\n",
    "train_mean.loc['zip'] = 0\n",
    "\n",
    "train_std = data_train.std()\n",
    "train_std.loc['zip'] = 1"
   ]
  },
  {
   "cell_type": "code",
   "execution_count": null,
   "id": "cbd62ffb",
   "metadata": {},
   "outputs": [],
   "source": [
    "data_train = (data_train - train_mean) / train_std\n",
    "data_train.head(1)"
   ]
  },
  {
   "cell_type": "code",
   "execution_count": null,
   "id": "3f20d2db",
   "metadata": {},
   "outputs": [],
   "source": [
    "data_test = (data_test - train_mean) / train_std\n",
    "data_test.head(1)"
   ]
  },
  {
   "cell_type": "markdown",
   "id": "49368978",
   "metadata": {},
   "source": [
    "# MODEL"
   ]
  },
  {
   "cell_type": "code",
   "execution_count": null,
   "id": "fd41b330",
   "metadata": {},
   "outputs": [],
   "source": [
    "preproc = ColumnTransformer([('onehots', OneHotEncoder(handle_unknown='ignore'), ['zip'])]\n",
    "                             ,remainder = 'passthrough')\n",
    "pl = Pipeline(steps=[('preproc', preproc), ('lr', LinearRegression(n_jobs=-1))])"
   ]
  },
  {
   "cell_type": "markdown",
   "id": "15bc1317",
   "metadata": {},
   "source": [
    "# TESTING"
   ]
  },
  {
   "cell_type": "code",
   "execution_count": null,
   "id": "057023aa",
   "metadata": {},
   "outputs": [],
   "source": [
    "def unstandardize_series(ser, mean, std):\n",
    "    return (ser*std)+mean"
   ]
  },
  {
   "cell_type": "code",
   "execution_count": null,
   "id": "6d829cf7",
   "metadata": {},
   "outputs": [],
   "source": [
    "def fit_eval(model, data_train, data_test, included_feats):\n",
    "    X_train = data_train[included_feats]\n",
    "    y_train = data_train['est']\n",
    "    X_test = data_test[included_feats]\n",
    "    y_test = data_test['est']\n",
    "    \n",
    "    pl.fit(X_train, y_train)\n",
    "    \n",
    "    y_preds = pl.predict(X_train)\n",
    "    inverted_y_train = unstandardize_series(y_train, train_mean['est'], train_std['est'])\n",
    "    inverted_y_preds = unstandardize_series(y_preds, train_mean['est'], train_std['est'])\n",
    "    train_rmse = mean_squared_error(inverted_y_train, inverted_y_preds, squared=False)\n",
    "    \n",
    "    y_preds = pl.predict(X_test)\n",
    "    inverted_y_test = unstandardize_series(y_test, train_mean['est'], train_std['est'])\n",
    "    inverted_y_preds = unstandardize_series(y_preds, train_mean['est'], train_std['est'])\n",
    "    test_rmse = mean_squared_error(inverted_y_test, inverted_y_preds, squared=False)\n",
    "    \n",
    "    return pl, train_rmse, test_rmse"
   ]
  },
  {
   "cell_type": "markdown",
   "id": "1b79c523",
   "metadata": {},
   "source": [
    "# Using All Features"
   ]
  },
  {
   "cell_type": "code",
   "execution_count": null,
   "id": "3808c2c5",
   "metadata": {},
   "outputs": [],
   "source": [
    "pl, train_rmse, test_rmse = fit_eval(pl, data_train, data_test, data.columns.drop(['est']))\n",
    "print('train_rmse: ', train_rmse)\n",
    "print('test_rmse: ', test_rmse)"
   ]
  },
  {
   "cell_type": "markdown",
   "id": "a7c9cfaa",
   "metadata": {},
   "source": [
    "## Using the Top 5 Features From Correlation Matrix"
   ]
  },
  {
   "cell_type": "code",
   "execution_count": null,
   "id": "e6ce152b",
   "metadata": {},
   "outputs": [],
   "source": [
    "top_5_features = correlation_with_est.head(6)[1:]\n",
    "included_feats = top_5_features.index.append(pd.Index(['zip']))\n",
    "\n",
    "pl, train_rmse, test_rmse = fit_eval(pl, data_train, data_test, included_feats)\n",
    "print('train_rmse: ', train_rmse)\n",
    "print('test_rmse: ', test_rmse)"
   ]
  },
  {
   "cell_type": "markdown",
   "id": "80a2b316",
   "metadata": {},
   "source": [
    "## Using the Top 10 Features"
   ]
  },
  {
   "cell_type": "code",
   "execution_count": null,
   "id": "538685f1",
   "metadata": {},
   "outputs": [],
   "source": [
    "top_10_features = correlation_with_est.head(11)[1:]\n",
    "included_feats = top_10_features.index.append(pd.Index(['zip']))\n",
    "\n",
    "pl, train_rmse, test_rmse = fit_eval(pl, data_train, data_test, included_feats)\n",
    "print('train_rmse: ', train_rmse)\n",
    "print('test_rmse: ', test_rmse)"
   ]
  },
  {
   "cell_type": "markdown",
   "id": "214640fb",
   "metadata": {},
   "source": [
    "# Fixed Effect Model"
   ]
  },
  {
   "cell_type": "code",
   "execution_count": null,
   "id": "0ac6c3e0",
   "metadata": {
    "scrolled": true
   },
   "outputs": [],
   "source": [
    "# Standardize Data\n",
    "std_data = (data-train_mean)/train_std\n",
    "std_data = data\n",
    "\n",
    "# Create dummy variables for each ZIP code\n",
    "dummies = pd.get_dummies(std_data['zip'], drop_first=True).astype(int)\n",
    "\n",
    "# Concatenate the dummy variables with the original data\n",
    "data_panel = pd.concat([std_data.drop(columns=['zip']), dummies], axis=1)\n",
    "\n",
    "X = data_panel.drop(columns=['est']) \n",
    "y = data_panel['est']  # Dependent variable predicting establishment growth\n",
    "\n",
    "# Constant term to the independent variables\n",
    "X = sm.add_constant(X)\n",
    "\n",
    "model = sm.OLS(y, X).fit()\n",
    "\n",
    "print(model.summary())"
   ]
  },
  {
   "cell_type": "markdown",
   "id": "7608bc9e",
   "metadata": {},
   "source": [
    "## Statistically Significant Values"
   ]
  },
  {
   "cell_type": "markdown",
   "id": "dc5001aa",
   "metadata": {},
   "source": [
    "- em with a p-value of 0.0000\n",
    "- ap with a p-value of 0.006\n",
    "- n1_4_pct with a p-value < 0.000\n",
    "- n5_9_pct with a p-value < 0.000\n",
    "- n10_19_pct with a p-value < 0.000\n",
    "- n20_49_pct with a p-value < 0.000\n",
    "- n50_99_pct with a p-value < 0.000"
   ]
  },
  {
   "cell_type": "markdown",
   "id": "04c6cb90",
   "metadata": {},
   "source": [
    "## Interesting Zip Code"
   ]
  },
  {
   "cell_type": "markdown",
   "id": "75145991",
   "metadata": {},
   "source": [
    "### - 91910 p-value (0.744)\n",
    "### - 91911 p-value (0.385)"
   ]
  },
  {
   "cell_type": "markdown",
   "id": "1f7b266e",
   "metadata": {},
   "source": [
    "This output indicates that the model has a high R-squared value **(0.998)**, suggesting that the independent variables explain a large portion of the variance in the dependent variable."
   ]
  },
  {
   "cell_type": "markdown",
   "id": "03732f01",
   "metadata": {},
   "source": [
    "# Random Effect Model"
   ]
  },
  {
   "cell_type": "code",
   "execution_count": null,
   "id": "a4299f4f",
   "metadata": {},
   "outputs": [],
   "source": [
    "X = data_panel.drop(columns=['est']) \n",
    "y = data_panel['est']  \n",
    "\n",
    "X = sm.add_constant(X)\n",
    "\n",
    "model = sm.regression.mixed_linear_model.MixedLM(y, X, groups=std_data['zip'])\n",
    "\n",
    "# Specify the optimizer (e.g., 'nm' for Nelder-Mead)\n",
    "optimizer = 'nm'\n",
    "\n",
    "iterations = 1000\n",
    "\n",
    "mixed_model_fit = model.fit(method=optimizer, maxiter=iterations)\n",
    "\n",
    "print(mixed_model_fit.summary())"
   ]
  },
  {
   "cell_type": "markdown",
   "id": "8ff36966",
   "metadata": {},
   "source": [
    "## Statistically Significant Values"
   ]
  },
  {
   "cell_type": "markdown",
   "id": "8b58d718",
   "metadata": {},
   "source": [
    "- ap with p-value 0.006\n",
    "- n1_4_pct with p-value 0.000\n",
    "- n5_9_pct with p-value 0.000\n",
    "- n10_19_pct with p-value 0.000\n",
    "- n20_49_pct with p-value 0.000\n",
    "- All zipcodes"
   ]
  },
  {
   "cell_type": "markdown",
   "id": "0dfc6bc2",
   "metadata": {},
   "source": [
    "## Summary "
   ]
  },
  {
   "cell_type": "markdown",
   "id": "615b681f",
   "metadata": {},
   "source": [
    "**Significance of the individual-specific effects**: The p-values for the individual-specific effects in the fixed effects model are statistically significant, indicating that there is likely unobserved heterogeneity at the individual level that affects the outcome variable. Suggesting that there are **individual-specific** characteristics or factors that are important to consider and control for in your analysis.\n",
    "\n",
    "**Adjusted R-squared**: The adjusted R-squared value for the fixed effects model is higher compared to the random effects model. This suggests that the fixed effects model explains a greater proportion of the variation in the outcome variable."
   ]
  },
  {
   "cell_type": "markdown",
   "id": "2b1192ca",
   "metadata": {},
   "source": [
    "Overall **fixed effect model** seems better for the data"
   ]
  },
  {
   "cell_type": "code",
   "execution_count": null,
   "id": "e27665ba",
   "metadata": {},
   "outputs": [],
   "source": []
  }
 ],
 "metadata": {
  "kernelspec": {
   "display_name": "Python 3 (ipykernel)",
   "language": "python",
   "name": "python3"
  },
  "language_info": {
   "codemirror_mode": {
    "name": "ipython",
    "version": 3
   },
   "file_extension": ".py",
   "mimetype": "text/x-python",
   "name": "python",
   "nbconvert_exporter": "python",
   "pygments_lexer": "ipython3",
   "version": "3.10.13"
  }
 },
 "nbformat": 4,
 "nbformat_minor": 5
}
