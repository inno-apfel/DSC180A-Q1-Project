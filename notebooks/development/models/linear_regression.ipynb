{
 "cells": [
  {
   "cell_type": "code",
   "execution_count": null,
   "id": "74534f7a",
   "metadata": {},
   "outputs": [],
   "source": [
    "import numpy as np\n",
    "import pandas as pd\n",
    "\n",
    "from sklearn.model_selection import train_test_split\n",
    "from sklearn.linear_model import LinearRegression\n",
    "from sklearn.metrics import mean_squared_error\n",
    "import statsmodels.api as sm"
   ]
  },
  {
   "cell_type": "code",
   "execution_count": null,
   "id": "32f58e69",
   "metadata": {},
   "outputs": [],
   "source": [
    "### zbp total with features data\n",
    "file_path = '../../../src/data/temp/lagged_zbp_totals_with_features.csv'\n",
    "data = pd.read_csv(file_path)\n",
    "\n",
    "## unemployment data\n",
    "file_path = '../../../src/data/temp/processed_unemployment_data.csv'\n",
    "unemployment_data = pd.read_csv(file_path)"
   ]
  },
  {
   "cell_type": "markdown",
   "id": "84cf93bc",
   "metadata": {},
   "source": [
    "## Correlation Matrix"
   ]
  },
  {
   "cell_type": "code",
   "execution_count": null,
   "id": "7421ab05",
   "metadata": {
    "scrolled": true
   },
   "outputs": [],
   "source": [
    "numeric_columns = data.select_dtypes(include=['number']).columns\n",
    "selected_df = data[numeric_columns]\n",
    "\n",
    "correlation_matrix = selected_df.corr()"
   ]
  },
  {
   "cell_type": "code",
   "execution_count": null,
   "id": "6e2893c7",
   "metadata": {
    "scrolled": true
   },
   "outputs": [],
   "source": [
    "correlation_matrix.head()"
   ]
  },
  {
   "cell_type": "code",
   "execution_count": null,
   "id": "c7ddc155",
   "metadata": {
    "scrolled": true
   },
   "outputs": [],
   "source": [
    "correlation_with_est = correlation_matrix['est'].sort_values(ascending=False)\n",
    "\n",
    "top_5_features = correlation_with_est.head(6)[1:]  # Excluding 'est' \n",
    "\n",
    "print(top_5_features)"
   ]
  },
  {
   "cell_type": "markdown",
   "id": "ec8df9a6",
   "metadata": {},
   "source": [
    "## Using the Features Used in rf_reg_model"
   ]
  },
  {
   "cell_type": "code",
   "execution_count": null,
   "id": "10e96ccb",
   "metadata": {},
   "outputs": [],
   "source": [
    "end_year = 2020\n",
    "data_train = data[data['year'] <= end_year]\n",
    "data_test = data[data['year'] > end_year]\n",
    "included_feats = ['zip', 'year', 'naics_11_pct', 'naics_21_pct', 'naics_22_pct', 'naics_23_pct',\n",
    "                   'naics_31_pct', 'naics_42_pct', 'naics_44_pct', 'naics_48_pct',\n",
    "                   'naics_51_pct', 'naics_52_pct', 'naics_53_pct', 'naics_54_pct',\n",
    "                   'naics_55_pct', 'naics_56_pct', 'naics_61_pct', 'naics_62_pct',\n",
    "                   'naics_71_pct', 'naics_72_pct', 'naics_81_pct', 'naics_99_pct',\n",
    "                   'n1_4_pct', 'n5_9_pct', 'n10_19_pct', 'n20_49_pct', 'n50_99_pct',\n",
    "                   'n100_249_pct', 'n250_499_pct', 'n500_999_pct', 'n1000_pct']\n",
    "X_train = data_train[included_feats]\n",
    "y_train = data_train['est']\n",
    "X_test = data_test[included_feats]\n",
    "y_test = data_test['est']"
   ]
  },
  {
   "cell_type": "code",
   "execution_count": null,
   "id": "64a6591a",
   "metadata": {
    "scrolled": true
   },
   "outputs": [],
   "source": [
    "model = LinearRegression()\n",
    "model.fit(X_train, y_train)\n",
    "\n",
    "y_pred = model.predict(X_test)\n",
    "mse = mean_squared_error(y_test, y_pred)\n",
    "print(f'Mean Squared Error: {mse}')"
   ]
  },
  {
   "cell_type": "markdown",
   "id": "a7c9cfaa",
   "metadata": {},
   "source": [
    "## Using the Top 5 Features From Correlation Matrix"
   ]
  },
  {
   "cell_type": "code",
   "execution_count": null,
   "id": "e6ce152b",
   "metadata": {},
   "outputs": [],
   "source": [
    "included_feats = ['emp', 'ap', 'qp1', 'naics_51_pct', 'n10_19_pct']\n",
    "X_train = data_train[included_feats]\n",
    "y_train = data_train['est']\n",
    "X_test = data_test[included_feats]\n",
    "y_test = data_test['est']\n",
    "\n",
    "model = LinearRegression()\n",
    "model.fit(X_train, y_train)\n",
    "\n",
    "y_pred = model.predict(X_test)\n",
    "mse = mean_squared_error(y_test, y_pred)\n",
    "print(f'Mean Squared Error: {mse}')"
   ]
  },
  {
   "cell_type": "markdown",
   "id": "80a2b316",
   "metadata": {},
   "source": [
    "## Using the Top 10 Features"
   ]
  },
  {
   "cell_type": "code",
   "execution_count": null,
   "id": "8349fe62",
   "metadata": {},
   "outputs": [],
   "source": [
    "correlation_with_est = correlation_matrix['est'].sort_values(ascending=False)\n",
    "\n",
    "top_10_features = correlation_with_est.head(11)[1:]\n",
    "\n",
    "print(top_10_features)"
   ]
  },
  {
   "cell_type": "code",
   "execution_count": null,
   "id": "538685f1",
   "metadata": {},
   "outputs": [],
   "source": [
    "included_feats = ['emp', 'ap', 'qp1', 'naics_51_pct', 'n10_19_pct', 'n5_9_pct', 'naics_31_pct', 'n20_49_pct', 'naics_52_pct','naics_62_pct']\n",
    "X_train = data_train[included_feats]\n",
    "y_train = data_train['est']\n",
    "X_test = data_test[included_feats]\n",
    "y_test = data_test['est']\n",
    "\n",
    "model = LinearRegression()\n",
    "model.fit(X_train, y_train)\n",
    "\n",
    "y_pred = model.predict(X_test)\n",
    "mse = mean_squared_error(y_test, y_pred)\n",
    "print(f'Mean Squared Error: {mse}')"
   ]
  },
  {
   "cell_type": "markdown",
   "id": "214640fb",
   "metadata": {},
   "source": [
    "# Fixed Effect Model"
   ]
  },
  {
   "cell_type": "code",
   "execution_count": null,
   "id": "0ac6c3e0",
   "metadata": {
    "scrolled": false
   },
   "outputs": [],
   "source": [
    "# Create dummy variables for each ZIP code\n",
    "dummies = pd.get_dummies(data['zip'], drop_first=True).astype(int)\n",
    "\n",
    "# Concatenate the dummy variables with the original data\n",
    "data_panel = pd.concat([data.drop(columns=['zip']), dummies], axis=1)\n",
    "\n",
    "X = data_panel.drop(columns=['est', 'emp_nf', 'qp1_nf', 'ap_nf']) \n",
    "y = data_panel['est']  # Dependent variable predicting establishment growth\n",
    "\n",
    "# Constant term to the independent variables\n",
    "X = sm.add_constant(X)\n",
    "\n",
    "model = sm.OLS(y, X).fit()\n",
    "\n",
    "print(model.summary())"
   ]
  },
  {
   "cell_type": "markdown",
   "id": "7608bc9e",
   "metadata": {},
   "source": [
    "## Statistically Significant Values"
   ]
  },
  {
   "cell_type": "markdown",
   "id": "dc5001aa",
   "metadata": {},
   "source": [
    "- em with a p-value of 0.0000\n",
    "- ap with a p-value of 0.006\n",
    "- n1_4_pct with a p-value < 0.000\n",
    "- n5_9_pct with a p-value < 0.000\n",
    "- n10_19_pct with a p-value < 0.000\n",
    "- n20_49_pct with a p-value < 0.000\n",
    "- n50_99_pct with a p-value < 0.000"
   ]
  },
  {
   "cell_type": "markdown",
   "id": "04c6cb90",
   "metadata": {},
   "source": [
    "## Interesting Zip Code"
   ]
  },
  {
   "cell_type": "markdown",
   "id": "75145991",
   "metadata": {},
   "source": [
    "### - 91910 p-value (0.744)\n",
    "### - 91911 p-value (0.385)"
   ]
  },
  {
   "cell_type": "markdown",
   "id": "1f7b266e",
   "metadata": {},
   "source": [
    "This output indicates that the model has a high R-squared value **(0.998)**, suggesting that the independent variables explain a large portion of the variance in the dependent variable."
   ]
  },
  {
   "cell_type": "markdown",
   "id": "03732f01",
   "metadata": {},
   "source": [
    "# Random Effect Model"
   ]
  },
  {
   "cell_type": "code",
   "execution_count": null,
   "id": "a4299f4f",
   "metadata": {},
   "outputs": [],
   "source": [
    "X = data_panel.drop(columns=['est', 'emp_nf', 'qp1_nf', 'ap_nf']) \n",
    "y = data_panel['est']  \n",
    "\n",
    "X = sm.add_constant(X)\n",
    "\n",
    "model = sm.regression.mixed_linear_model.MixedLM(y, X, groups=data['zip'])\n",
    "\n",
    "# Specify the optimizer (e.g., 'nm' for Nelder-Mead)\n",
    "optimizer = 'nm'\n",
    "\n",
    "iterations = 1000\n",
    "\n",
    "mixed_model_fit = model.fit(method=optimizer, maxiter=iterations)\n",
    "\n",
    "print(mixed_model_fit.summary())"
   ]
  },
  {
   "cell_type": "markdown",
   "id": "8ff36966",
   "metadata": {},
   "source": [
    "## Statistically Significant Values"
   ]
  },
  {
   "cell_type": "markdown",
   "id": "8b58d718",
   "metadata": {},
   "source": [
    "- ap with p-value 0.006\n",
    "- n1_4_pct with p-value 0.000\n",
    "- n5_9_pct with p-value 0.000\n",
    "- n10_19_pct with p-value 0.000\n",
    "- n20_49_pct with p-value 0.000\n",
    "- All zipcodes"
   ]
  },
  {
   "cell_type": "markdown",
   "id": "0dfc6bc2",
   "metadata": {},
   "source": [
    "## Summary "
   ]
  },
  {
   "cell_type": "markdown",
   "id": "615b681f",
   "metadata": {},
   "source": [
    "**Significance of the individual-specific effects**: The p-values for the individual-specific effects in the fixed effects model are statistically significant, indicating that there is likely unobserved heterogeneity at the individual level that affects the outcome variable. Suggesting that there are **individual-specific** characteristics or factors that are important to consider and control for in your analysis.\n",
    "\n",
    "**Adjusted R-squared**: The adjusted R-squared value for the fixed effects model is higher compared to the random effects model. This suggests that the fixed effects model explains a greater proportion of the variation in the outcome variable."
   ]
  },
  {
   "cell_type": "markdown",
   "id": "2b1192ca",
   "metadata": {},
   "source": [
    "Overall **fixed effect model** seems better for the data"
   ]
  }
 ],
 "metadata": {
  "kernelspec": {
   "display_name": "Python 3 (ipykernel)",
   "language": "python",
   "name": "python3"
  },
  "language_info": {
   "codemirror_mode": {
    "name": "ipython",
    "version": 3
   },
   "file_extension": ".py",
   "mimetype": "text/x-python",
   "name": "python",
   "nbconvert_exporter": "python",
   "pygments_lexer": "ipython3",
   "version": "3.10.13"
  }
 },
 "nbformat": 4,
 "nbformat_minor": 5
}
