{
 "cells": [
  {
   "cell_type": "code",
   "execution_count": null,
   "id": "cf511360",
   "metadata": {},
   "outputs": [],
   "source": [
    "import sys\n",
    "sys.path.insert(0, '../../../src/helper')\n",
    "import zbp_visualizer\n",
    "\n",
    "import numpy as np\n",
    "import pandas as pd\n",
    "\n",
    "from sklearn.linear_model import LinearRegression\n",
    "from sklearn.metrics import mean_squared_error\n",
    "from sklearn.pipeline import Pipeline\n",
    "from sklearn.compose import ColumnTransformer\n",
    "from sklearn.preprocessing import OneHotEncoder"
   ]
  },
  {
   "cell_type": "markdown",
   "id": "e509b930",
   "metadata": {},
   "source": [
    "# Data"
   ]
  },
  {
   "cell_type": "code",
   "execution_count": null,
   "id": "c84e5c19",
   "metadata": {
    "scrolled": true
   },
   "outputs": [],
   "source": [
    "file_path = '../../../src/data/temp/zbp_totals_with_features.csv'\n",
    "data = pd.read_csv(file_path)\n",
    "data.head()"
   ]
  },
  {
   "cell_type": "markdown",
   "id": "5bb3c0f2",
   "metadata": {},
   "source": [
    "# Train-test Split"
   ]
  },
  {
   "cell_type": "code",
   "execution_count": null,
   "id": "fc83c227",
   "metadata": {},
   "outputs": [],
   "source": [
    "end_year = 2020\n",
    "data_train = data[data['year'] <= end_year]\n",
    "data_test = data[data['year'] > end_year]\n",
    "included_feats = ['zip', 'year', 'naics_11_pct', 'naics_21_pct', 'naics_22_pct', 'naics_23_pct',\n",
    "                   'naics_31_pct', 'naics_42_pct', 'naics_44_pct', 'naics_48_pct',\n",
    "                   'naics_51_pct', 'naics_52_pct', 'naics_53_pct', 'naics_54_pct',\n",
    "                   'naics_55_pct', 'naics_56_pct', 'naics_61_pct', 'naics_62_pct',\n",
    "                   'naics_71_pct', 'naics_72_pct', 'naics_81_pct', 'naics_99_pct',\n",
    "                   'n1_4_pct', 'n5_9_pct', 'n10_19_pct', 'n20_49_pct', 'n50_99_pct',\n",
    "                   'n100_249_pct', 'n250_499_pct', 'n500_999_pct', 'n1000_pct']\n",
    "X_train = data_train[included_feats]\n",
    "y_train = data_train['est']\n",
    "X_test = data_test[included_feats]\n",
    "y_test = data_test['est']"
   ]
  },
  {
   "cell_type": "markdown",
   "id": "6376bd32",
   "metadata": {},
   "source": [
    "# Run"
   ]
  },
  {
   "cell_type": "code",
   "execution_count": null,
   "id": "0512120a",
   "metadata": {},
   "outputs": [],
   "source": [
    "preproc = ColumnTransformer([('onehots', OneHotEncoder(handle_unknown='ignore'), ['zip'])]\n",
    "                             ,remainder = 'passthrough')\n",
    "pl = Pipeline(steps=[('preproc', preproc), ('lr', LinearRegression())])\n",
    "pl.fit(X_train, y_train)\n",
    "mean_squared_error(y_test, pl.predict(X_test), squared=False)"
   ]
  },
  {
   "cell_type": "markdown",
   "id": "c8930cd8",
   "metadata": {},
   "source": [
    "# Visualize Predictions"
   ]
  },
  {
   "cell_type": "code",
   "execution_count": null,
   "id": "7a74e3bc",
   "metadata": {},
   "outputs": [],
   "source": [
    "# VISUALIZATION CODE NONFUNCTION FROM NOTEBOOK ONLY WORKS FROM RUN.PY\n",
    "# MUST ADJUST METHOD TO TAKE IN OUTPATH TO FUNCTION HERE\n",
    " \n",
    "# preds = X_test.copy()\n",
    "# preds['est_pred'] = pl.predict(X_test)\n",
    "# last_year = preds['year'].max()\n",
    "# preds_last_year = preds[preds['year'] == last_year][['zip','est_pred']]\n",
    "# zbp_visualizer.generate_zbp_chloropleth(preds_last_year, 'zip', 'est_pred', f'rf_reg_{last_year}_preds')"
   ]
  },
  {
   "cell_type": "code",
   "execution_count": null,
   "id": "52b69d5b",
   "metadata": {},
   "outputs": [],
   "source": []
  }
 ],
 "metadata": {
  "kernelspec": {
   "display_name": "Python 3 (ipykernel)",
   "language": "python",
   "name": "python3"
  },
  "language_info": {
   "codemirror_mode": {
    "name": "ipython",
    "version": 3
   },
   "file_extension": ".py",
   "mimetype": "text/x-python",
   "name": "python",
   "nbconvert_exporter": "python",
   "pygments_lexer": "ipython3",
   "version": "3.10.13"
  }
 },
 "nbformat": 4,
 "nbformat_minor": 5
}
