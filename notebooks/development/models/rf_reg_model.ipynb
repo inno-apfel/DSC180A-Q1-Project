{
 "cells": [
  {
   "cell_type": "code",
   "execution_count": 1,
   "id": "e685125c",
   "metadata": {},
   "outputs": [],
   "source": [
    "import time\n",
    "import sys\n",
    "sys.path.insert(0, '../../../src/helper')\n",
    "\n",
    "\n",
    "import numpy as np\n",
    "import pandas as pd\n",
    "import matplotlib.pyplot as plt\n",
    "\n",
    "from IPython.display import IFrame\n",
    "\n",
    "from sklearn.ensemble import RandomForestRegressor\n",
    "from sklearn.metrics import mean_squared_error\n",
    "from sklearn.pipeline import Pipeline\n",
    "from sklearn.compose import ColumnTransformer\n",
    "from sklearn.preprocessing import OneHotEncoder\n",
    "from sklearn.model_selection import GridSearchCV\n",
    "from sklearn.model_selection import TimeSeriesSplit\n",
    "\n",
    "import zbp_visualizer"
   ]
  },
  {
   "cell_type": "code",
   "execution_count": 2,
   "id": "f95b9a9d",
   "metadata": {},
   "outputs": [],
   "source": [
    "SEED = 42"
   ]
  },
  {
   "cell_type": "markdown",
   "id": "1121ab20",
   "metadata": {},
   "source": [
    "# DATA INGESTION"
   ]
  },
  {
   "cell_type": "code",
   "execution_count": 3,
   "id": "fe7c06f4",
   "metadata": {
    "scrolled": true
   },
   "outputs": [
    {
     "data": {
      "text/html": [
       "<div>\n",
       "<style scoped>\n",
       "    .dataframe tbody tr th:only-of-type {\n",
       "        vertical-align: middle;\n",
       "    }\n",
       "\n",
       "    .dataframe tbody tr th {\n",
       "        vertical-align: top;\n",
       "    }\n",
       "\n",
       "    .dataframe thead th {\n",
       "        text-align: right;\n",
       "    }\n",
       "</style>\n",
       "<table border=\"1\" class=\"dataframe\">\n",
       "  <thead>\n",
       "    <tr style=\"text-align: right;\">\n",
       "      <th></th>\n",
       "      <th>zip</th>\n",
       "      <th>year</th>\n",
       "      <th>est</th>\n",
       "      <th>emp_nf</th>\n",
       "      <th>emp</th>\n",
       "      <th>qp1_nf</th>\n",
       "      <th>qp1</th>\n",
       "      <th>ap_nf</th>\n",
       "      <th>ap</th>\n",
       "      <th>naics_11_pct</th>\n",
       "      <th>...</th>\n",
       "      <th>n50_99_pct</th>\n",
       "      <th>n100_249_pct</th>\n",
       "      <th>n250_499_pct</th>\n",
       "      <th>n500_999_pct</th>\n",
       "      <th>n1000_pct</th>\n",
       "      <th>median_hh_income</th>\n",
       "      <th>total_population</th>\n",
       "      <th>total_retirement</th>\n",
       "      <th>total_midcareer (25-34)</th>\n",
       "      <th>total_midcareer (35-44)</th>\n",
       "    </tr>\n",
       "  </thead>\n",
       "  <tbody>\n",
       "    <tr>\n",
       "      <th>0</th>\n",
       "      <td>91901</td>\n",
       "      <td>2013</td>\n",
       "      <td>402</td>\n",
       "      <td>H</td>\n",
       "      <td>4141.0</td>\n",
       "      <td>H</td>\n",
       "      <td>36304.0</td>\n",
       "      <td>H</td>\n",
       "      <td>174786.0</td>\n",
       "      <td>0.000000</td>\n",
       "      <td>...</td>\n",
       "      <td>0.010230</td>\n",
       "      <td>0.005115</td>\n",
       "      <td>0.002558</td>\n",
       "      <td>0.000000</td>\n",
       "      <td>0.002558</td>\n",
       "      <td>76496.0</td>\n",
       "      <td>17034.0</td>\n",
       "      <td>2691.0</td>\n",
       "      <td>1441.0</td>\n",
       "      <td>2011.0</td>\n",
       "    </tr>\n",
       "    <tr>\n",
       "      <th>1</th>\n",
       "      <td>91901</td>\n",
       "      <td>2014</td>\n",
       "      <td>392</td>\n",
       "      <td>H</td>\n",
       "      <td>4808.0</td>\n",
       "      <td>H</td>\n",
       "      <td>54568.0</td>\n",
       "      <td>H</td>\n",
       "      <td>188411.0</td>\n",
       "      <td>0.000000</td>\n",
       "      <td>...</td>\n",
       "      <td>0.012438</td>\n",
       "      <td>0.007463</td>\n",
       "      <td>0.000000</td>\n",
       "      <td>0.002488</td>\n",
       "      <td>0.002488</td>\n",
       "      <td>79792.0</td>\n",
       "      <td>17123.0</td>\n",
       "      <td>2678.0</td>\n",
       "      <td>1693.0</td>\n",
       "      <td>1786.0</td>\n",
       "    </tr>\n",
       "    <tr>\n",
       "      <th>2</th>\n",
       "      <td>91901</td>\n",
       "      <td>2015</td>\n",
       "      <td>397</td>\n",
       "      <td>H</td>\n",
       "      <td>4436.0</td>\n",
       "      <td>H</td>\n",
       "      <td>45258.0</td>\n",
       "      <td>H</td>\n",
       "      <td>171382.0</td>\n",
       "      <td>0.002551</td>\n",
       "      <td>...</td>\n",
       "      <td>0.012755</td>\n",
       "      <td>0.010204</td>\n",
       "      <td>0.000000</td>\n",
       "      <td>0.000000</td>\n",
       "      <td>0.002551</td>\n",
       "      <td>81379.0</td>\n",
       "      <td>18184.0</td>\n",
       "      <td>3075.0</td>\n",
       "      <td>1989.0</td>\n",
       "      <td>1598.0</td>\n",
       "    </tr>\n",
       "    <tr>\n",
       "      <th>3</th>\n",
       "      <td>91901</td>\n",
       "      <td>2016</td>\n",
       "      <td>390</td>\n",
       "      <td>H</td>\n",
       "      <td>4255.0</td>\n",
       "      <td>H</td>\n",
       "      <td>37704.0</td>\n",
       "      <td>H</td>\n",
       "      <td>151533.0</td>\n",
       "      <td>0.000000</td>\n",
       "      <td>...</td>\n",
       "      <td>0.012594</td>\n",
       "      <td>0.005038</td>\n",
       "      <td>0.000000</td>\n",
       "      <td>0.000000</td>\n",
       "      <td>0.002519</td>\n",
       "      <td>79859.0</td>\n",
       "      <td>18507.0</td>\n",
       "      <td>3158.0</td>\n",
       "      <td>1947.0</td>\n",
       "      <td>1683.0</td>\n",
       "    </tr>\n",
       "    <tr>\n",
       "      <th>4</th>\n",
       "      <td>91901</td>\n",
       "      <td>2017</td>\n",
       "      <td>413</td>\n",
       "      <td>H</td>\n",
       "      <td>4515.0</td>\n",
       "      <td>H</td>\n",
       "      <td>39556.0</td>\n",
       "      <td>H</td>\n",
       "      <td>167307.0</td>\n",
       "      <td>0.000000</td>\n",
       "      <td>...</td>\n",
       "      <td>0.015385</td>\n",
       "      <td>0.010256</td>\n",
       "      <td>0.000000</td>\n",
       "      <td>0.000000</td>\n",
       "      <td>0.002564</td>\n",
       "      <td>81603.0</td>\n",
       "      <td>18586.0</td>\n",
       "      <td>3236.0</td>\n",
       "      <td>1771.0</td>\n",
       "      <td>1909.0</td>\n",
       "    </tr>\n",
       "  </tbody>\n",
       "</table>\n",
       "<p>5 rows × 43 columns</p>\n",
       "</div>"
      ],
      "text/plain": [
       "     zip  year  est emp_nf     emp qp1_nf      qp1 ap_nf        ap  \\\n",
       "0  91901  2013  402      H  4141.0      H  36304.0     H  174786.0   \n",
       "1  91901  2014  392      H  4808.0      H  54568.0     H  188411.0   \n",
       "2  91901  2015  397      H  4436.0      H  45258.0     H  171382.0   \n",
       "3  91901  2016  390      H  4255.0      H  37704.0     H  151533.0   \n",
       "4  91901  2017  413      H  4515.0      H  39556.0     H  167307.0   \n",
       "\n",
       "   naics_11_pct  ...  n50_99_pct  n100_249_pct  n250_499_pct  n500_999_pct  \\\n",
       "0      0.000000  ...    0.010230      0.005115      0.002558      0.000000   \n",
       "1      0.000000  ...    0.012438      0.007463      0.000000      0.002488   \n",
       "2      0.002551  ...    0.012755      0.010204      0.000000      0.000000   \n",
       "3      0.000000  ...    0.012594      0.005038      0.000000      0.000000   \n",
       "4      0.000000  ...    0.015385      0.010256      0.000000      0.000000   \n",
       "\n",
       "   n1000_pct  median_hh_income  total_population  total_retirement  \\\n",
       "0   0.002558           76496.0           17034.0            2691.0   \n",
       "1   0.002488           79792.0           17123.0            2678.0   \n",
       "2   0.002551           81379.0           18184.0            3075.0   \n",
       "3   0.002519           79859.0           18507.0            3158.0   \n",
       "4   0.002564           81603.0           18586.0            3236.0   \n",
       "\n",
       "   total_midcareer (25-34)  total_midcareer (35-44)  \n",
       "0                   1441.0                   2011.0  \n",
       "1                   1693.0                   1786.0  \n",
       "2                   1989.0                   1598.0  \n",
       "3                   1947.0                   1683.0  \n",
       "4                   1771.0                   1909.0  \n",
       "\n",
       "[5 rows x 43 columns]"
      ]
     },
     "execution_count": 3,
     "metadata": {},
     "output_type": "execute_result"
    }
   ],
   "source": [
    "file_path = '../../../src/data/temp/lagged_zbp_totals_with_features.csv'\n",
    "data = pd.read_csv(file_path)\n",
    "data.head()"
   ]
  },
  {
   "cell_type": "markdown",
   "id": "04724d01",
   "metadata": {},
   "source": [
    "# CUSTOM TSCV"
   ]
  },
  {
   "cell_type": "code",
   "execution_count": 4,
   "id": "97d77ce1",
   "metadata": {},
   "outputs": [],
   "source": [
    "class CustomTimeSeriesSplit:\n",
    "    def __init__(self, n_splits=None):\n",
    "        self.n_splits = n_splits\n",
    "\n",
    "    def split(self, X, y=None, groups=None):\n",
    "        \n",
    "        year_range = np.sort(X['year'].unique())\n",
    "        min_year = year_range[0]\n",
    "        \n",
    "        self.n_splits = len(year_range) - 1\n",
    "        \n",
    "        for test_year in year_range[1:]:\n",
    "            curr_range = np.arange(min_year, test_year)\n",
    "            train = X[X['year'].apply(lambda year: year in curr_range)].index.to_numpy()\n",
    "            test = X[X['year'] == test_year].index.to_numpy()\n",
    "            \n",
    "            yield train, test\n",
    "\n",
    "    def get_n_splits(self, X, y, groups=None):\n",
    "        \n",
    "        year_range = np.sort(X['year'].unique())\n",
    "        \n",
    "        return len(year_range) - 1"
   ]
  },
  {
   "cell_type": "markdown",
   "id": "fc0f89d8",
   "metadata": {},
   "source": [
    "# TRAIN-TEST SPLIT"
   ]
  },
  {
   "cell_type": "code",
   "execution_count": 5,
   "id": "28dc87d6",
   "metadata": {},
   "outputs": [],
   "source": [
    "tscv = CustomTimeSeriesSplit()\n",
    "split = list(tscv.split(data, None))\n",
    "\n",
    "train_indicies, test_indicies = split[-1]\n",
    "\n",
    "data_train = data.iloc[train_indicies].reset_index(drop=True)\n",
    "data_test = data.iloc[test_indicies].reset_index(drop=True)"
   ]
  },
  {
   "cell_type": "markdown",
   "id": "9baed2b5",
   "metadata": {},
   "source": [
    "\n",
    "# MODEL"
   ]
  },
  {
   "cell_type": "code",
   "execution_count": 6,
   "id": "f45bbbde",
   "metadata": {},
   "outputs": [],
   "source": [
    "preproc = ColumnTransformer([('onehots', OneHotEncoder(handle_unknown='ignore'), ['zip'])]\n",
    "                             ,remainder = 'passthrough')\n",
    "pl = Pipeline(steps=[('preproc', preproc), ('reg', RandomForestRegressor(random_state=SEED, n_jobs=-1))])"
   ]
  },
  {
   "cell_type": "code",
   "execution_count": 7,
   "id": "e37497db",
   "metadata": {
    "scrolled": true
   },
   "outputs": [
    {
     "data": {
      "text/plain": [
       "{'reg__max_depth': 50, 'reg__n_estimators': 50}"
      ]
     },
     "metadata": {},
     "output_type": "display_data"
    },
    {
     "data": {
      "text/plain": [
       "-124.3291183718602"
      ]
     },
     "metadata": {},
     "output_type": "display_data"
    },
    {
     "name": "stdout",
     "output_type": "stream",
     "text": [
      "CPU times: total: 3.52 s\n",
      "Wall time: 2.74 s\n"
     ]
    }
   ],
   "source": [
    "%%time\n",
    "\n",
    "included_feats = data.columns.drop(['est', 'emp_nf', 'qp1_nf', 'ap_nf'])\n",
    "# included_feats = ['zip', 'year', 'naics_62_pct', 'total_retirement', 'total_population', 'naics_81_pct', 'ap', 'n1_4_pct', 'naics_23_pct', 'naics_54_pct']\n",
    "\n",
    "param_grid = {'reg__n_estimators': [50],\n",
    "              'reg__max_depth': [50]}\n",
    "\n",
    "grid_search = GridSearchCV(estimator = pl, param_grid = param_grid, cv = CustomTimeSeriesSplit(), scoring = 'neg_root_mean_squared_error', n_jobs = -1)\n",
    "\n",
    "X_train = data_train[included_feats]\n",
    "y_train = data_train['est']\n",
    "\n",
    "grid_search.fit(X_train, y_train)\n",
    "\n",
    "display(grid_search.best_params_)\n",
    "display(grid_search.best_score_)"
   ]
  },
  {
   "cell_type": "markdown",
   "id": "d8c0cad9",
   "metadata": {},
   "source": [
    "# TESTING"
   ]
  },
  {
   "cell_type": "code",
   "execution_count": 8,
   "id": "11d54d2f",
   "metadata": {},
   "outputs": [],
   "source": [
    "X_test = data_test[included_feats]\n",
    "y_test = data_test['est']"
   ]
  },
  {
   "cell_type": "code",
   "execution_count": 9,
   "id": "582b592b",
   "metadata": {},
   "outputs": [
    {
     "data": {
      "text/plain": [
       "792.402261702128"
      ]
     },
     "metadata": {},
     "output_type": "display_data"
    },
    {
     "data": {
      "text/plain": [
       "6316.647969230768"
      ]
     },
     "metadata": {},
     "output_type": "display_data"
    }
   ],
   "source": [
    "reg = grid_search.best_estimator_\n",
    "\n",
    "y_preds = reg.predict(X_train)\n",
    "display(mean_squared_error(y_train, y_preds, squared=False))\n",
    "\n",
    "y_preds = reg.predict(X_test)\n",
    "display(mean_squared_error(y_test, y_preds, squared=False))"
   ]
  },
  {
   "cell_type": "markdown",
   "id": "8f841a51",
   "metadata": {},
   "source": [
    "# FEATURE IMPORTANCE - BY MEAN DECREASE IN IMPURITY"
   ]
  },
  {
   "cell_type": "code",
   "execution_count": 10,
   "id": "224d93c3",
   "metadata": {},
   "outputs": [
    {
     "data": {
      "text/plain": [
       "array(['naics_62_pct', 'total_retirement', 'total_population',\n",
       "       'naics_81_pct', 'ap', 'zip_92024', 'n1_4_pct', 'naics_23_pct',\n",
       "       'zip_92101', 'naics_54_pct'], dtype=object)"
      ]
     },
     "metadata": {},
     "output_type": "display_data"
    },
    {
     "data": {
      "text/plain": [
       "Text(0.5, 0, 'Mean decrease in impurity')"
      ]
     },
     "execution_count": 10,
     "metadata": {},
     "output_type": "execute_result"
    },
    {
     "data": {
      "image/png": "[encoded data removed]",
      "text/plain": [
       "<Figure size 640x480 with 1 Axes>"
      ]
     },
     "metadata": {},
     "output_type": "display_data"
    }
   ],
   "source": [
    "top_x = 11\n",
    "\n",
    "preproc.fit(X_train)\n",
    "feature_names = preproc.get_feature_names_out()\n",
    "feature_names = np.char.replace(feature_names.astype('str'), 'onehots__','')\n",
    "feature_names = np.char.replace(feature_names, 'remainder__','')\n",
    "\n",
    "\n",
    "importances = reg['reg'].feature_importances_\n",
    "std = np.std([tree.feature_importances_ for tree in reg['reg'].estimators_], axis=0)\n",
    "\n",
    "forest_importances = pd.Series(importances, index=feature_names).sort_values(ascending=False)[1:top_x].sort_values(ascending=True)\n",
    "display(forest_importances.index.to_numpy())\n",
    "\n",
    "fig, ax = plt.subplots()\n",
    "forest_importances.plot(kind='barh', ax=ax)\n",
    "ax.set_title(\"Feature importances using MDI\")\n",
    "ax.set_xlabel(\"Mean decrease in impurity\")"
   ]
  },
  {
   "cell_type": "markdown",
   "id": "c897cdc2",
   "metadata": {},
   "source": [
    "# VISUALIZE PREDICTIONS"
   ]
  },
  {
   "cell_type": "code",
   "execution_count": null,
   "id": "22bc3821",
   "metadata": {},
   "outputs": [],
   "source": [
    "last_year = X_test['year'].unique()[0]\n",
    "\n",
    "path_relative_to_root = '../../../'\n",
    "plots_folder = 'out/plots/'\n",
    "out_path = f'{path_relative_to_root}{plots_folder}zbp_plot_rf_reg_{last_year}_preds.html'\n",
    "\n",
    "preds_last_year = pd.concat([X_test['zip'], pd.Series(y_preds)], axis=1).rename(columns={0:'est_pred'})\n",
    "zbp_visualizer.generate_zbp_chloropleth(preds_last_year, 'zip', 'est_pred', out_path)\n",
    "\n",
    "IFrame(out_path, 500,500)"
   ]
  },
  {
   "cell_type": "markdown",
   "id": "1cf29c04",
   "metadata": {},
   "source": [
    "# LONGSHOT PREDICTION ACCURACY EVALUATION"
   ]
  },
  {
   "cell_type": "code",
   "execution_count": null,
   "id": "71e3a6e6",
   "metadata": {},
   "outputs": [],
   "source": [
    "num_years_in_training = 3\n",
    "split_year = data['year'].unique().max() - num_years_in_training\n",
    "\n",
    "data_train = data[data['year'] <= split_year]\n",
    "data_test = data[data['year'] > split_year]\n",
    "\n",
    "X_train = data_train[included_feats]\n",
    "y_train = data_train['est']\n",
    "X_test = data_test[included_feats]\n",
    "y_test = data_test['est']\n",
    "\n",
    "reg.fit(X_train, y_train)\n",
    "\n",
    "y_preds = reg.predict(X_train)\n",
    "display(mean_squared_error(y_train, y_preds, squared=False))\n",
    "\n",
    "y_preds = reg.predict(X_test)\n",
    "display(mean_squared_error(y_test, y_preds, squared=False))"
   ]
  },
  {
   "cell_type": "code",
   "execution_count": null,
   "id": "5e09da4f",
   "metadata": {},
   "outputs": [],
   "source": []
  }
 ],
 "metadata": {
  "kernelspec": {
   "display_name": "Python 3 (ipykernel)",
   "language": "python",
   "name": "python3"
  },
  "language_info": {
   "codemirror_mode": {
    "name": "ipython",
    "version": 3
   },
   "file_extension": ".py",
   "mimetype": "text/x-python",
   "name": "python",
   "nbconvert_exporter": "python",
   "pygments_lexer": "ipython3",
   "version": "3.10.13"
  }
 },
 "nbformat": 4,
 "nbformat_minor": 5
}
