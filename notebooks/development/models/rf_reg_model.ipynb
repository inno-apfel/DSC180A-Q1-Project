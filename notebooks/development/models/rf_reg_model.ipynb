{
 "cells": [
  {
   "cell_type": "code",
   "execution_count": null,
   "id": "e685125c",
   "metadata": {},
   "outputs": [],
   "source": [
    "import time\n",
    "import sys\n",
    "sys.path.insert(0, '../../../src/helper')\n",
    "\n",
    "\n",
    "import numpy as np\n",
    "import pandas as pd\n",
    "import matplotlib.pyplot as plt\n",
    "\n",
    "from sklearn.ensemble import RandomForestRegressor\n",
    "from sklearn.metrics import mean_squared_error\n",
    "from sklearn.pipeline import Pipeline\n",
    "from sklearn.compose import ColumnTransformer\n",
    "from sklearn.preprocessing import OneHotEncoder\n",
    "from sklearn.model_selection import GridSearchCV\n",
    "from sklearn.model_selection import TimeSeriesSplit\n",
    "\n",
    "import zbp_visualizer"
   ]
  },
  {
   "cell_type": "code",
   "execution_count": null,
   "id": "f95b9a9d",
   "metadata": {},
   "outputs": [],
   "source": [
    "SEED = 42"
   ]
  },
  {
   "cell_type": "markdown",
   "id": "1121ab20",
   "metadata": {},
   "source": [
    "# DATA INGESTION"
   ]
  },
  {
   "cell_type": "code",
   "execution_count": null,
   "id": "fe7c06f4",
   "metadata": {
    "scrolled": true
   },
   "outputs": [],
   "source": [
    "file_path = '../../../src/data/temp/lagged_zbp_totals_with_features.csv'\n",
    "data = pd.read_csv(file_path)\n",
    "data.head()"
   ]
  },
  {
   "cell_type": "markdown",
   "id": "04724d01",
   "metadata": {},
   "source": [
    "# CUSTOM TSCV"
   ]
  },
  {
   "cell_type": "code",
   "execution_count": null,
   "id": "97d77ce1",
   "metadata": {},
   "outputs": [],
   "source": [
    "class CustomTimeSeriesSplit:\n",
    "    def __init__(self, n_splits=None):\n",
    "        self.n_splits = n_splits\n",
    "\n",
    "    def split(self, X, y=None, groups=None):\n",
    "        \n",
    "        year_range = np.sort(X['year'].unique())\n",
    "        min_year = year_range[0]\n",
    "        \n",
    "        self.n_splits = len(year_range) - 1\n",
    "        \n",
    "        for test_year in year_range[1:]:\n",
    "            curr_range = np.arange(min_year, test_year)\n",
    "            train = X[X['year'].apply(lambda year: year in curr_range)].index.to_numpy()\n",
    "            test = X[X['year'] == test_year].index.to_numpy()\n",
    "            \n",
    "            yield train, test\n",
    "\n",
    "    def get_n_splits(self, X, y, groups=None):\n",
    "        \n",
    "        year_range = np.sort(X['year'].unique())\n",
    "        \n",
    "        return len(year_range) - 1"
   ]
  },
  {
   "cell_type": "markdown",
   "id": "fc0f89d8",
   "metadata": {},
   "source": [
    "# TRAIN-TEST SPLIT"
   ]
  },
  {
   "cell_type": "code",
   "execution_count": null,
   "id": "28dc87d6",
   "metadata": {},
   "outputs": [],
   "source": [
    "tscv = CustomTimeSeriesSplit()\n",
    "split = list(tscv.split(data, None))\n",
    "\n",
    "train_indicies, test_indicies = split[-1]\n",
    "\n",
    "data_train = data.iloc[train_indicies].reset_index(drop=True)\n",
    "data_test = data.iloc[test_indicies].reset_index(drop=True)"
   ]
  },
  {
   "cell_type": "markdown",
   "id": "9baed2b5",
   "metadata": {},
   "source": [
    "\n",
    "# MODEL"
   ]
  },
  {
   "cell_type": "code",
   "execution_count": null,
   "id": "f45bbbde",
   "metadata": {},
   "outputs": [],
   "source": [
    "preproc = ColumnTransformer([('onehots', OneHotEncoder(handle_unknown='ignore'), ['zip'])]\n",
    "                             ,remainder = 'passthrough')\n",
    "pl = Pipeline(steps=[('preproc', preproc), ('reg', RandomForestRegressor(random_state=SEED, n_jobs=-1))])"
   ]
  },
  {
   "cell_type": "code",
   "execution_count": null,
   "id": "e37497db",
   "metadata": {
    "scrolled": true
   },
   "outputs": [],
   "source": [
    "%%time\n",
    "\n",
    "included_feats = data.columns.drop(['est', 'emp_nf', 'qp1_nf', 'ap_nf'])\n",
    "# included_feats = ['zip', 'year', 'naics_62_pct', 'total_retirement', 'total_population', 'naics_81_pct', 'ap', 'n1_4_pct', 'naics_23_pct', 'naics_54_pct']\n",
    "\n",
    "param_grid = {'reg__n_estimators': [50],\n",
    "              'reg__max_depth': [50]}\n",
    "\n",
    "grid_search = GridSearchCV(estimator = pl, param_grid = param_grid, cv = CustomTimeSeriesSplit(), scoring = 'neg_root_mean_squared_error', n_jobs = -1)\n",
    "\n",
    "X_train = data_train[included_feats]\n",
    "y_train = data_train['est']\n",
    "\n",
    "grid_search.fit(X_train, y_train)\n",
    "\n",
    "display(grid_search.best_params_)\n",
    "display(grid_search.best_score_)"
   ]
  },
  {
   "cell_type": "markdown",
   "id": "d8c0cad9",
   "metadata": {},
   "source": [
    "# TESTING"
   ]
  },
  {
   "cell_type": "code",
   "execution_count": null,
   "id": "11d54d2f",
   "metadata": {},
   "outputs": [],
   "source": [
    "X_test = data_test[included_feats]\n",
    "y_test = data_test['est']"
   ]
  },
  {
   "cell_type": "code",
   "execution_count": null,
   "id": "582b592b",
   "metadata": {},
   "outputs": [],
   "source": [
    "reg = grid_search.best_estimator_\n",
    "\n",
    "y_preds = reg.predict(X_train)\n",
    "display(mean_squared_error(y_train, y_preds))\n",
    "\n",
    "y_preds = reg.predict(X_test)\n",
    "display(mean_squared_error(y_test, y_preds))"
   ]
  },
  {
   "cell_type": "markdown",
   "id": "8f841a51",
   "metadata": {},
   "source": [
    "# FEATURE IMPORTANCE - BY MEAN DECREASE IN IMPURITY"
   ]
  },
  {
   "cell_type": "code",
   "execution_count": null,
   "id": "224d93c3",
   "metadata": {},
   "outputs": [],
   "source": [
    "top_x = 11\n",
    "\n",
    "preproc.fit(X_train)\n",
    "feature_names = preproc.get_feature_names_out()\n",
    "feature_names = np.char.replace(feature_names.astype('str'), 'onehots__','')\n",
    "feature_names = np.char.replace(feature_names, 'remainder__','')\n",
    "\n",
    "\n",
    "importances = reg['reg'].feature_importances_\n",
    "std = np.std([tree.feature_importances_ for tree in reg['reg'].estimators_], axis=0)\n",
    "\n",
    "forest_importances = pd.Series(importances, index=feature_names).sort_values(ascending=False)[1:top_x].sort_values(ascending=True)\n",
    "display(forest_importances.index.to_numpy())\n",
    "\n",
    "fig, ax = plt.subplots()\n",
    "forest_importances.plot(kind='barh', ax=ax)\n",
    "ax.set_title(\"Feature importances using MDI\")\n",
    "ax.set_xlabel(\"Mean decrease in impurity\")"
   ]
  },
  {
   "cell_type": "markdown",
   "id": "c897cdc2",
   "metadata": {},
   "source": [
    "# VISUALIZE PREDICTIONS"
   ]
  },
  {
   "cell_type": "code",
   "execution_count": null,
   "id": "22bc3821",
   "metadata": {},
   "outputs": [],
   "source": [
    "# VISUALIZATION CODE NONFUNCTION FROM NOTEBOOK ONLY WORKS FROM RUN.PY\n",
    "# MUST ADJUST METHOD TO TAKE IN OUTPATH TO FUNCTION HERE\n",
    "\n",
    "# preds = X_test.copy()\n",
    "# preds['est_pred'] = pl.predict(X_test)\n",
    "# last_year = preds['year'].max()\n",
    "# preds_last_year = preds[preds['year'] == last_year][['zip','est_pred']]\n",
    "# zbp_visualizer.generate_zbp_chloropleth(preds_last_year, 'zip', 'est_pred', f'rf_reg_{last_year}_preds')"
   ]
  },
  {
   "cell_type": "code",
   "execution_count": null,
   "id": "62d51b17",
   "metadata": {},
   "outputs": [],
   "source": []
  }
 ],
 "metadata": {
  "kernelspec": {
   "display_name": "Python 3 (ipykernel)",
   "language": "python",
   "name": "python3"
  },
  "language_info": {
   "codemirror_mode": {
    "name": "ipython",
    "version": 3
   },
   "file_extension": ".py",
   "mimetype": "text/x-python",
   "name": "python",
   "nbconvert_exporter": "python",
   "pygments_lexer": "ipython3",
   "version": "3.10.13"
  }
 },
 "nbformat": 4,
 "nbformat_minor": 5
}
