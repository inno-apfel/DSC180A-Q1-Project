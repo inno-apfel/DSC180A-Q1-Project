{
 "cells": [
  {
   "cell_type": "code",
   "execution_count": 1,
   "id": "282897b5",
   "metadata": {},
   "outputs": [],
   "source": [
    "import numpy as np\n",
    "import pandas as pd\n",
    "import matplotlib.pyplot as plt\n",
    "\n",
    "import tensorflow as tf\n",
    "\n",
    "from keras.models import Sequential\n",
    "from keras.layers import Dense\n",
    "from keras.layers import LSTM\n",
    "\n",
    "from sklearn.compose import ColumnTransformer\n",
    "from sklearn.preprocessing import OneHotEncoder\n",
    "from sklearn.metrics import mean_squared_error\n",
    "\n",
    "from tqdm import tqdm"
   ]
  },
  {
   "cell_type": "code",
   "execution_count": 2,
   "id": "5cf32cf1",
   "metadata": {},
   "outputs": [],
   "source": [
    "SEED = 42\n",
    "KERAS_VERBOSITY = 0"
   ]
  },
  {
   "cell_type": "code",
   "execution_count": 3,
   "id": "f0be487c",
   "metadata": {},
   "outputs": [
    {
     "data": {
      "text/plain": [
       "[PhysicalDevice(name='/physical_device:CPU:0', device_type='CPU')]"
      ]
     },
     "metadata": {},
     "output_type": "display_data"
    },
    {
     "data": {
      "text/plain": [
       "[PhysicalDevice(name='/physical_device:GPU:0', device_type='GPU')]"
      ]
     },
     "metadata": {},
     "output_type": "display_data"
    }
   ],
   "source": [
    "display(tf.config.list_physical_devices('CPU'))\n",
    "display(tf.config.list_physical_devices('GPU'))"
   ]
  },
  {
   "cell_type": "markdown",
   "id": "e5ef0a5e",
   "metadata": {},
   "source": [
    "# HELPER FUNCTIONS"
   ]
  },
  {
   "cell_type": "code",
   "execution_count": 4,
   "id": "07f5807d",
   "metadata": {},
   "outputs": [],
   "source": [
    "def eval_model_np(model, data_test):\n",
    "    est_trues = np.zeros(len(data_test))\n",
    "    est_preds = np.zeros(len(data_test))\n",
    "    for i, zip_data in enumerate(data_test):\n",
    "        y_preds = model.predict(zip_data[0], verbose=KERAS_VERBOSITY)\n",
    "        est_trues[i] = zip_data[1][0]\n",
    "        est_preds[i] = y_preds[0][0]\n",
    "\n",
    "    return est_trues, est_preds\n",
    "\n",
    "def eval_model_df(model, data_test):\n",
    "    est_trues, est_preds = eval_model_np(model, data_test)\n",
    "    \n",
    "    return pd.DataFrame({'est_trues': est_trues,\n",
    "                         'est_preds': est_preds})    "
   ]
  },
  {
   "cell_type": "markdown",
   "id": "b0e5a195",
   "metadata": {},
   "source": [
    "# DATA INGESTION"
   ]
  },
  {
   "cell_type": "code",
   "execution_count": 5,
   "id": "10a21494",
   "metadata": {},
   "outputs": [
    {
     "data": {
      "text/html": [
       "<div>\n",
       "<style scoped>\n",
       "    .dataframe tbody tr th:only-of-type {\n",
       "        vertical-align: middle;\n",
       "    }\n",
       "\n",
       "    .dataframe tbody tr th {\n",
       "        vertical-align: top;\n",
       "    }\n",
       "\n",
       "    .dataframe thead th {\n",
       "        text-align: right;\n",
       "    }\n",
       "</style>\n",
       "<table border=\"1\" class=\"dataframe\">\n",
       "  <thead>\n",
       "    <tr style=\"text-align: right;\">\n",
       "      <th></th>\n",
       "      <th>zip</th>\n",
       "      <th>year</th>\n",
       "      <th>est</th>\n",
       "      <th>emp_nf</th>\n",
       "      <th>emp</th>\n",
       "      <th>qp1_nf</th>\n",
       "      <th>qp1</th>\n",
       "      <th>ap_nf</th>\n",
       "      <th>ap</th>\n",
       "      <th>naics_11_pct</th>\n",
       "      <th>...</th>\n",
       "      <th>n50_99_pct</th>\n",
       "      <th>n100_249_pct</th>\n",
       "      <th>n250_499_pct</th>\n",
       "      <th>n500_999_pct</th>\n",
       "      <th>n1000_pct</th>\n",
       "      <th>median_hh_income</th>\n",
       "      <th>total_population</th>\n",
       "      <th>total_retirement</th>\n",
       "      <th>total_midcareer (25-34)</th>\n",
       "      <th>total_midcareer (35-44)</th>\n",
       "    </tr>\n",
       "  </thead>\n",
       "  <tbody>\n",
       "    <tr>\n",
       "      <th>0</th>\n",
       "      <td>91901</td>\n",
       "      <td>2013</td>\n",
       "      <td>402</td>\n",
       "      <td>H</td>\n",
       "      <td>4141.0</td>\n",
       "      <td>H</td>\n",
       "      <td>36304.0</td>\n",
       "      <td>H</td>\n",
       "      <td>174786.0</td>\n",
       "      <td>0.000000</td>\n",
       "      <td>...</td>\n",
       "      <td>0.010230</td>\n",
       "      <td>0.005115</td>\n",
       "      <td>0.002558</td>\n",
       "      <td>0.000000</td>\n",
       "      <td>0.002558</td>\n",
       "      <td>76496.0</td>\n",
       "      <td>17034.0</td>\n",
       "      <td>2691.0</td>\n",
       "      <td>1441.0</td>\n",
       "      <td>2011.0</td>\n",
       "    </tr>\n",
       "    <tr>\n",
       "      <th>1</th>\n",
       "      <td>91901</td>\n",
       "      <td>2014</td>\n",
       "      <td>392</td>\n",
       "      <td>H</td>\n",
       "      <td>4808.0</td>\n",
       "      <td>H</td>\n",
       "      <td>54568.0</td>\n",
       "      <td>H</td>\n",
       "      <td>188411.0</td>\n",
       "      <td>0.000000</td>\n",
       "      <td>...</td>\n",
       "      <td>0.012438</td>\n",
       "      <td>0.007463</td>\n",
       "      <td>0.000000</td>\n",
       "      <td>0.002488</td>\n",
       "      <td>0.002488</td>\n",
       "      <td>79792.0</td>\n",
       "      <td>17123.0</td>\n",
       "      <td>2678.0</td>\n",
       "      <td>1693.0</td>\n",
       "      <td>1786.0</td>\n",
       "    </tr>\n",
       "    <tr>\n",
       "      <th>2</th>\n",
       "      <td>91901</td>\n",
       "      <td>2015</td>\n",
       "      <td>397</td>\n",
       "      <td>H</td>\n",
       "      <td>4436.0</td>\n",
       "      <td>H</td>\n",
       "      <td>45258.0</td>\n",
       "      <td>H</td>\n",
       "      <td>171382.0</td>\n",
       "      <td>0.002551</td>\n",
       "      <td>...</td>\n",
       "      <td>0.012755</td>\n",
       "      <td>0.010204</td>\n",
       "      <td>0.000000</td>\n",
       "      <td>0.000000</td>\n",
       "      <td>0.002551</td>\n",
       "      <td>81379.0</td>\n",
       "      <td>18184.0</td>\n",
       "      <td>3075.0</td>\n",
       "      <td>1989.0</td>\n",
       "      <td>1598.0</td>\n",
       "    </tr>\n",
       "    <tr>\n",
       "      <th>3</th>\n",
       "      <td>91901</td>\n",
       "      <td>2016</td>\n",
       "      <td>390</td>\n",
       "      <td>H</td>\n",
       "      <td>4255.0</td>\n",
       "      <td>H</td>\n",
       "      <td>37704.0</td>\n",
       "      <td>H</td>\n",
       "      <td>151533.0</td>\n",
       "      <td>0.000000</td>\n",
       "      <td>...</td>\n",
       "      <td>0.012594</td>\n",
       "      <td>0.005038</td>\n",
       "      <td>0.000000</td>\n",
       "      <td>0.000000</td>\n",
       "      <td>0.002519</td>\n",
       "      <td>79859.0</td>\n",
       "      <td>18507.0</td>\n",
       "      <td>3158.0</td>\n",
       "      <td>1947.0</td>\n",
       "      <td>1683.0</td>\n",
       "    </tr>\n",
       "    <tr>\n",
       "      <th>4</th>\n",
       "      <td>91901</td>\n",
       "      <td>2017</td>\n",
       "      <td>413</td>\n",
       "      <td>H</td>\n",
       "      <td>4515.0</td>\n",
       "      <td>H</td>\n",
       "      <td>39556.0</td>\n",
       "      <td>H</td>\n",
       "      <td>167307.0</td>\n",
       "      <td>0.000000</td>\n",
       "      <td>...</td>\n",
       "      <td>0.015385</td>\n",
       "      <td>0.010256</td>\n",
       "      <td>0.000000</td>\n",
       "      <td>0.000000</td>\n",
       "      <td>0.002564</td>\n",
       "      <td>81603.0</td>\n",
       "      <td>18586.0</td>\n",
       "      <td>3236.0</td>\n",
       "      <td>1771.0</td>\n",
       "      <td>1909.0</td>\n",
       "    </tr>\n",
       "  </tbody>\n",
       "</table>\n",
       "<p>5 rows × 43 columns</p>\n",
       "</div>"
      ],
      "text/plain": [
       "     zip  year  est emp_nf     emp qp1_nf      qp1 ap_nf        ap  \\\n",
       "0  91901  2013  402      H  4141.0      H  36304.0     H  174786.0   \n",
       "1  91901  2014  392      H  4808.0      H  54568.0     H  188411.0   \n",
       "2  91901  2015  397      H  4436.0      H  45258.0     H  171382.0   \n",
       "3  91901  2016  390      H  4255.0      H  37704.0     H  151533.0   \n",
       "4  91901  2017  413      H  4515.0      H  39556.0     H  167307.0   \n",
       "\n",
       "   naics_11_pct  ...  n50_99_pct  n100_249_pct  n250_499_pct  n500_999_pct  \\\n",
       "0      0.000000  ...    0.010230      0.005115      0.002558      0.000000   \n",
       "1      0.000000  ...    0.012438      0.007463      0.000000      0.002488   \n",
       "2      0.002551  ...    0.012755      0.010204      0.000000      0.000000   \n",
       "3      0.000000  ...    0.012594      0.005038      0.000000      0.000000   \n",
       "4      0.000000  ...    0.015385      0.010256      0.000000      0.000000   \n",
       "\n",
       "   n1000_pct  median_hh_income  total_population  total_retirement  \\\n",
       "0   0.002558           76496.0           17034.0            2691.0   \n",
       "1   0.002488           79792.0           17123.0            2678.0   \n",
       "2   0.002551           81379.0           18184.0            3075.0   \n",
       "3   0.002519           79859.0           18507.0            3158.0   \n",
       "4   0.002564           81603.0           18586.0            3236.0   \n",
       "\n",
       "   total_midcareer (25-34)  total_midcareer (35-44)  \n",
       "0                   1441.0                   2011.0  \n",
       "1                   1693.0                   1786.0  \n",
       "2                   1989.0                   1598.0  \n",
       "3                   1947.0                   1683.0  \n",
       "4                   1771.0                   1909.0  \n",
       "\n",
       "[5 rows x 43 columns]"
      ]
     },
     "execution_count": 5,
     "metadata": {},
     "output_type": "execute_result"
    }
   ],
   "source": [
    "file_path = '../../../src/data/temp/lagged_zbp_totals_with_features.csv'\n",
    "data = pd.read_csv(file_path)\n",
    "data.head()"
   ]
  },
  {
   "cell_type": "markdown",
   "id": "b36eb884",
   "metadata": {},
   "source": [
    "# DATA PROCESSING (OHE)"
   ]
  },
  {
   "cell_type": "code",
   "execution_count": 6,
   "id": "3651c755",
   "metadata": {},
   "outputs": [],
   "source": [
    "included_feats = data.columns.drop(['emp_nf', 'qp1_nf', 'ap_nf'])\n",
    "data = data[included_feats]"
   ]
  },
  {
   "cell_type": "code",
   "execution_count": 7,
   "id": "9662b638",
   "metadata": {},
   "outputs": [
    {
     "data": {
      "text/html": [
       "<div>\n",
       "<style scoped>\n",
       "    .dataframe tbody tr th:only-of-type {\n",
       "        vertical-align: middle;\n",
       "    }\n",
       "\n",
       "    .dataframe tbody tr th {\n",
       "        vertical-align: top;\n",
       "    }\n",
       "\n",
       "    .dataframe thead th {\n",
       "        text-align: right;\n",
       "    }\n",
       "</style>\n",
       "<table border=\"1\" class=\"dataframe\">\n",
       "  <thead>\n",
       "    <tr style=\"text-align: right;\">\n",
       "      <th></th>\n",
       "      <th>zip_91901</th>\n",
       "      <th>zip_91902</th>\n",
       "      <th>zip_91906</th>\n",
       "      <th>zip_91910</th>\n",
       "      <th>zip_91911</th>\n",
       "      <th>zip_91913</th>\n",
       "      <th>zip_91914</th>\n",
       "      <th>zip_91915</th>\n",
       "      <th>zip_91916</th>\n",
       "      <th>zip_91932</th>\n",
       "      <th>...</th>\n",
       "      <th>n50_99_pct</th>\n",
       "      <th>n100_249_pct</th>\n",
       "      <th>n250_499_pct</th>\n",
       "      <th>n500_999_pct</th>\n",
       "      <th>n1000_pct</th>\n",
       "      <th>median_hh_income</th>\n",
       "      <th>total_population</th>\n",
       "      <th>total_retirement</th>\n",
       "      <th>total_midcareer (25-34)</th>\n",
       "      <th>total_midcareer (35-44)</th>\n",
       "    </tr>\n",
       "  </thead>\n",
       "  <tbody>\n",
       "    <tr>\n",
       "      <th>0</th>\n",
       "      <td>1.0</td>\n",
       "      <td>0.0</td>\n",
       "      <td>0.0</td>\n",
       "      <td>0.0</td>\n",
       "      <td>0.0</td>\n",
       "      <td>0.0</td>\n",
       "      <td>0.0</td>\n",
       "      <td>0.0</td>\n",
       "      <td>0.0</td>\n",
       "      <td>0.0</td>\n",
       "      <td>...</td>\n",
       "      <td>0.010230</td>\n",
       "      <td>0.005115</td>\n",
       "      <td>0.002558</td>\n",
       "      <td>0.000000</td>\n",
       "      <td>0.002558</td>\n",
       "      <td>76496.0</td>\n",
       "      <td>17034.0</td>\n",
       "      <td>2691.0</td>\n",
       "      <td>1441.0</td>\n",
       "      <td>2011.0</td>\n",
       "    </tr>\n",
       "    <tr>\n",
       "      <th>1</th>\n",
       "      <td>1.0</td>\n",
       "      <td>0.0</td>\n",
       "      <td>0.0</td>\n",
       "      <td>0.0</td>\n",
       "      <td>0.0</td>\n",
       "      <td>0.0</td>\n",
       "      <td>0.0</td>\n",
       "      <td>0.0</td>\n",
       "      <td>0.0</td>\n",
       "      <td>0.0</td>\n",
       "      <td>...</td>\n",
       "      <td>0.012438</td>\n",
       "      <td>0.007463</td>\n",
       "      <td>0.000000</td>\n",
       "      <td>0.002488</td>\n",
       "      <td>0.002488</td>\n",
       "      <td>79792.0</td>\n",
       "      <td>17123.0</td>\n",
       "      <td>2678.0</td>\n",
       "      <td>1693.0</td>\n",
       "      <td>1786.0</td>\n",
       "    </tr>\n",
       "    <tr>\n",
       "      <th>2</th>\n",
       "      <td>1.0</td>\n",
       "      <td>0.0</td>\n",
       "      <td>0.0</td>\n",
       "      <td>0.0</td>\n",
       "      <td>0.0</td>\n",
       "      <td>0.0</td>\n",
       "      <td>0.0</td>\n",
       "      <td>0.0</td>\n",
       "      <td>0.0</td>\n",
       "      <td>0.0</td>\n",
       "      <td>...</td>\n",
       "      <td>0.012755</td>\n",
       "      <td>0.010204</td>\n",
       "      <td>0.000000</td>\n",
       "      <td>0.000000</td>\n",
       "      <td>0.002551</td>\n",
       "      <td>81379.0</td>\n",
       "      <td>18184.0</td>\n",
       "      <td>3075.0</td>\n",
       "      <td>1989.0</td>\n",
       "      <td>1598.0</td>\n",
       "    </tr>\n",
       "    <tr>\n",
       "      <th>3</th>\n",
       "      <td>1.0</td>\n",
       "      <td>0.0</td>\n",
       "      <td>0.0</td>\n",
       "      <td>0.0</td>\n",
       "      <td>0.0</td>\n",
       "      <td>0.0</td>\n",
       "      <td>0.0</td>\n",
       "      <td>0.0</td>\n",
       "      <td>0.0</td>\n",
       "      <td>0.0</td>\n",
       "      <td>...</td>\n",
       "      <td>0.012594</td>\n",
       "      <td>0.005038</td>\n",
       "      <td>0.000000</td>\n",
       "      <td>0.000000</td>\n",
       "      <td>0.002519</td>\n",
       "      <td>79859.0</td>\n",
       "      <td>18507.0</td>\n",
       "      <td>3158.0</td>\n",
       "      <td>1947.0</td>\n",
       "      <td>1683.0</td>\n",
       "    </tr>\n",
       "    <tr>\n",
       "      <th>4</th>\n",
       "      <td>1.0</td>\n",
       "      <td>0.0</td>\n",
       "      <td>0.0</td>\n",
       "      <td>0.0</td>\n",
       "      <td>0.0</td>\n",
       "      <td>0.0</td>\n",
       "      <td>0.0</td>\n",
       "      <td>0.0</td>\n",
       "      <td>0.0</td>\n",
       "      <td>0.0</td>\n",
       "      <td>...</td>\n",
       "      <td>0.015385</td>\n",
       "      <td>0.010256</td>\n",
       "      <td>0.000000</td>\n",
       "      <td>0.000000</td>\n",
       "      <td>0.002564</td>\n",
       "      <td>81603.0</td>\n",
       "      <td>18586.0</td>\n",
       "      <td>3236.0</td>\n",
       "      <td>1771.0</td>\n",
       "      <td>1909.0</td>\n",
       "    </tr>\n",
       "  </tbody>\n",
       "</table>\n",
       "<p>5 rows × 129 columns</p>\n",
       "</div>"
      ],
      "text/plain": [
       "   zip_91901  zip_91902  zip_91906  zip_91910  zip_91911  zip_91913  \\\n",
       "0        1.0        0.0        0.0        0.0        0.0        0.0   \n",
       "1        1.0        0.0        0.0        0.0        0.0        0.0   \n",
       "2        1.0        0.0        0.0        0.0        0.0        0.0   \n",
       "3        1.0        0.0        0.0        0.0        0.0        0.0   \n",
       "4        1.0        0.0        0.0        0.0        0.0        0.0   \n",
       "\n",
       "   zip_91914  zip_91915  zip_91916  zip_91932  ...  n50_99_pct  n100_249_pct  \\\n",
       "0        0.0        0.0        0.0        0.0  ...    0.010230      0.005115   \n",
       "1        0.0        0.0        0.0        0.0  ...    0.012438      0.007463   \n",
       "2        0.0        0.0        0.0        0.0  ...    0.012755      0.010204   \n",
       "3        0.0        0.0        0.0        0.0  ...    0.012594      0.005038   \n",
       "4        0.0        0.0        0.0        0.0  ...    0.015385      0.010256   \n",
       "\n",
       "   n250_499_pct  n500_999_pct  n1000_pct  median_hh_income  total_population  \\\n",
       "0      0.002558      0.000000   0.002558           76496.0           17034.0   \n",
       "1      0.000000      0.002488   0.002488           79792.0           17123.0   \n",
       "2      0.000000      0.000000   0.002551           81379.0           18184.0   \n",
       "3      0.000000      0.000000   0.002519           79859.0           18507.0   \n",
       "4      0.000000      0.000000   0.002564           81603.0           18586.0   \n",
       "\n",
       "   total_retirement  total_midcareer (25-34)  total_midcareer (35-44)  \n",
       "0            2691.0                   1441.0                   2011.0  \n",
       "1            2678.0                   1693.0                   1786.0  \n",
       "2            3075.0                   1989.0                   1598.0  \n",
       "3            3158.0                   1947.0                   1683.0  \n",
       "4            3236.0                   1771.0                   1909.0  \n",
       "\n",
       "[5 rows x 129 columns]"
      ]
     },
     "execution_count": 7,
     "metadata": {},
     "output_type": "execute_result"
    }
   ],
   "source": [
    "preproc = ColumnTransformer([('onehots', OneHotEncoder(handle_unknown='ignore'), ['zip'])]\n",
    "                             ,remainder = 'passthrough')\n",
    "\n",
    "ohe_data = preproc.fit_transform(data)\n",
    "\n",
    "feature_names = preproc.get_feature_names_out()\n",
    "feature_names = np.char.replace(feature_names.astype('str'), 'onehots__','')\n",
    "feature_names = np.char.replace(feature_names, 'remainder__','')\n",
    "\n",
    "ohe_data = pd.DataFrame(ohe_data, columns=feature_names)\n",
    "ohe_data.head()"
   ]
  },
  {
   "cell_type": "markdown",
   "id": "c0d373af",
   "metadata": {},
   "source": [
    "# TRAIN TEST SPLIT"
   ]
  },
  {
   "cell_type": "code",
   "execution_count": 8,
   "id": "bf9e19d9",
   "metadata": {},
   "outputs": [],
   "source": [
    "class CustomTimeSeriesSplit:\n",
    "    def __init__(self, n_splits=None):\n",
    "        self.n_splits = n_splits\n",
    "\n",
    "    def split(self, X, y=None, groups=None):\n",
    "        \n",
    "        year_range = np.sort(X['year'].unique())\n",
    "        min_year = year_range[0]\n",
    "        \n",
    "        self.n_splits = len(year_range) - 1\n",
    "        \n",
    "        for test_year in year_range[1:]:\n",
    "            curr_range = np.arange(min_year, test_year)\n",
    "            train = X[X['year'].apply(lambda year: year in curr_range)].index.to_numpy()\n",
    "            test = X[X['year'] == test_year].index.to_numpy()\n",
    "            \n",
    "            yield train, test\n",
    "\n",
    "    def get_n_splits(self, X, y, groups=None):\n",
    "        \n",
    "        year_range = np.sort(X['year'].unique())\n",
    "        \n",
    "        return len(year_range) - 1"
   ]
  },
  {
   "cell_type": "code",
   "execution_count": 9,
   "id": "66801866",
   "metadata": {},
   "outputs": [],
   "source": [
    "tscv = CustomTimeSeriesSplit()\n",
    "split = list(tscv.split(ohe_data, None))\n",
    "\n",
    "train_indicies, test_indicies = split[-1]\n",
    "\n",
    "data_train = ohe_data.iloc[train_indicies].reset_index(drop=True)\n",
    "data_test = ohe_data.iloc[test_indicies].reset_index(drop=True)"
   ]
  },
  {
   "cell_type": "markdown",
   "id": "533a8462",
   "metadata": {},
   "source": [
    "# RESHAPE INPUTS"
   ]
  },
  {
   "cell_type": "code",
   "execution_count": 10,
   "id": "ff37db67",
   "metadata": {},
   "outputs": [],
   "source": [
    "def split_by_zip(data):\n",
    "    \n",
    "    zip_codes = [col for col in data.columns if 'zip' in col]\n",
    "    included_feats = data.columns.drop(['est'])\n",
    "    \n",
    "    temp = []\n",
    "    for curr_zip in zip_codes:\n",
    "        \n",
    "        curr_data = data[data[curr_zip] == 1.0]\n",
    "        X = curr_data[included_feats].values\n",
    "        X = X.reshape((X.shape[0], 1, X.shape[1]))\n",
    "        y = curr_data['est'].values\n",
    "        \n",
    "        temp += [[X, y]]\n",
    "    \n",
    "    return temp"
   ]
  },
  {
   "cell_type": "code",
   "execution_count": 11,
   "id": "21915652",
   "metadata": {},
   "outputs": [],
   "source": [
    "data_train = split_by_zip(data_train)\n",
    "data_test = split_by_zip(data_test)"
   ]
  },
  {
   "cell_type": "markdown",
   "id": "7c9000c2",
   "metadata": {},
   "source": [
    "# MODEL"
   ]
  },
  {
   "cell_type": "code",
   "execution_count": 12,
   "id": "58aee737",
   "metadata": {},
   "outputs": [],
   "source": [
    "model = Sequential()\n",
    "model.add(LSTM(50, input_shape=(data_train[0][0].shape[1], data_train[0][0].shape[2])))\n",
    "model.add(Dense(1))\n",
    "model.compile(loss='mse', optimizer='adam')"
   ]
  },
  {
   "cell_type": "markdown",
   "id": "449c9c92",
   "metadata": {},
   "source": [
    "# TRAIN"
   ]
  },
  {
   "cell_type": "code",
   "execution_count": 13,
   "id": "da5a666e",
   "metadata": {
    "scrolled": true
   },
   "outputs": [
    {
     "name": "stderr",
     "output_type": "stream",
     "text": [
      "100%|██████████| 2/2 [00:21<00:00, 10.54s/it]"
     ]
    },
    {
     "name": "stdout",
     "output_type": "stream",
     "text": [
      "CPU times: total: 2.69 s\n",
      "Wall time: 21.1 s\n"
     ]
    },
    {
     "name": "stderr",
     "output_type": "stream",
     "text": [
      "\n"
     ]
    }
   ],
   "source": [
    "%%time\n",
    "\n",
    "TOTAL_EPOCHS = 2\n",
    "\n",
    "losses = []\n",
    "val_losses = []\n",
    "for _ in tqdm(np.arange(TOTAL_EPOCHS)):\n",
    "    \n",
    "    loss_curr_epoch = 0\n",
    "    i = 0\n",
    "    for zip_data in data_train:\n",
    "        history = model.fit(zip_data[0], zip_data[1], epochs=1, batch_size=1, verbose=KERAS_VERBOSITY, shuffle=False)\n",
    "        loss_curr_epoch += history.history['loss'][0]\n",
    "        i += 1\n",
    "    # loss calculation only holds if all zip codes have same # of observations\n",
    "    losses += [loss_curr_epoch/i]\n",
    "    est_trues, est_preds = eval_model_np(model, data_test)\n",
    "    val_losses += [mean_squared_error(est_trues, est_preds)]"
   ]
  },
  {
   "cell_type": "code",
   "execution_count": 14,
   "id": "fa595bea",
   "metadata": {
    "scrolled": false
   },
   "outputs": [
    {
     "data": {
      "image/png": "[encoded data removed]",
      "text/plain": [
       "<Figure size 640x480 with 1 Axes>"
      ]
     },
     "metadata": {},
     "output_type": "display_data"
    }
   ],
   "source": [
    "plt.plot(np.arange(1, len(losses) + 1), losses, label='train')\n",
    "plt.plot(np.arange(1, len(val_losses) + 1), val_losses, label='validation')\n",
    "plt.legend()\n",
    "plt.show()"
   ]
  },
  {
   "cell_type": "markdown",
   "id": "0ead80ac",
   "metadata": {},
   "source": [
    "# EVALUATE"
   ]
  },
  {
   "cell_type": "code",
   "execution_count": 16,
   "id": "305f505e",
   "metadata": {
    "scrolled": false
   },
   "outputs": [
    {
     "data": {
      "text/html": [
       "<div>\n",
       "<style scoped>\n",
       "    .dataframe tbody tr th:only-of-type {\n",
       "        vertical-align: middle;\n",
       "    }\n",
       "\n",
       "    .dataframe tbody tr th {\n",
       "        vertical-align: top;\n",
       "    }\n",
       "\n",
       "    .dataframe thead th {\n",
       "        text-align: right;\n",
       "    }\n",
       "</style>\n",
       "<table border=\"1\" class=\"dataframe\">\n",
       "  <thead>\n",
       "    <tr style=\"text-align: right;\">\n",
       "      <th></th>\n",
       "      <th>est_trues</th>\n",
       "      <th>est_preds</th>\n",
       "    </tr>\n",
       "  </thead>\n",
       "  <tbody>\n",
       "    <tr>\n",
       "      <th>0</th>\n",
       "      <td>430.0</td>\n",
       "      <td>11.831245</td>\n",
       "    </tr>\n",
       "    <tr>\n",
       "      <th>1</th>\n",
       "      <td>391.0</td>\n",
       "      <td>6.861576</td>\n",
       "    </tr>\n",
       "    <tr>\n",
       "      <th>2</th>\n",
       "      <td>44.0</td>\n",
       "      <td>3.988099</td>\n",
       "    </tr>\n",
       "    <tr>\n",
       "      <th>3</th>\n",
       "      <td>1610.0</td>\n",
       "      <td>14.592430</td>\n",
       "    </tr>\n",
       "    <tr>\n",
       "      <th>4</th>\n",
       "      <td>1476.0</td>\n",
       "      <td>14.592430</td>\n",
       "    </tr>\n",
       "    <tr>\n",
       "      <th>...</th>\n",
       "      <td>...</td>\n",
       "      <td>...</td>\n",
       "    </tr>\n",
       "    <tr>\n",
       "      <th>85</th>\n",
       "      <td>2200.0</td>\n",
       "      <td>14.592430</td>\n",
       "    </tr>\n",
       "    <tr>\n",
       "      <th>86</th>\n",
       "      <td>1093.0</td>\n",
       "      <td>14.592430</td>\n",
       "    </tr>\n",
       "    <tr>\n",
       "      <th>87</th>\n",
       "      <td>154.0</td>\n",
       "      <td>6.290938</td>\n",
       "    </tr>\n",
       "    <tr>\n",
       "      <th>88</th>\n",
       "      <td>1765.0</td>\n",
       "      <td>14.592430</td>\n",
       "    </tr>\n",
       "    <tr>\n",
       "      <th>89</th>\n",
       "      <td>561.0</td>\n",
       "      <td>11.831245</td>\n",
       "    </tr>\n",
       "  </tbody>\n",
       "</table>\n",
       "<p>90 rows × 2 columns</p>\n",
       "</div>"
      ],
      "text/plain": [
       "    est_trues  est_preds\n",
       "0       430.0  11.831245\n",
       "1       391.0   6.861576\n",
       "2        44.0   3.988099\n",
       "3      1610.0  14.592430\n",
       "4      1476.0  14.592430\n",
       "..        ...        ...\n",
       "85     2200.0  14.592430\n",
       "86     1093.0  14.592430\n",
       "87      154.0   6.290938\n",
       "88     1765.0  14.592430\n",
       "89      561.0  11.831245\n",
       "\n",
       "[90 rows x 2 columns]"
      ]
     },
     "metadata": {},
     "output_type": "display_data"
    },
    {
     "name": "stdout",
     "output_type": "stream",
     "text": [
      "Test RMSE: 1558395.488\n"
     ]
    }
   ],
   "source": [
    "eval_df = eval_model_df(model, data_test)\n",
    "test_rmse = mean_squared_error(eval_df['est_trues'], eval_df['est_preds'])\n",
    "display(eval_df)\n",
    "print('Test RMSE: %.3f' % test_rmse)"
   ]
  },
  {
   "cell_type": "code",
   "execution_count": 43,
   "id": "12a41917",
   "metadata": {},
   "outputs": [
    {
     "name": "stdout",
     "output_type": "stream",
     "text": [
      "348.83720930232556\n",
      "232.5581395348837\n",
      "174.41860465116278\n",
      "139.53488372093022\n",
      "116.27906976744185\n",
      "99.66777408637874\n",
      "87.20930232558139\n",
      "77.51937984496124\n"
     ]
    }
   ],
   "source": [
    "for i in [2, 3, 4, 5, 6, 7, 8, 9]:\n",
    "    print(90_000 / (i * (data_train[0][0].shape[2] + 1)))"
   ]
  },
  {
   "cell_type": "code",
   "execution_count": null,
   "id": "950b75a7",
   "metadata": {},
   "outputs": [],
   "source": []
  },
  {
   "cell_type": "code",
   "execution_count": null,
   "id": "58257c03",
   "metadata": {},
   "outputs": [],
   "source": []
  },
  {
   "cell_type": "code",
   "execution_count": null,
   "id": "93be5a6b",
   "metadata": {},
   "outputs": [],
   "source": []
  },
  {
   "cell_type": "code",
   "execution_count": null,
   "id": "93386d0b",
   "metadata": {},
   "outputs": [],
   "source": []
  }
 ],
 "metadata": {
  "kernelspec": {
   "display_name": "Python 3 (ipykernel)",
   "language": "python",
   "name": "python3"
  },
  "language_info": {
   "codemirror_mode": {
    "name": "ipython",
    "version": 3
   },
   "file_extension": ".py",
   "mimetype": "text/x-python",
   "name": "python",
   "nbconvert_exporter": "python",
   "pygments_lexer": "ipython3",
   "version": "3.10.13"
  }
 },
 "nbformat": 4,
 "nbformat_minor": 5
}
