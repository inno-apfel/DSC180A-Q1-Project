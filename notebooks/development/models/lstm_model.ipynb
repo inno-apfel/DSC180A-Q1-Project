{
 "cells": [
  {
   "cell_type": "code",
   "execution_count": null,
   "id": "282897b5",
   "metadata": {},
   "outputs": [],
   "source": [
    "import numpy as np\n",
    "import pandas as pd\n",
    "import matplotlib.pyplot as plt\n",
    "\n",
    "import tensorflow as tf\n",
    "\n",
    "from keras.models import Sequential\n",
    "from keras.layers import Dense\n",
    "from keras.layers import LSTM\n",
    "\n",
    "from sklearn.compose import ColumnTransformer\n",
    "from sklearn.preprocessing import OneHotEncoder\n",
    "from sklearn.metrics import mean_squared_error\n",
    "\n",
    "from tqdm import tqdm"
   ]
  },
  {
   "cell_type": "code",
   "execution_count": null,
   "id": "5cf32cf1",
   "metadata": {},
   "outputs": [],
   "source": [
    "SEED = 42\n",
    "KERAS_VERBOSITY = 0"
   ]
  },
  {
   "cell_type": "code",
   "execution_count": null,
   "id": "f0be487c",
   "metadata": {},
   "outputs": [],
   "source": [
    "display(tf.config.list_physical_devices('CPU'))\n",
    "display(tf.config.list_physical_devices('GPU'))"
   ]
  },
  {
   "cell_type": "markdown",
   "id": "e5ef0a5e",
   "metadata": {},
   "source": [
    "# HELPER FUNCTIONS"
   ]
  },
  {
   "cell_type": "code",
   "execution_count": null,
   "id": "07f5807d",
   "metadata": {},
   "outputs": [],
   "source": [
    "def eval_model_np(model, data_test):\n",
    "    est_trues = np.zeros(len(data_test))\n",
    "    est_preds = np.zeros(len(data_test))\n",
    "    for i, zip_data in enumerate(data_test):\n",
    "        y_preds = model.predict(zip_data[0], verbose=KERAS_VERBOSITY)\n",
    "        est_trues[i] = zip_data[1][0]\n",
    "        est_preds[i] = y_preds[0][0]\n",
    "\n",
    "    return est_trues, est_preds\n",
    "\n",
    "def eval_model_df(model, data_test):\n",
    "    est_trues, est_preds = eval_model_np(model, data_test)\n",
    "    \n",
    "    return pd.DataFrame({'est_trues': est_trues,\n",
    "                         'est_preds': est_preds})    "
   ]
  },
  {
   "cell_type": "markdown",
   "id": "b0e5a195",
   "metadata": {},
   "source": [
    "# DATA INGESTION"
   ]
  },
  {
   "cell_type": "code",
   "execution_count": null,
   "id": "10a21494",
   "metadata": {},
   "outputs": [],
   "source": [
    "file_path = '../../../src/data/temp/lagged_zbp_totals_with_features.csv'\n",
    "data = pd.read_csv(file_path)\n",
    "data.head()"
   ]
  },
  {
   "cell_type": "markdown",
   "id": "74a4d4ab",
   "metadata": {},
   "source": [
    "# DROP NON-NUMERICAL"
   ]
  },
  {
   "cell_type": "code",
   "execution_count": null,
   "id": "3651c755",
   "metadata": {},
   "outputs": [],
   "source": [
    "included_feats = data.columns.drop(['emp_nf', 'qp1_nf', 'ap_nf'])\n",
    "data = data[included_feats]"
   ]
  },
  {
   "cell_type": "markdown",
   "id": "c0d373af",
   "metadata": {},
   "source": [
    "# TRAIN TEST SPLIT"
   ]
  },
  {
   "cell_type": "code",
   "execution_count": null,
   "id": "bf9e19d9",
   "metadata": {},
   "outputs": [],
   "source": [
    "class CustomTimeSeriesSplit:\n",
    "    def __init__(self, n_splits=None):\n",
    "        self.n_splits = n_splits\n",
    "\n",
    "    def split(self, X, y=None, groups=None):\n",
    "        \n",
    "        year_range = np.sort(X['year'].unique())\n",
    "        min_year = year_range[0]\n",
    "        \n",
    "        self.n_splits = len(year_range) - 1\n",
    "        \n",
    "        for test_year in year_range[1:]:\n",
    "            curr_range = np.arange(min_year, test_year)\n",
    "            train = X[X['year'].apply(lambda year: year in curr_range)].index.to_numpy()\n",
    "            test = X[X['year'] == test_year].index.to_numpy()\n",
    "            \n",
    "            yield train, test\n",
    "\n",
    "    def get_n_splits(self, X, y, groups=None):\n",
    "        \n",
    "        year_range = np.sort(X['year'].unique())\n",
    "        \n",
    "        return len(year_range) - 1"
   ]
  },
  {
   "cell_type": "code",
   "execution_count": null,
   "id": "66801866",
   "metadata": {},
   "outputs": [],
   "source": [
    "tscv = CustomTimeSeriesSplit()\n",
    "split = list(tscv.split(data, None))\n",
    "\n",
    "train_indicies, test_indicies = split[-1]\n",
    "\n",
    "data_train = data.iloc[train_indicies].reset_index(drop=True)\n",
    "data_test = data.iloc[test_indicies].reset_index(drop=True)"
   ]
  },
  {
   "cell_type": "markdown",
   "id": "4406d0bd",
   "metadata": {},
   "source": [
    "# STANDARDIZING"
   ]
  },
  {
   "cell_type": "code",
   "execution_count": null,
   "id": "019cd767",
   "metadata": {},
   "outputs": [],
   "source": [
    "train_mean = data_train.mean()\n",
    "train_mean['zip'] = 0\n",
    "\n",
    "train_std = data_train.std()\n",
    "train_std['zip'] = 1"
   ]
  },
  {
   "cell_type": "code",
   "execution_count": null,
   "id": "19f2121c",
   "metadata": {},
   "outputs": [],
   "source": [
    "data_train = (data_train-train_mean)/train_std\n",
    "data_test = (data_test-train_mean)/train_std"
   ]
  },
  {
   "cell_type": "markdown",
   "id": "b36eb884",
   "metadata": {},
   "source": [
    "# DATA PROCESSING (OHE)"
   ]
  },
  {
   "cell_type": "code",
   "execution_count": null,
   "id": "9662b638",
   "metadata": {},
   "outputs": [],
   "source": [
    "preproc = ColumnTransformer([('onehots', OneHotEncoder(handle_unknown='ignore'), ['zip'])]\n",
    "                             ,remainder = 'passthrough')\n",
    "\n",
    "data_ohe_train = preproc.fit_transform(data_train)\n",
    "\n",
    "feature_names = preproc.get_feature_names_out()\n",
    "feature_names = np.char.replace(feature_names.astype('str'), 'onehots__','')\n",
    "feature_names = np.char.replace(feature_names, 'remainder__','')\n",
    "\n",
    "data_ohe_train = pd.DataFrame(data_ohe_train, columns=feature_names)\n",
    "\n",
    "data_ohe_test = preproc.transform(data_test)\n",
    "data_ohe_test = pd.DataFrame(data_ohe_test, columns=feature_names)\n",
    "\n",
    "data_ohe_train.head()"
   ]
  },
  {
   "cell_type": "markdown",
   "id": "533a8462",
   "metadata": {},
   "source": [
    "# RESHAPE INPUTS"
   ]
  },
  {
   "cell_type": "code",
   "execution_count": null,
   "id": "ff37db67",
   "metadata": {},
   "outputs": [],
   "source": [
    "def split_by_zip(data):\n",
    "    \n",
    "    zip_codes = [col for col in data.columns if 'zip' in col]\n",
    "    included_feats = data.columns.drop(['est'])\n",
    "    \n",
    "    temp = []\n",
    "    for curr_zip in zip_codes:\n",
    "        \n",
    "        curr_data = data[data[curr_zip] == 1.0]\n",
    "        X = curr_data[included_feats].values\n",
    "        X = X.reshape((X.shape[0], 1, X.shape[1]))\n",
    "        y = curr_data['est'].values\n",
    "        \n",
    "        temp += [[X, y]]\n",
    "    \n",
    "    return temp"
   ]
  },
  {
   "cell_type": "code",
   "execution_count": null,
   "id": "21915652",
   "metadata": {},
   "outputs": [],
   "source": [
    "data_train = split_by_zip(data_ohe_train)\n",
    "data_test = split_by_zip(data_ohe_test)"
   ]
  },
  {
   "cell_type": "markdown",
   "id": "7c9000c2",
   "metadata": {},
   "source": [
    "# MODEL"
   ]
  },
  {
   "cell_type": "code",
   "execution_count": null,
   "id": "58aee737",
   "metadata": {},
   "outputs": [],
   "source": [
    "model = Sequential()\n",
    "model.add(LSTM(200, input_shape=(data_train[0][0].shape[1], data_train[0][0].shape[2])))\n",
    "model.add(Dense(1))\n",
    "model.compile(loss='mse', optimizer='adam')"
   ]
  },
  {
   "cell_type": "markdown",
   "id": "449c9c92",
   "metadata": {},
   "source": [
    "# TRAIN"
   ]
  },
  {
   "cell_type": "code",
   "execution_count": null,
   "id": "da5a666e",
   "metadata": {
    "scrolled": true
   },
   "outputs": [],
   "source": [
    "%%time\n",
    "\n",
    "TOTAL_EPOCHS = 75\n",
    "\n",
    "losses = []\n",
    "val_losses = []\n",
    "for _ in tqdm(np.arange(TOTAL_EPOCHS)):\n",
    "    \n",
    "    loss_curr_epoch = 0\n",
    "    i = 0\n",
    "    for zip_data in data_train:\n",
    "        history = model.fit(zip_data[0], zip_data[1], epochs=1, batch_size=1, verbose=KERAS_VERBOSITY, shuffle=False)\n",
    "        loss_curr_epoch += history.history['loss'][0]\n",
    "        i += 1\n",
    "    # loss calculation only holds if all zip codes have same # of observations\n",
    "    losses += [loss_curr_epoch/i]\n",
    "    est_trues, est_preds = eval_model_np(model, data_test)\n",
    "    val_losses += [mean_squared_error(est_trues, est_preds)]"
   ]
  },
  {
   "cell_type": "code",
   "execution_count": null,
   "id": "fa595bea",
   "metadata": {
    "scrolled": false
   },
   "outputs": [],
   "source": [
    "plt.plot(np.arange(1, len(losses) + 1), losses, label='train')\n",
    "plt.plot(np.arange(1, len(val_losses) + 1), val_losses, label='validation')\n",
    "plt.legend()\n",
    "plt.show()"
   ]
  },
  {
   "cell_type": "markdown",
   "id": "0ead80ac",
   "metadata": {},
   "source": [
    "# EVALUATE"
   ]
  },
  {
   "cell_type": "code",
   "execution_count": null,
   "id": "0a44f2a0",
   "metadata": {},
   "outputs": [],
   "source": [
    "baseline_rmse = mean_squared_error(data['est'], data['est_lag_1'], squared=False)\n",
    "print(f'baseline rmse: {baseline_rmse}')"
   ]
  },
  {
   "cell_type": "code",
   "execution_count": null,
   "id": "d589e32d",
   "metadata": {},
   "outputs": [],
   "source": [
    "eval_df = (eval_model_df(model, data_train)*train_std['est'])+train_mean['est']\n",
    "test_rmse = mean_squared_error(eval_df['est_trues'], eval_df['est_preds'], squared=False)\n",
    "display(eval_df)\n",
    "print('Final Train RMSE: %.3f' % test_rmse)"
   ]
  },
  {
   "cell_type": "code",
   "execution_count": null,
   "id": "305f505e",
   "metadata": {
    "scrolled": false
   },
   "outputs": [],
   "source": [
    "eval_df = (eval_model_df(model, data_test)*train_std['est'])+train_mean['est']\n",
    "test_rmse = mean_squared_error(eval_df['est_trues'], eval_df['est_preds'], squared=False)\n",
    "display(eval_df)\n",
    "print('Final Test RMSE: %.3f' % test_rmse)"
   ]
  },
  {
   "cell_type": "code",
   "execution_count": null,
   "id": "744b2e76",
   "metadata": {},
   "outputs": [],
   "source": []
  }
 ],
 "metadata": {
  "kernelspec": {
   "display_name": "Python 3 (ipykernel)",
   "language": "python",
   "name": "python3"
  },
  "language_info": {
   "codemirror_mode": {
    "name": "ipython",
    "version": 3
   },
   "file_extension": ".py",
   "mimetype": "text/x-python",
   "name": "python",
   "nbconvert_exporter": "python",
   "pygments_lexer": "ipython3",
   "version": "3.10.13"
  }
 },
 "nbformat": 4,
 "nbformat_minor": 5
}
