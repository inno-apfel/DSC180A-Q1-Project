{
 "cells": [
  {
   "cell_type": "code",
   "execution_count": null,
   "id": "282897b5",
   "metadata": {},
   "outputs": [],
   "source": [
    "import numpy as np\n",
    "import pandas as pd\n",
    "import matplotlib.pyplot as plt\n",
    "\n",
    "import tensorflow as tf\n",
    "\n",
    "from keras.models import Sequential\n",
    "from keras.layers import Dense\n",
    "from keras.layers import LSTM\n",
    "\n",
    "from sklearn.compose import ColumnTransformer\n",
    "from sklearn.preprocessing import OneHotEncoder\n",
    "from sklearn.metrics import mean_squared_error\n",
    "\n",
    "from tqdm import tqdm"
   ]
  },
  {
   "cell_type": "code",
   "execution_count": null,
   "id": "5cf32cf1",
   "metadata": {},
   "outputs": [],
   "source": [
    "SEED = 42"
   ]
  },
  {
   "cell_type": "code",
   "execution_count": null,
   "id": "f0be487c",
   "metadata": {},
   "outputs": [],
   "source": [
    "display(tf.config.list_physical_devices('CPU'))\n",
    "display(tf.config.list_physical_devices('GPU'))"
   ]
  },
  {
   "cell_type": "markdown",
   "id": "e5ef0a5e",
   "metadata": {},
   "source": [
    "# HELPER FUNCTIONS"
   ]
  },
  {
   "cell_type": "code",
   "execution_count": null,
   "id": "07f5807d",
   "metadata": {},
   "outputs": [],
   "source": [
    "# def eval_model(model, data_test):\n",
    "#     y_preds = np.zeros(len(data_test))\n",
    "#     y_trues = np.zeros(len(data_test))\n",
    "    \n",
    "#     for i, zip_data in enumerate(data_test):\n",
    "#         y_pred = model.predict(zip_data[0], verbose=0)[0][0]\n",
    "#         y_preds[i] = y_pred\n",
    "#         y_true = data_test[0][1][0]\n",
    "#         y_trues[i] = y_true\n",
    "\n",
    "#     return mean_squared_error(y_trues, y_preds, squared=True)\n",
    "\n",
    "def eval_model(model, data_test):\n",
    "    temp = []\n",
    "    for i, zip_data in enumerate(data_test):\n",
    "        y_preds = model.predict(zip_data[0], verbose=0)\n",
    "        res = pd.DataFrame({'est_trues':zip_data[1],\n",
    "                            'est_preds':y_preds[0]})\n",
    "        temp += [res]\n",
    "\n",
    "    temp = pd.concat(temp)\n",
    "    return temp, mean_squared_error(temp['est_trues'], temp['est_preds'], squared=True)"
   ]
  },
  {
   "cell_type": "markdown",
   "id": "b0e5a195",
   "metadata": {},
   "source": [
    "# DATA INGESTION"
   ]
  },
  {
   "cell_type": "code",
   "execution_count": null,
   "id": "10a21494",
   "metadata": {},
   "outputs": [],
   "source": [
    "file_path = '../../../src/data/temp/lagged_zbp_totals_with_features.csv'\n",
    "data = pd.read_csv(file_path)\n",
    "data = data[data['zip'].apply(lambda x: x not in [91934, 91905, 91931, 91917, 92145])]\n",
    "data.head()"
   ]
  },
  {
   "cell_type": "markdown",
   "id": "b36eb884",
   "metadata": {},
   "source": [
    "# DATA PROCESSING (OHE)"
   ]
  },
  {
   "cell_type": "code",
   "execution_count": null,
   "id": "3651c755",
   "metadata": {},
   "outputs": [],
   "source": [
    "included_feats = data.columns.drop(['emp_nf', 'qp1_nf', 'ap_nf'])\n",
    "data = data[included_feats]"
   ]
  },
  {
   "cell_type": "code",
   "execution_count": null,
   "id": "9662b638",
   "metadata": {},
   "outputs": [],
   "source": [
    "preproc = ColumnTransformer([('onehots', OneHotEncoder(handle_unknown='ignore'), ['zip'])]\n",
    "                             ,remainder = 'passthrough')\n",
    "\n",
    "ohe_data = preproc.fit_transform(data)\n",
    "\n",
    "feature_names = preproc.get_feature_names_out()\n",
    "feature_names = np.char.replace(feature_names.astype('str'), 'onehots__','')\n",
    "feature_names = np.char.replace(feature_names, 'remainder__','')\n",
    "\n",
    "ohe_data = pd.DataFrame(ohe_data, columns=feature_names)\n",
    "ohe_data.head()"
   ]
  },
  {
   "cell_type": "markdown",
   "id": "c0d373af",
   "metadata": {},
   "source": [
    "# TRAIN TEST SPLIT"
   ]
  },
  {
   "cell_type": "code",
   "execution_count": null,
   "id": "bf9e19d9",
   "metadata": {},
   "outputs": [],
   "source": [
    "class CustomTimeSeriesSplit:\n",
    "    def __init__(self, n_splits=None):\n",
    "        self.n_splits = n_splits\n",
    "\n",
    "    def split(self, X, y=None, groups=None):\n",
    "        \n",
    "        year_range = np.sort(X['year'].unique())\n",
    "        min_year = year_range[0]\n",
    "        \n",
    "        self.n_splits = len(year_range) - 1\n",
    "        \n",
    "        for test_year in year_range[1:]:\n",
    "            curr_range = np.arange(min_year, test_year)\n",
    "            train = X[X['year'].apply(lambda year: year in curr_range)].index.to_numpy()\n",
    "            test = X[X['year'] == test_year].index.to_numpy()\n",
    "            \n",
    "            yield train, test\n",
    "\n",
    "    def get_n_splits(self, X, y, groups=None):\n",
    "        \n",
    "        year_range = np.sort(X['year'].unique())\n",
    "        \n",
    "        return len(year_range) - 1"
   ]
  },
  {
   "cell_type": "code",
   "execution_count": null,
   "id": "66801866",
   "metadata": {},
   "outputs": [],
   "source": [
    "tscv = CustomTimeSeriesSplit()\n",
    "split = list(tscv.split(ohe_data, None))\n",
    "\n",
    "train_indicies, test_indicies = split[-1]\n",
    "\n",
    "data_train = ohe_data.iloc[train_indicies].reset_index(drop=True)\n",
    "data_test = ohe_data.iloc[test_indicies].reset_index(drop=True)"
   ]
  },
  {
   "cell_type": "markdown",
   "id": "533a8462",
   "metadata": {},
   "source": [
    "# RESHAPE INPUTS"
   ]
  },
  {
   "cell_type": "code",
   "execution_count": null,
   "id": "ff37db67",
   "metadata": {},
   "outputs": [],
   "source": [
    "def split_by_zip(data):\n",
    "    \n",
    "    zip_codes = [col for col in data.columns if 'zip' in col]\n",
    "    included_feats = data.columns.drop(['est'])\n",
    "    \n",
    "    temp = []\n",
    "    for curr_zip in zip_codes:\n",
    "        \n",
    "        curr_data = data[data[curr_zip] == 1.0]\n",
    "        X = curr_data[included_feats].values\n",
    "        X = X.reshape((X.shape[0], 1, X.shape[1]))\n",
    "        y = curr_data['est'].values\n",
    "        \n",
    "        temp += [[X, y]]\n",
    "    \n",
    "    return temp"
   ]
  },
  {
   "cell_type": "code",
   "execution_count": null,
   "id": "21915652",
   "metadata": {},
   "outputs": [],
   "source": [
    "data_train = split_by_zip(data_train)\n",
    "data_test = split_by_zip(data_test)"
   ]
  },
  {
   "cell_type": "markdown",
   "id": "7c9000c2",
   "metadata": {},
   "source": [
    "# MODEL"
   ]
  },
  {
   "cell_type": "code",
   "execution_count": null,
   "id": "58aee737",
   "metadata": {},
   "outputs": [],
   "source": [
    "model = Sequential()\n",
    "model.add(LSTM(50, input_shape=(data_train[0][0].shape[1], data_train[0][0].shape[2])))\n",
    "model.add(Dense(1))\n",
    "model.compile(loss='mse', optimizer='adam')"
   ]
  },
  {
   "cell_type": "markdown",
   "id": "449c9c92",
   "metadata": {},
   "source": [
    "# TRAIN"
   ]
  },
  {
   "cell_type": "code",
   "execution_count": null,
   "id": "da5a666e",
   "metadata": {
    "scrolled": true
   },
   "outputs": [],
   "source": [
    "%%time\n",
    "\n",
    "TOTAL_EPOCHS = 2\n",
    "\n",
    "losses = []\n",
    "val_losses = []\n",
    "for _ in tqdm(np.arange(TOTAL_EPOCHS)):\n",
    "    \n",
    "    loss_curr_epoch = 0\n",
    "    i = 0\n",
    "    for zip_data in data_train:\n",
    "        history = model.fit(zip_data[0], zip_data[1], epochs=1, batch_size=1, verbose=0, shuffle=False)\n",
    "        loss_curr_epoch += history.history['loss'][0]\n",
    "        i += 1\n",
    "    losses += [loss_curr_epoch/i]\n",
    "    val_losses += [eval_model(model, data_test)[1]]"
   ]
  },
  {
   "cell_type": "code",
   "execution_count": null,
   "id": "fa595bea",
   "metadata": {
    "scrolled": false
   },
   "outputs": [],
   "source": [
    "plt.plot(np.arange(1, len(losses) + 1), losses, label='train')\n",
    "plt.plot(np.arange(1, len(val_losses) + 1), val_losses, label='validation')\n",
    "plt.legend()\n",
    "plt.show()"
   ]
  },
  {
   "cell_type": "markdown",
   "id": "0ead80ac",
   "metadata": {},
   "source": [
    "# EVALUATE"
   ]
  },
  {
   "cell_type": "code",
   "execution_count": null,
   "id": "305f505e",
   "metadata": {
    "scrolled": false
   },
   "outputs": [],
   "source": [
    "res, rmse = eval_model(model, data_test)\n",
    "display(res)\n",
    "print('Test RMSE: %.3f' % rmse)"
   ]
  },
  {
   "cell_type": "code",
   "execution_count": null,
   "id": "6ecb86f4",
   "metadata": {},
   "outputs": [],
   "source": []
  }
 ],
 "metadata": {
  "kernelspec": {
   "display_name": "Python 3 (ipykernel)",
   "language": "python",
   "name": "python3"
  },
  "language_info": {
   "codemirror_mode": {
    "name": "ipython",
    "version": 3
   },
   "file_extension": ".py",
   "mimetype": "text/x-python",
   "name": "python",
   "nbconvert_exporter": "python",
   "pygments_lexer": "ipython3",
   "version": "3.10.13"
  }
 },
 "nbformat": 4,
 "nbformat_minor": 5
}
