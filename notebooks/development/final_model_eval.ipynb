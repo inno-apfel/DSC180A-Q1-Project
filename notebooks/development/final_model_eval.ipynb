{
 "cells": [
  {
   "cell_type": "code",
   "execution_count": 1,
   "id": "a7a42858",
   "metadata": {},
   "outputs": [],
   "source": [
    "import numpy as np\n",
    "import pandas as pd\n",
    "import seaborn as sns\n",
    "import matplotlib.pyplot as plt\n",
    "\n",
    "from sklearn.model_selection import train_test_split\n",
    "from sklearn.linear_model import LinearRegression\n",
    "from sklearn.linear_model import Lasso\n",
    "from sklearn.ensemble import RandomForestRegressor\n",
    "from sklearn.metrics import mean_squared_error\n",
    "\n",
    "from sklearn.pipeline import Pipeline\n",
    "from sklearn.compose import ColumnTransformer\n",
    "from sklearn.preprocessing import OneHotEncoder\n",
    "\n",
    "from mlxtend.feature_selection import SequentialFeatureSelector\n",
    "\n",
    "import pickle\n",
    "\n",
    "import warnings"
   ]
  },
  {
   "cell_type": "code",
   "execution_count": null,
   "id": "3ef4283a",
   "metadata": {},
   "outputs": [],
   "source": [
    "warnings.filterwarnings('ignore')"
   ]
  },
  {
   "cell_type": "markdown",
   "id": "0ff7c792",
   "metadata": {},
   "source": [
    "# Data"
   ]
  },
  {
   "cell_type": "markdown",
   "id": "331917fa",
   "metadata": {},
   "source": [
    "For our modeling approaches, certain models would require lagged data while other, time-series oriented models, would be able to use unlagged data.\n",
    "\n",
    "As such we will load in two variants of our data:\n",
    "- one unlagged dataset\n",
    "- one where all features except 'est' and 'year' are lagged by 1 year"
   ]
  },
  {
   "cell_type": "code",
   "execution_count": 2,
   "id": "e45a67c4",
   "metadata": {},
   "outputs": [],
   "source": [
    "file_path = '../../src/data/temp/zbp_totals_with_features.csv'\n",
    "data = pd.read_csv(file_path)"
   ]
  },
  {
   "cell_type": "code",
   "execution_count": 3,
   "id": "dd2dbbf4",
   "metadata": {},
   "outputs": [],
   "source": [
    "file_path = '../../src/data/temp/lagged_zbp_totals_with_features.csv'\n",
    "lagged_data = pd.read_csv(file_path)"
   ]
  },
  {
   "cell_type": "markdown",
   "id": "6e833d66",
   "metadata": {},
   "source": [
    "# Drop Categorical Flags"
   ]
  },
  {
   "cell_type": "code",
   "execution_count": 4,
   "id": "5528f059",
   "metadata": {},
   "outputs": [],
   "source": [
    "data = data.drop(columns=data.select_dtypes(exclude=['int64', 'float64']).columns)\n",
    "lagged_data = lagged_data.drop(columns=lagged_data.select_dtypes(exclude=['int64', 'float64']).columns)"
   ]
  },
  {
   "cell_type": "markdown",
   "id": "316896d1",
   "metadata": {},
   "source": [
    "# Train-Test Split"
   ]
  },
  {
   "cell_type": "markdown",
   "id": "256afe8e",
   "metadata": {},
   "source": [
    "Given our testing regimine, we will need two variants of each dataset\n",
    "- Short-Term: Training [2012-2020], Testing [2021]\n",
    "- Long-Term: Training [2012-2018], Testing [2019-2021]"
   ]
  },
  {
   "cell_type": "code",
   "execution_count": 5,
   "id": "51552fb1",
   "metadata": {},
   "outputs": [],
   "source": [
    "def train_test_split_by_year(data, end_year):\n",
    "    data_train = data[data['year'] <= end_year]\n",
    "    data_test = data[data['year'] > end_year]\n",
    "    return data_train, data_test"
   ]
  },
  {
   "cell_type": "markdown",
   "id": "346f10a9",
   "metadata": {},
   "source": [
    "### Short-Term"
   ]
  },
  {
   "cell_type": "code",
   "execution_count": 6,
   "id": "9c2ce02e",
   "metadata": {},
   "outputs": [],
   "source": [
    "end_year = 2020\n",
    "\n",
    "short_data_train, short_data_test = train_test_split_by_year(data, end_year)\n",
    "short_lagged_data_train, short_lagged_data_test = train_test_split_by_year(lagged_data, end_year)"
   ]
  },
  {
   "cell_type": "markdown",
   "id": "4168dcbe",
   "metadata": {},
   "source": [
    "### Long-Term"
   ]
  },
  {
   "cell_type": "code",
   "execution_count": 7,
   "id": "25e05517",
   "metadata": {},
   "outputs": [],
   "source": [
    "end_year = 2018\n",
    "\n",
    "long_data_train, long_data_test = train_test_split_by_year(data, end_year)\n",
    "long_lagged_data_train, long_lagged_data_test = train_test_split_by_year(lagged_data, end_year)"
   ]
  },
  {
   "cell_type": "markdown",
   "id": "7a99ab3e",
   "metadata": {},
   "source": [
    "# Standardization"
   ]
  },
  {
   "cell_type": "code",
   "execution_count": 8,
   "id": "0cef4ecc",
   "metadata": {},
   "outputs": [],
   "source": [
    "def standardize_data(data_train, data_test):\n",
    "    train_mean = data_train.mean()\n",
    "    train_mean['zip'] = 0\n",
    "    train_std = data_train.std()\n",
    "    train_std['zip'] = 1\n",
    "    \n",
    "    data_train_standardized = (data_train - train_mean) / train_std\n",
    "    data_test_standardized = (data_test - train_mean) / train_std\n",
    "    \n",
    "    return data_train_standardized, data_test_standardized, (train_mean, train_std)"
   ]
  },
  {
   "cell_type": "code",
   "execution_count": 9,
   "id": "0ff45420",
   "metadata": {},
   "outputs": [],
   "source": [
    "def unstandardize_series(ser, mean, std):\n",
    "    return (ser*std)+mean"
   ]
  },
  {
   "cell_type": "code",
   "execution_count": 10,
   "id": "d9607893",
   "metadata": {},
   "outputs": [],
   "source": [
    "short_std_data_train, short_std_data_test, short_train_stats = standardize_data(short_data_train, short_data_test)\n",
    "short_train_mean, short_train_std = short_train_stats\n",
    "\n",
    "long_std_data_train, long_std_data_test, long_train_stats = standardize_data(long_data_train, long_data_test)\n",
    "long_train_mean, long_train_std = long_train_stats"
   ]
  },
  {
   "cell_type": "code",
   "execution_count": 11,
   "id": "1467b8d4",
   "metadata": {},
   "outputs": [],
   "source": [
    "short_lagged_std_data_train, short_lagged_std_data_test, short_lagged_train_stats = standardize_data(short_lagged_data_train, short_lagged_data_test)\n",
    "short_lagged_train_mean, short_lagged_train_std = short_lagged_train_stats\n",
    "\n",
    "long_lagged_std_data_train, long_lagged_std_data_test, long_lagged_train_stats = standardize_data(long_lagged_data_train, long_lagged_data_test)\n",
    "long_lagged_train_mean, long_lagged_train_std = long_lagged_train_stats"
   ]
  },
  {
   "cell_type": "markdown",
   "id": "41d4e06a",
   "metadata": {},
   "source": [
    "# One Hot Encoding"
   ]
  },
  {
   "cell_type": "code",
   "execution_count": 12,
   "id": "a2dba99a",
   "metadata": {},
   "outputs": [],
   "source": [
    "def convert_to_ohe(data_train, data_test):\n",
    "    \n",
    "    preproc = ColumnTransformer([('onehots', OneHotEncoder(handle_unknown='ignore'), ['zip'])]\n",
    "                             ,remainder = 'passthrough')\n",
    "    data_ohe_train = preproc.fit_transform(data_train)\n",
    "    \n",
    "    feature_names = preproc.get_feature_names_out()\n",
    "    feature_names = np.char.replace(feature_names.astype('str'), 'onehots__','')\n",
    "    feature_names = np.char.replace(feature_names, 'remainder__','')\n",
    "    \n",
    "    data_ohe_train = pd.DataFrame(data_ohe_train, columns=feature_names)\n",
    "    \n",
    "    data_ohe_test = preproc.transform(data_test)\n",
    "    data_ohe_test = pd.DataFrame(data_ohe_test, columns=feature_names)\n",
    "    \n",
    "    return data_ohe_train, data_ohe_test"
   ]
  },
  {
   "cell_type": "code",
   "execution_count": 13,
   "id": "fb8a4e8f",
   "metadata": {},
   "outputs": [],
   "source": [
    "short_ohe_data_train, short_ohe_data_test = convert_to_ohe(short_std_data_train, short_std_data_test)\n",
    "long_ohe_data_train, long_ohe_data_test = convert_to_ohe(long_std_data_train, long_std_data_test)\n",
    "\n",
    "short_lagged_ohe_data_train, short_lagged_ohe_data_test = convert_to_ohe(short_lagged_std_data_train, short_lagged_std_data_test)\n",
    "long_lagged_ohe_data_train, long_lagged_ohe_data_test = convert_to_ohe(long_lagged_std_data_train, long_lagged_std_data_test)"
   ]
  },
  {
   "cell_type": "markdown",
   "id": "bc940d53",
   "metadata": {},
   "source": [
    "# Feature Selection"
   ]
  },
  {
   "cell_type": "markdown",
   "id": "c65857bd",
   "metadata": {},
   "source": [
    "### Corr Matrix"
   ]
  },
  {
   "cell_type": "code",
   "execution_count": 14,
   "id": "66191d10",
   "metadata": {
    "scrolled": false
   },
   "outputs": [
    {
     "data": {
      "text/html": [
       "<style type=\"text/css\">\n",
       "#T_0d6ba_row0_col0 {\n",
       "  background-color: #d55042;\n",
       "  color: #f1f1f1;\n",
       "}\n",
       "#T_0d6ba_row1_col0 {\n",
       "  background-color: #ef886b;\n",
       "  color: #f1f1f1;\n",
       "}\n",
       "#T_0d6ba_row2_col0 {\n",
       "  background-color: #f08a6c;\n",
       "  color: #f1f1f1;\n",
       "}\n",
       "#T_0d6ba_row3_col0 {\n",
       "  background-color: #f7b497;\n",
       "  color: #000000;\n",
       "}\n",
       "#T_0d6ba_row4_col0 {\n",
       "  background-color: #f7ba9f;\n",
       "  color: #000000;\n",
       "}\n",
       "#T_0d6ba_row5_col0 {\n",
       "  background-color: #f5c4ac;\n",
       "  color: #000000;\n",
       "}\n",
       "#T_0d6ba_row6_col0 {\n",
       "  background-color: #f3c7b1;\n",
       "  color: #000000;\n",
       "}\n",
       "#T_0d6ba_row7_col0 {\n",
       "  background-color: #f1ccb8;\n",
       "  color: #000000;\n",
       "}\n",
       "#T_0d6ba_row8_col0, #T_0d6ba_row9_col0 {\n",
       "  background-color: #efcebd;\n",
       "  color: #000000;\n",
       "}\n",
       "#T_0d6ba_row10_col0, #T_0d6ba_row11_col0, #T_0d6ba_row12_col0 {\n",
       "  background-color: #efcfbf;\n",
       "  color: #000000;\n",
       "}\n",
       "#T_0d6ba_row13_col0, #T_0d6ba_row14_col0 {\n",
       "  background-color: #ead5c9;\n",
       "  color: #000000;\n",
       "}\n",
       "#T_0d6ba_row15_col0 {\n",
       "  background-color: #e5d8d1;\n",
       "  color: #000000;\n",
       "}\n",
       "#T_0d6ba_row16_col0 {\n",
       "  background-color: #e4d9d2;\n",
       "  color: #000000;\n",
       "}\n",
       "#T_0d6ba_row17_col0 {\n",
       "  background-color: #dcdddd;\n",
       "  color: #000000;\n",
       "}\n",
       "#T_0d6ba_row18_col0, #T_0d6ba_row19_col0 {\n",
       "  background-color: #cedaeb;\n",
       "  color: #000000;\n",
       "}\n",
       "#T_0d6ba_row20_col0 {\n",
       "  background-color: #cdd9ec;\n",
       "  color: #000000;\n",
       "}\n",
       "#T_0d6ba_row21_col0 {\n",
       "  background-color: #cbd8ee;\n",
       "  color: #000000;\n",
       "}\n",
       "#T_0d6ba_row22_col0 {\n",
       "  background-color: #cad8ef;\n",
       "  color: #000000;\n",
       "}\n",
       "#T_0d6ba_row23_col0 {\n",
       "  background-color: #c5d6f2;\n",
       "  color: #000000;\n",
       "}\n",
       "#T_0d6ba_row24_col0 {\n",
       "  background-color: #c4d5f3;\n",
       "  color: #000000;\n",
       "}\n",
       "#T_0d6ba_row25_col0 {\n",
       "  background-color: #6788ee;\n",
       "  color: #f1f1f1;\n",
       "}\n",
       "#T_0d6ba_row26_col0 {\n",
       "  background-color: #6485ec;\n",
       "  color: #f1f1f1;\n",
       "}\n",
       "#T_0d6ba_row27_col0 {\n",
       "  background-color: #6282ea;\n",
       "  color: #f1f1f1;\n",
       "}\n",
       "#T_0d6ba_row28_col0 {\n",
       "  background-color: #5470de;\n",
       "  color: #f1f1f1;\n",
       "}\n",
       "#T_0d6ba_row29_col0 {\n",
       "  background-color: #3b4cc0;\n",
       "  color: #f1f1f1;\n",
       "}\n",
       "</style>\n",
       "<table id=\"T_0d6ba\">\n",
       "  <thead>\n",
       "    <tr>\n",
       "      <th class=\"blank level0\" >&nbsp;</th>\n",
       "      <th id=\"T_0d6ba_level0_col0\" class=\"col_heading level0 col0\" >est</th>\n",
       "    </tr>\n",
       "  </thead>\n",
       "  <tbody>\n",
       "    <tr>\n",
       "      <th id=\"T_0d6ba_level0_row0\" class=\"row_heading level0 row0\" >emp</th>\n",
       "      <td id=\"T_0d6ba_row0_col0\" class=\"data row0 col0\" >0.865098</td>\n",
       "    </tr>\n",
       "    <tr>\n",
       "      <th id=\"T_0d6ba_level0_row1\" class=\"row_heading level0 row1\" >ap</th>\n",
       "      <td id=\"T_0d6ba_row1_col0\" class=\"data row1 col0\" >0.706980</td>\n",
       "    </tr>\n",
       "    <tr>\n",
       "      <th id=\"T_0d6ba_level0_row2\" class=\"row_heading level0 row2\" >qp1</th>\n",
       "      <td id=\"T_0d6ba_row2_col0\" class=\"data row2 col0\" >0.701368</td>\n",
       "    </tr>\n",
       "    <tr>\n",
       "      <th id=\"T_0d6ba_level0_row3\" class=\"row_heading level0 row3\" >n20_49_pct</th>\n",
       "      <td id=\"T_0d6ba_row3_col0\" class=\"data row3 col0\" >0.548041</td>\n",
       "    </tr>\n",
       "    <tr>\n",
       "      <th id=\"T_0d6ba_level0_row4\" class=\"row_heading level0 row4\" >naics_55_pct</th>\n",
       "      <td id=\"T_0d6ba_row4_col0\" class=\"data row4 col0\" >0.519635</td>\n",
       "    </tr>\n",
       "    <tr>\n",
       "      <th id=\"T_0d6ba_level0_row5\" class=\"row_heading level0 row5\" >n50_99_pct</th>\n",
       "      <td id=\"T_0d6ba_row5_col0\" class=\"data row5 col0\" >0.476420</td>\n",
       "    </tr>\n",
       "    <tr>\n",
       "      <th id=\"T_0d6ba_level0_row6\" class=\"row_heading level0 row6\" >zip_92101.0</th>\n",
       "      <td id=\"T_0d6ba_row6_col0\" class=\"data row6 col0\" >0.463685</td>\n",
       "    </tr>\n",
       "    <tr>\n",
       "      <th id=\"T_0d6ba_level0_row7\" class=\"row_heading level0 row7\" >naics_51_pct</th>\n",
       "      <td id=\"T_0d6ba_row7_col0\" class=\"data row7 col0\" >0.434940</td>\n",
       "    </tr>\n",
       "    <tr>\n",
       "      <th id=\"T_0d6ba_level0_row8\" class=\"row_heading level0 row8\" >n500_999_pct</th>\n",
       "      <td id=\"T_0d6ba_row8_col0\" class=\"data row8 col0\" >0.419948</td>\n",
       "    </tr>\n",
       "    <tr>\n",
       "      <th id=\"T_0d6ba_level0_row9\" class=\"row_heading level0 row9\" >n100_249_pct</th>\n",
       "      <td id=\"T_0d6ba_row9_col0\" class=\"data row9 col0\" >0.417339</td>\n",
       "    </tr>\n",
       "    <tr>\n",
       "      <th id=\"T_0d6ba_level0_row10\" class=\"row_heading level0 row10\" >total_retirement</th>\n",
       "      <td id=\"T_0d6ba_row10_col0\" class=\"data row10 col0\" >0.415280</td>\n",
       "    </tr>\n",
       "    <tr>\n",
       "      <th id=\"T_0d6ba_level0_row11\" class=\"row_heading level0 row11\" >total_midcareer (35-44)</th>\n",
       "      <td id=\"T_0d6ba_row11_col0\" class=\"data row11 col0\" >0.412918</td>\n",
       "    </tr>\n",
       "    <tr>\n",
       "      <th id=\"T_0d6ba_level0_row12\" class=\"row_heading level0 row12\" >naics_54_pct</th>\n",
       "      <td id=\"T_0d6ba_row12_col0\" class=\"data row12 col0\" >0.410856</td>\n",
       "    </tr>\n",
       "    <tr>\n",
       "      <th id=\"T_0d6ba_level0_row13\" class=\"row_heading level0 row13\" >n10_19_pct</th>\n",
       "      <td id=\"T_0d6ba_row13_col0\" class=\"data row13 col0\" >0.373097</td>\n",
       "    </tr>\n",
       "    <tr>\n",
       "      <th id=\"T_0d6ba_level0_row14\" class=\"row_heading level0 row14\" >total_population</th>\n",
       "      <td id=\"T_0d6ba_row14_col0\" class=\"data row14 col0\" >0.372729</td>\n",
       "    </tr>\n",
       "    <tr>\n",
       "      <th id=\"T_0d6ba_level0_row15\" class=\"row_heading level0 row15\" >naics_52_pct</th>\n",
       "      <td id=\"T_0d6ba_row15_col0\" class=\"data row15 col0\" >0.347155</td>\n",
       "    </tr>\n",
       "    <tr>\n",
       "      <th id=\"T_0d6ba_level0_row16\" class=\"row_heading level0 row16\" >total_midcareer (25-34)</th>\n",
       "      <td id=\"T_0d6ba_row16_col0\" class=\"data row16 col0\" >0.340186</td>\n",
       "    </tr>\n",
       "    <tr>\n",
       "      <th id=\"T_0d6ba_level0_row17\" class=\"row_heading level0 row17\" >zip_92121.0</th>\n",
       "      <td id=\"T_0d6ba_row17_col0\" class=\"data row17 col0\" >0.300380</td>\n",
       "    </tr>\n",
       "    <tr>\n",
       "      <th id=\"T_0d6ba_level0_row18\" class=\"row_heading level0 row18\" >zip_92037.0</th>\n",
       "      <td id=\"T_0d6ba_row18_col0\" class=\"data row18 col0\" >0.225726</td>\n",
       "    </tr>\n",
       "    <tr>\n",
       "      <th id=\"T_0d6ba_level0_row19\" class=\"row_heading level0 row19\" >zip_92108.0</th>\n",
       "      <td id=\"T_0d6ba_row19_col0\" class=\"data row19 col0\" >0.224942</td>\n",
       "    </tr>\n",
       "    <tr>\n",
       "      <th id=\"T_0d6ba_level0_row20\" class=\"row_heading level0 row20\" >zip_92024.0</th>\n",
       "      <td id=\"T_0d6ba_row20_col0\" class=\"data row20 col0\" >0.223874</td>\n",
       "    </tr>\n",
       "    <tr>\n",
       "      <th id=\"T_0d6ba_level0_row21\" class=\"row_heading level0 row21\" >n5_9_pct</th>\n",
       "      <td id=\"T_0d6ba_row21_col0\" class=\"data row21 col0\" >0.212042</td>\n",
       "    </tr>\n",
       "    <tr>\n",
       "      <th id=\"T_0d6ba_level0_row22\" class=\"row_heading level0 row22\" >n250_499_pct</th>\n",
       "      <td id=\"T_0d6ba_row22_col0\" class=\"data row22 col0\" >0.205555</td>\n",
       "    </tr>\n",
       "    <tr>\n",
       "      <th id=\"T_0d6ba_level0_row23\" class=\"row_heading level0 row23\" >naics_42_pct</th>\n",
       "      <td id=\"T_0d6ba_row23_col0\" class=\"data row23 col0\" >0.185249</td>\n",
       "    </tr>\n",
       "    <tr>\n",
       "      <th id=\"T_0d6ba_level0_row24\" class=\"row_heading level0 row24\" >zip_92008.0</th>\n",
       "      <td id=\"T_0d6ba_row24_col0\" class=\"data row24 col0\" >0.175879</td>\n",
       "    </tr>\n",
       "    <tr>\n",
       "      <th id=\"T_0d6ba_level0_row25\" class=\"row_heading level0 row25\" >naics_22_pct</th>\n",
       "      <td id=\"T_0d6ba_row25_col0\" class=\"data row25 col0\" >-0.196839</td>\n",
       "    </tr>\n",
       "    <tr>\n",
       "      <th id=\"T_0d6ba_level0_row26\" class=\"row_heading level0 row26\" >naics_81_pct</th>\n",
       "      <td id=\"T_0d6ba_row26_col0\" class=\"data row26 col0\" >-0.209062</td>\n",
       "    </tr>\n",
       "    <tr>\n",
       "      <th id=\"T_0d6ba_level0_row27\" class=\"row_heading level0 row27\" >naics_11_pct</th>\n",
       "      <td id=\"T_0d6ba_row27_col0\" class=\"data row27 col0\" >-0.220311</td>\n",
       "    </tr>\n",
       "    <tr>\n",
       "      <th id=\"T_0d6ba_level0_row28\" class=\"row_heading level0 row28\" >n1_4_pct</th>\n",
       "      <td id=\"T_0d6ba_row28_col0\" class=\"data row28 col0\" >-0.283655</td>\n",
       "    </tr>\n",
       "    <tr>\n",
       "      <th id=\"T_0d6ba_level0_row29\" class=\"row_heading level0 row29\" >naics_23_pct</th>\n",
       "      <td id=\"T_0d6ba_row29_col0\" class=\"data row29 col0\" >-0.398384</td>\n",
       "    </tr>\n",
       "  </tbody>\n",
       "</table>\n"
      ],
      "text/plain": [
       "<pandas.io.formats.style.Styler at 0x12409f07d90>"
      ]
     },
     "metadata": {},
     "output_type": "display_data"
    },
    {
     "data": {
      "text/plain": [
       "'top 30 features by pearson correlation'"
      ]
     },
     "execution_count": 14,
     "metadata": {},
     "output_type": "execute_result"
    }
   ],
   "source": [
    "top_k = 30\n",
    "corr = short_lagged_ohe_data_train.corr()[['est']].sort_values(by='est', ascending=False)\n",
    "vmin = corr.min()\n",
    "vmax = corr.max()\n",
    "corr_thresh = corr.abs().sort_values('est', ascending=False).iloc[top_k+2]['est']\n",
    "corr = corr[corr['est'].abs() > corr_thresh]\n",
    "# print(f'top {corr.shape[0]} features:')\n",
    "display(corr[2:].style.background_gradient(cmap='coolwarm', vmin=vmin, vmax=vmax))\n",
    "f'top {corr[2:].shape[0]} features by pearson correlation'"
   ]
  },
  {
   "cell_type": "markdown",
   "id": "18c6ed78",
   "metadata": {},
   "source": [
    "### Forward Feature Selection"
   ]
  },
  {
   "cell_type": "code",
   "execution_count": 15,
   "id": "2152640a",
   "metadata": {},
   "outputs": [
    {
     "data": {
      "text/plain": [
       "['est_lag_1',\n",
       " 'total_midcareer (25-34)',\n",
       " 'n500_999_pct',\n",
       " 'n250_499_pct',\n",
       " 'naics_61_pct',\n",
       " 'naics_56_pct',\n",
       " 'naics_54_pct',\n",
       " 'naics_48_pct',\n",
       " 'emp',\n",
       " 'year',\n",
       " 'zip_92154.0',\n",
       " 'zip_92130.0',\n",
       " 'zip_92124.0',\n",
       " 'zip_92105.0',\n",
       " 'zip_92101.0',\n",
       " 'zip_92075.0',\n",
       " 'zip_92058.0',\n",
       " 'zip_92040.0',\n",
       " 'zip_92037.0',\n",
       " 'zip_92025.0',\n",
       " 'zip_92020.0',\n",
       " 'zip_92011.0',\n",
       " 'zip_92010.0',\n",
       " 'zip_92008.0',\n",
       " 'zip_91977.0',\n",
       " 'zip_91942.0',\n",
       " 'zip_91941.0',\n",
       " 'zip_91935.0',\n",
       " 'zip_91932.0',\n",
       " 'zip_91906.0']"
      ]
     },
     "execution_count": 15,
     "metadata": {},
     "output_type": "execute_result"
    }
   ],
   "source": [
    "X_train = short_lagged_ohe_data_train.drop(columns=['est'])\n",
    "y_train = short_lagged_ohe_data_train['est']\n",
    "X_test = short_lagged_ohe_data_test.drop(columns=['est'])\n",
    "y_test = short_lagged_ohe_data_test['est']\n",
    "\n",
    "ffs = SequentialFeatureSelector(LinearRegression(n_jobs=-1), k_features=top_k, forward=True, n_jobs=-1)\n",
    "ffs.fit(X_train, y_train)\n",
    "features = list(ffs.k_feature_names_)\n",
    "features[::-1]"
   ]
  },
  {
   "cell_type": "markdown",
   "id": "dd4227a3",
   "metadata": {},
   "source": [
    "# Models"
   ]
  },
  {
   "cell_type": "code",
   "execution_count": 16,
   "id": "8efefec9",
   "metadata": {},
   "outputs": [],
   "source": [
    "def fit_eval(model, data_train, data_test, included_feats, train_mean, train_std):\n",
    "    \n",
    "    if included_feats == 'all':\n",
    "        included_feats = data_train.columns.drop(['est'])\n",
    "    \n",
    "    X_train = data_train[included_feats]\n",
    "    y_train = data_train['est']\n",
    "    X_test = data_test[included_feats]\n",
    "    y_test = data_test['est']\n",
    "    \n",
    "    model.fit(X_train, y_train)\n",
    "    \n",
    "    y_preds = model.predict(X_train)\n",
    "    inverted_y_train = unstandardize_series(y_train, train_mean['est'], train_std['est'])\n",
    "    inverted_y_preds = unstandardize_series(y_preds, train_mean['est'], train_std['est'])\n",
    "    train_rmse = mean_squared_error(inverted_y_train, inverted_y_preds, squared=False)\n",
    "    \n",
    "    y_preds = model.predict(X_test)\n",
    "    inverted_y_test = unstandardize_series(y_test, train_mean['est'], train_std['est'])\n",
    "    inverted_y_preds = unstandardize_series(y_preds, train_mean['est'], train_std['est'])\n",
    "    test_rmse = mean_squared_error(inverted_y_test, inverted_y_preds, squared=False)\n",
    "    \n",
    "    return model, train_rmse, test_rmse"
   ]
  },
  {
   "cell_type": "code",
   "execution_count": 17,
   "id": "d616537c",
   "metadata": {},
   "outputs": [],
   "source": [
    "all_features = 1"
   ]
  },
  {
   "cell_type": "markdown",
   "id": "c43a97ae",
   "metadata": {},
   "source": [
    "### Lin Reg"
   ]
  },
  {
   "cell_type": "code",
   "execution_count": 18,
   "id": "b95c7608",
   "metadata": {},
   "outputs": [
    {
     "name": "stdout",
     "output_type": "stream",
     "text": [
      "train_rmse:  14.898629260500524\n",
      "test_rmse:  21.50885415436945\n"
     ]
    }
   ],
   "source": [
    "lr = LinearRegression(n_jobs=-1)\n",
    "\n",
    "lr, train_rmse, test_rmse = fit_eval(lr, short_lagged_ohe_data_train, short_lagged_ohe_data_test, \n",
    "                                         'all', \n",
    "                                         short_lagged_train_mean, short_lagged_train_std)\n",
    "\n",
    "print('train_rmse: ', train_rmse)\n",
    "print('test_rmse: ', test_rmse)"
   ]
  },
  {
   "cell_type": "code",
   "execution_count": 19,
   "id": "860c642f",
   "metadata": {},
   "outputs": [
    {
     "name": "stdout",
     "output_type": "stream",
     "text": [
      "train_rmse:  14.622962945539763\n",
      "test_rmse:  23.487200183737524\n"
     ]
    }
   ],
   "source": [
    "lr = LinearRegression(n_jobs=-1)\n",
    "\n",
    "lr, train_rmse, test_rmse = fit_eval(lr, long_lagged_ohe_data_train, long_lagged_ohe_data_test, \n",
    "                                         'all', \n",
    "                                         long_lagged_train_mean, long_lagged_train_std)\n",
    "\n",
    "print('train_rmse: ', train_rmse)\n",
    "print('test_rmse: ', test_rmse)"
   ]
  },
  {
   "cell_type": "markdown",
   "id": "4b146c20",
   "metadata": {},
   "source": [
    "### Lasso"
   ]
  },
  {
   "cell_type": "code",
   "execution_count": 20,
   "id": "0da3a4b4",
   "metadata": {},
   "outputs": [
    {
     "name": "stdout",
     "output_type": "stream",
     "text": [
      "train_rmse:  20.427570568913698\n",
      "test_rmse:  22.681347283374723\n"
     ]
    }
   ],
   "source": [
    "lasso = Lasso(alpha=0.007)\n",
    "\n",
    "lasso, train_rmse, test_rmse = fit_eval(lasso, short_lagged_ohe_data_train, short_lagged_ohe_data_test, \n",
    "                                               'all', \n",
    "                                               short_lagged_train_mean, short_lagged_train_std)\n",
    "print('train_rmse: ', train_rmse)\n",
    "print('test_rmse: ', test_rmse)"
   ]
  },
  {
   "cell_type": "code",
   "execution_count": 21,
   "id": "fb206128",
   "metadata": {},
   "outputs": [
    {
     "name": "stdout",
     "output_type": "stream",
     "text": [
      "train_rmse:  20.515363262273645\n",
      "test_rmse:  20.671181087487206\n"
     ]
    }
   ],
   "source": [
    "lasso = Lasso(alpha=0.007)\n",
    "\n",
    "lasso, train_rmse, test_rmse = fit_eval(lasso, long_lagged_ohe_data_train, long_lagged_ohe_data_test, \n",
    "                                               'all', \n",
    "                                               long_lagged_train_mean, long_lagged_train_std)\n",
    "print('train_rmse: ', train_rmse)\n",
    "print('test_rmse: ', test_rmse)"
   ]
  },
  {
   "cell_type": "markdown",
   "id": "c525c73e",
   "metadata": {},
   "source": [
    "### Random Forest"
   ]
  },
  {
   "cell_type": "code",
   "execution_count": 31,
   "id": "c78c46d1",
   "metadata": {},
   "outputs": [
    {
     "name": "stdout",
     "output_type": "stream",
     "text": [
      "train_rmse:  10.361644147742417\n",
      "test_rmse:  38.800423537207365\n"
     ]
    }
   ],
   "source": [
    "rf = RandomForestRegressor(random_state=42, n_estimators=50, max_depth=50, n_jobs=-1)\n",
    "\n",
    "rf, train_rmse, test_rmse = fit_eval(rf, short_lagged_ohe_data_train, short_lagged_ohe_data_test, \n",
    "                                         'all', \n",
    "                                         short_lagged_train_mean, short_lagged_train_std)\n",
    "print('train_rmse: ', train_rmse)\n",
    "print('test_rmse: ', test_rmse)"
   ]
  },
  {
   "cell_type": "code",
   "execution_count": 46,
   "id": "892eea3e",
   "metadata": {},
   "outputs": [
    {
     "name": "stdout",
     "output_type": "stream",
     "text": [
      "train_rmse:  11.148166665420785\n",
      "test_rmse:  48.99047961934379\n"
     ]
    }
   ],
   "source": [
    "rf = RandomForestRegressor(random_state=42, n_estimators=50, max_depth=50, n_jobs=-1)\n",
    "\n",
    "rf, train_rmse, test_rmse = fit_eval(rf, long_lagged_ohe_data_train, long_lagged_ohe_data_test, \n",
    "                                         'all', \n",
    "                                         long_lagged_train_mean, long_lagged_train_std)\n",
    "\n",
    "print('train_rmse: ', train_rmse)\n",
    "print('test_rmse: ', test_rmse)"
   ]
  },
  {
   "cell_type": "code",
   "execution_count": 47,
   "id": "60d5266a",
   "metadata": {},
   "outputs": [
    {
     "data": {
      "text/plain": [
       "array(['n5_9_pct', 'naics_11_pct', 'qp1', 'year',\n",
       "       'total_midcareer (25-34)', 'naics_44_pct', 'zip_92121.0',\n",
       "       'naics_61_pct', 'total_midcareer (35-44)', 'total_population',\n",
       "       'naics_55_pct', 'naics_31_pct', 'n100_249_pct', 'naics_53_pct',\n",
       "       'naics_51_pct', 'naics_42_pct', 'n1_4_pct', 'naics_48_pct',\n",
       "       'n500_999_pct', 'ap', 'total_retirement', 'n250_499_pct',\n",
       "       'zip_92101.0', 'naics_54_pct', 'median_hh_income', 'emp',\n",
       "       'naics_62_pct', 'naics_81_pct', 'naics_72_pct'], dtype=object)"
      ]
     },
     "metadata": {},
     "output_type": "display_data"
    },
    {
     "data": {
      "text/plain": [
       "Text(0.5, 0, 'Mean decrease in impurity')"
      ]
     },
     "execution_count": 47,
     "metadata": {},
     "output_type": "execute_result"
    },
    {
     "data": {
      "image/png": "[encoded data removed]",
      "text/plain": [
       "<Figure size 640x480 with 1 Axes>"
      ]
     },
     "metadata": {},
     "output_type": "display_data"
    }
   ],
   "source": [
    "feature_names = short_lagged_ohe_data_train.columns.drop(['est'])\n",
    "\n",
    "importances = rf.feature_importances_\n",
    "std = np.std([tree.feature_importances_ for tree in rf.estimators_], axis=0)\n",
    "\n",
    "forest_importances = pd.Series(importances, index=feature_names).sort_values(ascending=False)[1:30].sort_values(ascending=True)\n",
    "display(forest_importances.index.to_numpy())\n",
    "\n",
    "fig, ax = plt.subplots()\n",
    "forest_importances.plot(kind='barh', ax=ax)\n",
    "ax.set_title(\"Feature importances using MDI\")\n",
    "ax.set_xlabel(\"Mean decrease in impurity\")"
   ]
  },
  {
   "cell_type": "markdown",
   "id": "8269814f",
   "metadata": {},
   "source": [
    "### ARIMA"
   ]
  },
  {
   "cell_type": "code",
   "execution_count": 24,
   "id": "32976b15",
   "metadata": {},
   "outputs": [],
   "source": [
    "from statsmodels.tsa.arima.model import ARIMA\n",
    "\n",
    "class ARIMAForecast():\n",
    "    \n",
    "    def __init__(self, data, n_lag_terms ,diff_order ,window_size):\n",
    "        self.data = data\n",
    "        self.models = {}\n",
    "        self.n_lag_terms = n_lag_terms\n",
    "        self.diff_order = diff_order\n",
    "        self.window_size = window_size\n",
    "        \n",
    "    def train(self):\n",
    "        for zip_code in self.data['zip'].unique():\n",
    "            # filter\n",
    "            curr_data = self.data[self.data['zip']==zip_code][['year', 'est']].set_index('year')\n",
    "            start_time = curr_data.index[0]\n",
    "            # train\n",
    "            model = ARIMA(curr_data, order=(self.n_lag_terms ,self.diff_order ,self.window_size))\n",
    "            try:\n",
    "                results = model.fit()\n",
    "                self.models[zip_code] = (results, start_time)\n",
    "            except:\n",
    "                pass\n",
    "            \n",
    "    def forecast(self, year):\n",
    "        preds = []\n",
    "        # last year seen in the training set\n",
    "        # used to calculate start range for forecast, to avoid predicting values in training set\n",
    "        data_last_year = self.data['year'].max()\n",
    "        for zip_code, model_info in self.models.items():\n",
    "            model, start_time = model_info\n",
    "            # make predictions\n",
    "            curr_pred = model.predict(data_last_year-start_time+1,year-start_time)\n",
    "            # modify results into a df object\n",
    "            curr_pred = curr_pred.to_frame().assign(zip=np.full(curr_pred.shape[0], zip_code)).reset_index()\n",
    "            curr_pred = curr_pred.rename(columns={'index':'year', 0:'est', 'predicted_mean':'est'})\n",
    "            # address issue where timestamp of some predictions is the number of years after the last year\n",
    "            # in the training data rather than a timestamp object\n",
    "            max_int = curr_pred[curr_pred['year'].apply(lambda x: type(x) == int)]['year'].max()\n",
    "            curr_pred['year'] = curr_pred['year'].apply(lambda x: year-max_int+x if (type(x) == int) else x)\n",
    "            preds += [curr_pred]\n",
    "            \n",
    "        return pd.concat(preds, ignore_index=True).reset_index(drop=True)\n",
    "            "
   ]
  },
  {
   "cell_type": "code",
   "execution_count": 30,
   "id": "5f7ae8d1",
   "metadata": {
    "scrolled": true
   },
   "outputs": [
    {
     "data": {
      "text/plain": [
       "21.86010421984797"
      ]
     },
     "execution_count": 30,
     "metadata": {},
     "output_type": "execute_result"
    }
   ],
   "source": [
    "model = ARIMAForecast(short_data_train, 1, 1, 1)\n",
    "\n",
    "model.train()\n",
    "\n",
    "forecast = model.forecast(short_data_test['year'].max())\n",
    "preds_labels = forecast.merge(short_data_test, on=['zip', 'year'], suffixes=('_pred', '_true'))\n",
    "\n",
    "mean_squared_error(preds_labels['est_true'], preds_labels['est_pred'], squared=False)"
   ]
  },
  {
   "cell_type": "code",
   "execution_count": 29,
   "id": "df2085d2",
   "metadata": {},
   "outputs": [
    {
     "data": {
      "text/plain": [
       "33.468354257232015"
      ]
     },
     "execution_count": 29,
     "metadata": {},
     "output_type": "execute_result"
    }
   ],
   "source": [
    "model = ARIMAForecast(long_data_train, 1, 1, 1)\n",
    "\n",
    "model.train()\n",
    "\n",
    "forecast = model.forecast(long_data_test['year'].max())\n",
    "preds_labels = forecast.merge(long_data_test, on=['zip', 'year'], suffixes=('_pred', '_true'))\n",
    "\n",
    "mean_squared_error(preds_labels['est_true'], preds_labels['est_pred'], squared=False)"
   ]
  },
  {
   "cell_type": "code",
   "execution_count": null,
   "id": "f809e0b3",
   "metadata": {},
   "outputs": [],
   "source": []
  }
 ],
 "metadata": {
  "kernelspec": {
   "display_name": "Python 3 (ipykernel)",
   "language": "python",
   "name": "python3"
  },
  "language_info": {
   "codemirror_mode": {
    "name": "ipython",
    "version": 3
   },
   "file_extension": ".py",
   "mimetype": "text/x-python",
   "name": "python",
   "nbconvert_exporter": "python",
   "pygments_lexer": "ipython3",
   "version": "3.10.13"
  }
 },
 "nbformat": 4,
 "nbformat_minor": 5
}
