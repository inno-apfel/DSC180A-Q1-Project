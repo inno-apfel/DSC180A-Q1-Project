{
 "cells": [
  {
   "cell_type": "code",
   "execution_count": 105,
   "id": "2ecd994b",
   "metadata": {},
   "outputs": [],
   "source": [
    "import numpy as np\n",
    "import pandas as pd\n",
    "import json"
   ]
  },
  {
   "cell_type": "code",
   "execution_count": 106,
   "id": "f61a5296",
   "metadata": {},
   "outputs": [],
   "source": [
    "with open('../../config/config.json', 'r') as fh:\n",
    "    params = json.load(fh)"
   ]
  },
  {
   "cell_type": "code",
   "execution_count": 192,
   "id": "45f9a5cb",
   "metadata": {},
   "outputs": [],
   "source": [
    "unemployment_by_year = {}\n",
    "\n",
    "for year in params['years']:\n",
    "    shortened_year = str(year)[2:]\n",
    "    unemployment_by_year[year] = pd.read_csv(f'../../src/data/raw/acs_data/unemployment_data/unemployment_{year}.csv', skiprows=1)"
   ]
  },
  {
   "cell_type": "code",
   "execution_count": 196,
   "id": "ede336c2",
   "metadata": {},
   "outputs": [],
   "source": [
    "def reformat_zip(x):\n",
    "    return x[6:11]\n",
    "\n",
    "def process_unemployment_data(data, year, params):\n",
    "    unemployment_rate_cols = ['Percent!!EMPLOYMENT STATUS!!In labor force!!Civilian labor force!!Unemployed',\n",
    "                              'Percent!!EMPLOYMENT STATUS!!Population 16 years and over!!In labor force!!Civilian labor force!!Unemployed',\n",
    "                              'Percent Estimate!!EMPLOYMENT STATUS!!Population 16 years and over!!In labor force!!Civilian labor force!!Unemployed']\n",
    "    for col in unemployment_rate_cols:\n",
    "        try:\n",
    "            data = data[['Geographic Area Name', col]]\n",
    "            break\n",
    "        except:\n",
    "            continue\n",
    "    \n",
    "    data = data.rename(columns={'Geographic Area Name': 'zip',\n",
    "                                'Percent!!EMPLOYMENT STATUS!!In labor force!!Civilian labor force!!Unemployed': 'pct_unemployment',\n",
    "                                'Percent!!EMPLOYMENT STATUS!!Population 16 years and over!!In labor force!!Civilian labor force!!Unemployed': 'pct_unemployment',\n",
    "                                'Percent Estimate!!EMPLOYMENT STATUS!!Population 16 years and over!!In labor force!!Civilian labor force!!Unemployed': 'pct_unemployment'})\n",
    "    \n",
    "    data['zip'] = data['zip'].apply(reformat_zip).astype('int64')\n",
    "    data['year'] = year\n",
    "    data = data[data['zip'].apply(lambda x: x in params['zip_codes'])]\n",
    "    return data"
   ]
  },
  {
   "cell_type": "code",
   "execution_count": 214,
   "id": "d63543c7",
   "metadata": {},
   "outputs": [
    {
     "data": {
      "text/plain": [
       "3.267289719626168"
      ]
     },
     "execution_count": 214,
     "metadata": {},
     "output_type": "execute_result"
    }
   ],
   "source": [
    "process_unemployment_data(unemployment_by_year[2020], 2012, params)['pct_unemployment'].apply(lambda x: 0 if x == '-' else x).astype('float').mean()"
   ]
  },
  {
   "cell_type": "code",
   "execution_count": 216,
   "id": "31b53faf",
   "metadata": {},
   "outputs": [
    {
     "name": "stdout",
     "output_type": "stream",
     "text": [
      "2012 5.209345794392523\n",
      "2013 5.339252336448598\n",
      "2014 5.247663551401869\n",
      "2015 4.8336448598130834\n",
      "2016 4.425233644859813\n",
      "2017 3.8775700934579445\n",
      "2018 3.525233644859813\n",
      "2019 3.34766355140187\n",
      "2020 3.267289719626168\n",
      "2021 3.435398230088496\n"
     ]
    }
   ],
   "source": [
    "for year in unemployment_by_year:\n",
    "    print(year, process_unemployment_data(unemployment_by_year[year], 2012, params)['pct_unemployment'].apply(lambda x: 0 if x == '-' else x).astype('float').mean())"
   ]
  },
  {
   "cell_type": "code",
   "execution_count": null,
   "id": "4e0f9955",
   "metadata": {},
   "outputs": [],
   "source": []
  },
  {
   "cell_type": "code",
   "execution_count": 221,
   "id": "2a42013b",
   "metadata": {},
   "outputs": [
    {
     "data": {
      "text/plain": [
       "<Axes: xlabel='year'>"
      ]
     },
     "execution_count": 221,
     "metadata": {},
     "output_type": "execute_result"
    },
    {
     "data": {
      "image/png": "[encoded data removed]",
      "text/plain": [
       "<Figure size 640x480 with 1 Axes>"
      ]
     },
     "metadata": {},
     "output_type": "display_data"
    }
   ],
   "source": [
    "file_path = '../../src/data/raw/employment_data/employment.csv'\n",
    "employment_rate = pd.read_csv(file_path)\n",
    "\n",
    "# Only get the year\n",
    "employment_rate['year'] = pd.to_datetime(employment_rate['DATE']).dt.year\n",
    "\n",
    "employment_rate = employment_rate.drop(columns=['DATE','CASAND5URN_20240104'])\n",
    "\n",
    "employment_rate.rename(columns={'CASAND5URN_20231130': 'unemployment_rate'}, inplace=True)\n",
    "\n",
    "unemployment_by_year = employment_rate.groupby('year')['unemployment_rate'].mean().reset_index()\n",
    "\n",
    "unemployment_by_year.plot(x='year', y='unemployment_rate', kind='line')"
   ]
  },
  {
   "cell_type": "code",
   "execution_count": null,
   "id": "faf4fdcc",
   "metadata": {},
   "outputs": [],
   "source": []
  },
  {
   "cell_type": "code",
   "execution_count": null,
   "id": "ac820d88",
   "metadata": {},
   "outputs": [],
   "source": []
  },
  {
   "cell_type": "code",
   "execution_count": null,
   "id": "60273773",
   "metadata": {},
   "outputs": [],
   "source": []
  },
  {
   "cell_type": "code",
   "execution_count": null,
   "id": "81eb9a4e",
   "metadata": {},
   "outputs": [],
   "source": []
  },
  {
   "cell_type": "code",
   "execution_count": null,
   "id": "2b0d226c",
   "metadata": {},
   "outputs": [],
   "source": []
  }
 ],
 "metadata": {
  "kernelspec": {
   "display_name": "Python 3 (ipykernel)",
   "language": "python",
   "name": "python3"
  },
  "language_info": {
   "codemirror_mode": {
    "name": "ipython",
    "version": 3
   },
   "file_extension": ".py",
   "mimetype": "text/x-python",
   "name": "python",
   "nbconvert_exporter": "python",
   "pygments_lexer": "ipython3",
   "version": "3.10.13"
  }
 },
 "nbformat": 4,
 "nbformat_minor": 5
}
