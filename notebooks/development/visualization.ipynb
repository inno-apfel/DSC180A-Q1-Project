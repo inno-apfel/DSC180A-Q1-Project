{
 "cells": [
  {
   "cell_type": "code",
   "execution_count": null,
   "id": "e878fceb",
   "metadata": {},
   "outputs": [],
   "source": [
    "import numpy as np\n",
    "import pandas as pd\n",
    "\n",
    "from urllib.request import urlopen\n",
    "import json\n",
    "import plotly.express as px\n",
    "from IPython.display import IFrame"
   ]
  },
  {
   "cell_type": "markdown",
   "id": "8879d5d6",
   "metadata": {},
   "source": [
    "# DATA"
   ]
  },
  {
   "cell_type": "markdown",
   "id": "d976a69e",
   "metadata": {},
   "source": [
    "Data Dictionary: \n",
    "* https://www2.census.gov/programs-surveys/cbp/technical-documentation/records-layouts/2017_record_layouts/zip_code_industry_detail_record_layout_2017.txt\n",
    "\n",
    "NAICS Code Meanings:\n",
    "* https://www.naics.com/six-digit-naics/"
   ]
  },
  {
   "cell_type": "code",
   "execution_count": null,
   "id": "e2ba1bc5",
   "metadata": {},
   "outputs": [],
   "source": [
    "file_path = '../../src/data/temp/processed_zbp_data.csv'\n",
    "data = pd.read_csv(file_path)\n",
    "data.head()"
   ]
  },
  {
   "cell_type": "markdown",
   "id": "7d3b6bb6",
   "metadata": {},
   "source": [
    "# PLOT"
   ]
  },
  {
   "cell_type": "markdown",
   "id": "f159c1a5",
   "metadata": {},
   "source": [
    "plotly colors: https://media.geeksforgeeks.org/wp-content/uploads/20220220154706/newplot.png"
   ]
  },
  {
   "cell_type": "code",
   "execution_count": null,
   "id": "56497259",
   "metadata": {},
   "outputs": [],
   "source": [
    "def generate_zbp_chloropleth(data, year):\n",
    "    df = data[data['year']==year].groupby('zip')['est'].sum().reset_index()[['zip','est']]\n",
    "    \n",
    "    with urlopen('https://raw.githubusercontent.com/OpenDataDE/State-zip-code-GeoJSON/master/ca_california_zip_codes_geo.min.json') as response:\n",
    "        zipcodes = json.load(response)\n",
    "    \n",
    "    fig = px.choropleth(df, \n",
    "                        geojson=zipcodes, \n",
    "                        locations='zip', \n",
    "                        color='est',\n",
    "                        color_continuous_scale='blackbody_r',\n",
    "                        range_color=(df['est'].min(),df['est'].max()),\n",
    "                        featureidkey=\"properties.ZCTA5CE10\",\n",
    "                        scope=\"usa\",\n",
    "                        labels={'Final_Labels':'Cluster_Category'})\n",
    "    fig.update_layout(margin={\"r\":0,\"t\":0,\"l\":0,\"b\":0})\n",
    "    fig.write_html(f'../../src/data/out/plots/zbp_plot_{year}.html')\n",
    "\n",
    "    display(IFrame(src=f'../../src/data/out/plots/zbp_plot_{year}.html', width=1000, height=1000))"
   ]
  },
  {
   "cell_type": "code",
   "execution_count": null,
   "id": "32c4eb7f",
   "metadata": {},
   "outputs": [],
   "source": [
    "generate_zbp_chloropleth(data, 2021)"
   ]
  },
  {
   "cell_type": "code",
   "execution_count": null,
   "id": "2f99a3f9",
   "metadata": {},
   "outputs": [],
   "source": []
  }
 ],
 "metadata": {
  "kernelspec": {
   "display_name": "Python 3 (ipykernel)",
   "language": "python",
   "name": "python3"
  },
  "language_info": {
   "codemirror_mode": {
    "name": "ipython",
    "version": 3
   },
   "file_extension": ".py",
   "mimetype": "text/x-python",
   "name": "python",
   "nbconvert_exporter": "python",
   "pygments_lexer": "ipython3",
   "version": "3.10.10"
  }
 },
 "nbformat": 4,
 "nbformat_minor": 5
}
