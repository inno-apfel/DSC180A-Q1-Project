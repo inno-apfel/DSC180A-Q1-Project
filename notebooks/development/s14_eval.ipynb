{
 "cells": [
  {
   "cell_type": "code",
   "execution_count": null,
   "id": "defa021c",
   "metadata": {},
   "outputs": [],
   "source": [
    "import pandas as pd\n",
    "import numpy as np\n",
    "\n",
    "from sklearn.metrics import mean_squared_error"
   ]
  },
  {
   "cell_type": "markdown",
   "id": "f411ff30",
   "metadata": {},
   "source": [
    "# CBP Data"
   ]
  },
  {
   "cell_type": "code",
   "execution_count": null,
   "id": "b640d63d",
   "metadata": {},
   "outputs": [],
   "source": [
    "file_path = '../../src/data/temp/zbp_totals_with_features.csv'\n",
    "data = pd.read_csv(file_path)\n",
    "data"
   ]
  },
  {
   "cell_type": "markdown",
   "id": "c993bb4e",
   "metadata": {},
   "source": [
    "# Series 14 Forecasts"
   ]
  },
  {
   "cell_type": "code",
   "execution_count": null,
   "id": "4fdfb539",
   "metadata": {},
   "outputs": [],
   "source": [
    "s14_file_path = '../../src/data/raw/Series_14_Forecasts/Series_14_Forecasts_Jobs_by_ZIP_Code.csv'\n",
    "s14_jobs = pd.read_csv(s14_file_path).rename(columns={'yr_id':'year', 'jobs':'emp'})\n",
    "s14_jobs = s14_jobs.groupby(['zip', 'year'])[['emp']].sum().reset_index()\n",
    "s14_jobs_pre2021 = s14_jobs[s14_jobs['year'] <= 2021]\n",
    "s14_jobs_pre2021"
   ]
  },
  {
   "cell_type": "markdown",
   "id": "acfb7a91",
   "metadata": {},
   "source": [
    "# Evaluate"
   ]
  },
  {
   "cell_type": "code",
   "execution_count": null,
   "id": "4125ffd1",
   "metadata": {},
   "outputs": [],
   "source": [
    "temp = data.merge(s14_jobs_pre2021, on=['zip', 'year'], suffixes=('_trues', '_preds'))\n",
    "mean_squared_error(temp['emp_trues'], temp['emp_preds'], squared=False)"
   ]
  },
  {
   "cell_type": "code",
   "execution_count": null,
   "id": "06967d43",
   "metadata": {},
   "outputs": [],
   "source": [
    "greater_2018 = temp[temp['year']>2015]\n",
    "mean_squared_error(greater_2018['emp_trues'], greater_2018['emp_preds'], squared=False)"
   ]
  },
  {
   "cell_type": "code",
   "execution_count": null,
   "id": "e1d0f1a3",
   "metadata": {},
   "outputs": [],
   "source": [
    "only_2020 = temp[temp['year']==2020]\n",
    "mean_squared_error(only_2020['emp_trues'], only_2020['emp_preds'], squared=False)"
   ]
  },
  {
   "cell_type": "code",
   "execution_count": null,
   "id": "4a977836",
   "metadata": {},
   "outputs": [],
   "source": []
  }
 ],
 "metadata": {
  "kernelspec": {
   "display_name": "Python 3 (ipykernel)",
   "language": "python",
   "name": "python3"
  },
  "language_info": {
   "codemirror_mode": {
    "name": "ipython",
    "version": 3
   },
   "file_extension": ".py",
   "mimetype": "text/x-python",
   "name": "python",
   "nbconvert_exporter": "python",
   "pygments_lexer": "ipython3",
   "version": "3.10.13"
  }
 },
 "nbformat": 4,
 "nbformat_minor": 5
}
