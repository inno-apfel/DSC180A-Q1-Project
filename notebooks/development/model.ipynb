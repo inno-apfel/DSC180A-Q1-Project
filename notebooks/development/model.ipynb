{
 "cells": [
  {
   "cell_type": "code",
   "execution_count": 39,
   "id": "d949c95c",
   "metadata": {},
   "outputs": [],
   "source": [
    "import numpy as np\n",
    "import pandas as pd\n",
    "\n",
    "from sklearn.linear_model import LinearRegression\n",
    "from sklearn.metrics import mean_squared_error\n",
    "\n",
    "from urllib.request import urlopen\n",
    "import json\n",
    "import plotly.express as px\n",
    "from IPython.display import IFrame"
   ]
  },
  {
   "cell_type": "markdown",
   "id": "4988b795",
   "metadata": {},
   "source": [
    "# DATA"
   ]
  },
  {
   "cell_type": "markdown",
   "id": "c9376ca8",
   "metadata": {},
   "source": [
    "Data Dictionary: \n",
    "* https://www2.census.gov/programs-surveys/cbp/technical-documentation/records-layouts/2017_record_layouts/zip_code_industry_detail_record_layout_2017.txt\n",
    "\n",
    "NAICS Code Meanings:\n",
    "* https://www.naics.com/six-digit-naics/"
   ]
  },
  {
   "cell_type": "code",
   "execution_count": 2,
   "id": "dfa20cb8",
   "metadata": {
    "scrolled": true
   },
   "outputs": [
    {
     "data": {
      "text/html": [
       "<div>\n",
       "<style scoped>\n",
       "    .dataframe tbody tr th:only-of-type {\n",
       "        vertical-align: middle;\n",
       "    }\n",
       "\n",
       "    .dataframe tbody tr th {\n",
       "        vertical-align: top;\n",
       "    }\n",
       "\n",
       "    .dataframe thead th {\n",
       "        text-align: right;\n",
       "    }\n",
       "</style>\n",
       "<table border=\"1\" class=\"dataframe\">\n",
       "  <thead>\n",
       "    <tr style=\"text-align: right;\">\n",
       "      <th></th>\n",
       "      <th>index</th>\n",
       "      <th>zip</th>\n",
       "      <th>naics</th>\n",
       "      <th>est</th>\n",
       "      <th>n1_4</th>\n",
       "      <th>n5_9</th>\n",
       "      <th>n10_19</th>\n",
       "      <th>n20_49</th>\n",
       "      <th>n50_99</th>\n",
       "      <th>n100_249</th>\n",
       "      <th>n250_499</th>\n",
       "      <th>n500_999</th>\n",
       "      <th>n1000</th>\n",
       "      <th>year</th>\n",
       "    </tr>\n",
       "  </thead>\n",
       "  <tbody>\n",
       "    <tr>\n",
       "      <th>0</th>\n",
       "      <td>0</td>\n",
       "      <td>91901</td>\n",
       "      <td>23</td>\n",
       "      <td>88</td>\n",
       "      <td>68</td>\n",
       "      <td>7</td>\n",
       "      <td>6</td>\n",
       "      <td>5</td>\n",
       "      <td>1</td>\n",
       "      <td>0</td>\n",
       "      <td>1</td>\n",
       "      <td>0</td>\n",
       "      <td>0</td>\n",
       "      <td>2012</td>\n",
       "    </tr>\n",
       "    <tr>\n",
       "      <th>1</th>\n",
       "      <td>1</td>\n",
       "      <td>91901</td>\n",
       "      <td>31</td>\n",
       "      <td>2</td>\n",
       "      <td>1</td>\n",
       "      <td>1</td>\n",
       "      <td>0</td>\n",
       "      <td>0</td>\n",
       "      <td>0</td>\n",
       "      <td>0</td>\n",
       "      <td>0</td>\n",
       "      <td>0</td>\n",
       "      <td>0</td>\n",
       "      <td>2012</td>\n",
       "    </tr>\n",
       "    <tr>\n",
       "      <th>2</th>\n",
       "      <td>2</td>\n",
       "      <td>91901</td>\n",
       "      <td>42</td>\n",
       "      <td>9</td>\n",
       "      <td>9</td>\n",
       "      <td>0</td>\n",
       "      <td>0</td>\n",
       "      <td>0</td>\n",
       "      <td>0</td>\n",
       "      <td>0</td>\n",
       "      <td>0</td>\n",
       "      <td>0</td>\n",
       "      <td>0</td>\n",
       "      <td>2012</td>\n",
       "    </tr>\n",
       "    <tr>\n",
       "      <th>3</th>\n",
       "      <td>3</td>\n",
       "      <td>91901</td>\n",
       "      <td>44</td>\n",
       "      <td>67</td>\n",
       "      <td>25</td>\n",
       "      <td>21</td>\n",
       "      <td>16</td>\n",
       "      <td>4</td>\n",
       "      <td>1</td>\n",
       "      <td>0</td>\n",
       "      <td>0</td>\n",
       "      <td>0</td>\n",
       "      <td>0</td>\n",
       "      <td>2012</td>\n",
       "    </tr>\n",
       "    <tr>\n",
       "      <th>4</th>\n",
       "      <td>4</td>\n",
       "      <td>91901</td>\n",
       "      <td>48</td>\n",
       "      <td>8</td>\n",
       "      <td>8</td>\n",
       "      <td>0</td>\n",
       "      <td>0</td>\n",
       "      <td>0</td>\n",
       "      <td>0</td>\n",
       "      <td>0</td>\n",
       "      <td>0</td>\n",
       "      <td>0</td>\n",
       "      <td>0</td>\n",
       "      <td>2012</td>\n",
       "    </tr>\n",
       "  </tbody>\n",
       "</table>\n",
       "</div>"
      ],
      "text/plain": [
       "   index    zip  naics  est n1_4 n5_9 n10_19 n20_49 n50_99 n100_249 n250_499   \n",
       "0      0  91901     23   88   68    7      6      5      1        0        1  \\\n",
       "1      1  91901     31    2    1    1      0      0      0        0        0   \n",
       "2      2  91901     42    9    9    0      0      0      0        0        0   \n",
       "3      3  91901     44   67   25   21     16      4      1        0        0   \n",
       "4      4  91901     48    8    8    0      0      0      0        0        0   \n",
       "\n",
       "  n500_999 n1000  year  \n",
       "0        0     0  2012  \n",
       "1        0     0  2012  \n",
       "2        0     0  2012  \n",
       "3        0     0  2012  \n",
       "4        0     0  2012  "
      ]
     },
     "execution_count": 2,
     "metadata": {},
     "output_type": "execute_result"
    }
   ],
   "source": [
    "file_path = '../../src/data/temp/processed_zbp_data.csv'\n",
    "data = pd.read_csv(file_path)\n",
    "data.head()"
   ]
  },
  {
   "cell_type": "markdown",
   "id": "cd4b2be1",
   "metadata": {},
   "source": [
    "# MODEL"
   ]
  },
  {
   "cell_type": "markdown",
   "id": "fbe146ef",
   "metadata": {},
   "source": [
    "Lit Review Variables: Firm Age, **Business Size**, **Industry**, **Location**, Legal"
   ]
  },
  {
   "cell_type": "markdown",
   "id": "795457e1",
   "metadata": {},
   "source": [
    "Goal: Forecast ESTAB for Zipcodes given **Business Size**, **Industry**, **Location** and past **ESTAB**\n",
    "\n",
    "Next-Steps:\n",
    "* Research how to apply actual timeseries models, LSTM?"
   ]
  },
  {
   "cell_type": "markdown",
   "id": "bdd69e3b",
   "metadata": {},
   "source": [
    "Notes: \n",
    "* Assumes Monotonically increasing growth\n",
    "* Time Series Predictions: https://www.advancinganalytics.co.uk/blog/2021/06/22/10-incredibly-useful-time-series-forecasting-algorithms\n",
    "    * Training one lin-reg for each zipcode-size-ind combination may suffice for a baseline?\n",
    "* Since data at county level is much more prevelant, may be better to look at distribution of jobs across all of california rather than just SD County. (may be skewed by large counties such as San Bernardino?)"
   ]
  },
  {
   "cell_type": "markdown",
   "id": "abe9fb1f",
   "metadata": {},
   "source": [
    "## BASELINE - LINREG ENSEMBLE"
   ]
  },
  {
   "cell_type": "markdown",
   "id": "709419b6",
   "metadata": {},
   "source": [
    "break df by zip/naics (and n's)\n",
    "\n",
    "train one linreg for each combo, using years as X and est as Y"
   ]
  },
  {
   "cell_type": "code",
   "execution_count": 3,
   "id": "741c67d8",
   "metadata": {},
   "outputs": [],
   "source": [
    "class ForecastModel():\n",
    "    \n",
    "    def __init__(self, data, year_to_forecast):\n",
    "        self.data = data[data['year'] < year_to_forecast]\n",
    "        self.year_to_forecast = year_to_forecast\n",
    "        self.ensemble = None\n",
    "        self.generated_forecasts = {}\n",
    "        \n",
    "    def train(self):\n",
    "        \n",
    "        self.zip_codes = data['zip'].unique()\n",
    "        self.naics_codes = data['naics'].unique()\n",
    "        \n",
    "        reg_ensemble = {}\n",
    "\n",
    "        for zc in self.zip_codes:\n",
    "            reg_ensemble[zc] = {}\n",
    "            for nc in self.naics_codes:\n",
    "                # filter data\n",
    "                temp = data[data['zip']==zc]\n",
    "                temp = temp[temp['naics']==nc]\n",
    "                # check if data exists\n",
    "                if temp.shape[0] == 0:\n",
    "                    continue\n",
    "                X = temp[['year']]\n",
    "                y = temp['est']\n",
    "                lr = LinearRegression().fit(X, y)\n",
    "                reg_ensemble[zc][nc] = lr\n",
    "                \n",
    "        self.ensemble = reg_ensemble\n",
    "        \n",
    "    def generate_forecast(self, year=None):\n",
    "        \n",
    "        if year is None:\n",
    "            year = self.year_to_forecast\n",
    "        \n",
    "        forecasts = []\n",
    "        for zc in self.zip_codes:\n",
    "            for nc in self.naics_codes:\n",
    "                if (zc in self.ensemble) and (nc in self.ensemble[zc]):\n",
    "                    lr = self.ensemble[zc][nc]\n",
    "                    pred = lr.predict(pd.DataFrame([year], columns=['year']))[0]\n",
    "                    forecasts += [[zc, nc, pred]]\n",
    "                    \n",
    "        self.generated_forecasts[year] = pd.DataFrame(np.array(forecasts), columns=['zip', 'naics', 'est']).astype({'zip': 'int64', 'naics': 'int64'})\n",
    "        \n",
    "        def plot_forecasts(data, year):\n",
    "            df = data.groupby('zip')['est'].sum().reset_index()[['zip','est']]\n",
    "            with urlopen('https://raw.githubusercontent.com/OpenDataDE/State-zip-code-GeoJSON/master/ca_california_zip_codes_geo.min.json') as response:\n",
    "                zipcodes = json.load(response)\n",
    "            fig = px.choropleth(df, \n",
    "                                geojson=zipcodes, \n",
    "                                locations='zip', \n",
    "                                color='est',\n",
    "                                color_continuous_scale='blackbody_r',\n",
    "                                range_color=(df['est'].min(),df['est'].max()),\n",
    "                                featureidkey=\"properties.ZCTA5CE10\",\n",
    "                                scope=\"usa\",\n",
    "                                labels={'Final_Labels':'Cluster_Category'})\n",
    "            fig.update_layout(margin={\"r\":0,\"t\":0,\"l\":0,\"b\":0})\n",
    "            fig.write_html(f'../../src/data/out/plots/zbp_forecast_plot_{year}.html')\n",
    "            display(IFrame(src=f'../../src/data/out/plots/zbp_forecast_plot_{year}.html', width=1000, height=1000))\n",
    "            \n",
    "        plot_forecasts(self.generated_forecasts[year], year)\n",
    "        \n",
    "        return self.generated_forecasts[year]\n",
    "    "
   ]
  },
  {
   "cell_type": "markdown",
   "id": "047ff91c",
   "metadata": {},
   "source": [
    "### Run Model"
   ]
  },
  {
   "cell_type": "code",
   "execution_count": 15,
   "id": "16258013",
   "metadata": {},
   "outputs": [
    {
     "data": {
      "text/html": [
       "\n",
       "        <iframe\n",
       "            width=\"1000\"\n",
       "            height=\"1000\"\n",
       "            src=\"../../src/data/out/plots/zbp_forecast_plot_2021.html\"\n",
       "            frameborder=\"0\"\n",
       "            allowfullscreen\n",
       "            \n",
       "        ></iframe>\n",
       "        "
      ],
      "text/plain": [
       "<IPython.lib.display.IFrame at 0x1ca2b3526e0>"
      ]
     },
     "metadata": {},
     "output_type": "display_data"
    },
    {
     "data": {
      "text/html": [
       "<div>\n",
       "<style scoped>\n",
       "    .dataframe tbody tr th:only-of-type {\n",
       "        vertical-align: middle;\n",
       "    }\n",
       "\n",
       "    .dataframe tbody tr th {\n",
       "        vertical-align: top;\n",
       "    }\n",
       "\n",
       "    .dataframe thead th {\n",
       "        text-align: right;\n",
       "    }\n",
       "</style>\n",
       "<table border=\"1\" class=\"dataframe\">\n",
       "  <thead>\n",
       "    <tr style=\"text-align: right;\">\n",
       "      <th></th>\n",
       "      <th>zip</th>\n",
       "      <th>naics</th>\n",
       "      <th>est</th>\n",
       "    </tr>\n",
       "  </thead>\n",
       "  <tbody>\n",
       "    <tr>\n",
       "      <th>0</th>\n",
       "      <td>91901.0</td>\n",
       "      <td>23.0</td>\n",
       "      <td>109.909091</td>\n",
       "    </tr>\n",
       "    <tr>\n",
       "      <th>1</th>\n",
       "      <td>91901.0</td>\n",
       "      <td>31.0</td>\n",
       "      <td>5.636364</td>\n",
       "    </tr>\n",
       "    <tr>\n",
       "      <th>2</th>\n",
       "      <td>91901.0</td>\n",
       "      <td>42.0</td>\n",
       "      <td>2.055556</td>\n",
       "    </tr>\n",
       "    <tr>\n",
       "      <th>3</th>\n",
       "      <td>91901.0</td>\n",
       "      <td>44.0</td>\n",
       "      <td>60.436364</td>\n",
       "    </tr>\n",
       "    <tr>\n",
       "      <th>4</th>\n",
       "      <td>91901.0</td>\n",
       "      <td>48.0</td>\n",
       "      <td>13.527273</td>\n",
       "    </tr>\n",
       "  </tbody>\n",
       "</table>\n",
       "</div>"
      ],
      "text/plain": [
       "       zip  naics         est\n",
       "0  91901.0   23.0  109.909091\n",
       "1  91901.0   31.0    5.636364\n",
       "2  91901.0   42.0    2.055556\n",
       "3  91901.0   44.0   60.436364\n",
       "4  91901.0   48.0   13.527273"
      ]
     },
     "execution_count": 15,
     "metadata": {},
     "output_type": "execute_result"
    }
   ],
   "source": [
    "model = ForecastModel(data, 2021)\n",
    "model.train()\n",
    "results = model.generate_forecast()\n",
    "results.head()"
   ]
  },
  {
   "cell_type": "markdown",
   "id": "bd6d3ce8",
   "metadata": {},
   "source": [
    "### Evaluate Model (MSE)"
   ]
  },
  {
   "cell_type": "code",
   "execution_count": 41,
   "id": "15253f4b",
   "metadata": {},
   "outputs": [
    {
     "data": {
      "text/plain": [
       "14.430784873430047"
      ]
     },
     "execution_count": 41,
     "metadata": {},
     "output_type": "execute_result"
    }
   ],
   "source": [
    "year_to_eval = 2021\n",
    "\n",
    "preds = model.generated_forecasts[year_to_eval].groupby(['zip', 'naics']).max()\n",
    "trues = data[data['year']==year_to_eval][['zip', 'naics', 'est']].groupby(['zip', 'naics']).max()\n",
    "res = trues.merge(preds, how='inner', left_index=True, right_index=True, suffixes=('_trues', '_preds'))\n",
    "\n",
    "mean_squared_error(res['est_trues'].reset_index(drop=True), res['est_preds'].reset_index(drop=True))"
   ]
  },
  {
   "cell_type": "code",
   "execution_count": null,
   "id": "6bc95bde",
   "metadata": {},
   "outputs": [],
   "source": []
  }
 ],
 "metadata": {
  "kernelspec": {
   "display_name": "Python 3 (ipykernel)",
   "language": "python",
   "name": "python3"
  },
  "language_info": {
   "codemirror_mode": {
    "name": "ipython",
    "version": 3
   },
   "file_extension": ".py",
   "mimetype": "text/x-python",
   "name": "python",
   "nbconvert_exporter": "python",
   "pygments_lexer": "ipython3",
   "version": "3.10.10"
  }
 },
 "nbformat": 4,
 "nbformat_minor": 5
}
