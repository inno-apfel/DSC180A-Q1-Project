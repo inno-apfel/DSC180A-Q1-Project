{
 "cells": [
  {
   "cell_type": "code",
   "execution_count": null,
   "id": "d949c95c",
   "metadata": {},
   "outputs": [],
   "source": [
    "import numpy as np\n",
    "import pandas as pd\n",
    "\n",
    "from sklearn.linear_model import LinearRegression\n",
    "\n",
    "from urllib.request import urlopen\n",
    "import json\n",
    "import plotly.express as px\n",
    "from IPython.display import IFrame"
   ]
  },
  {
   "cell_type": "markdown",
   "id": "4988b795",
   "metadata": {},
   "source": [
    "# DATA"
   ]
  },
  {
   "cell_type": "markdown",
   "id": "c9376ca8",
   "metadata": {},
   "source": [
    "Data Dictionary: \n",
    "* https://www2.census.gov/programs-surveys/cbp/technical-documentation/records-layouts/2017_record_layouts/zip_code_industry_detail_record_layout_2017.txt\n",
    "\n",
    "NAICS Code Meanings:\n",
    "* https://www.naics.com/six-digit-naics/"
   ]
  },
  {
   "cell_type": "code",
   "execution_count": null,
   "id": "dfa20cb8",
   "metadata": {
    "scrolled": true
   },
   "outputs": [],
   "source": [
    "file_path = '../../src/data/temp/processed_zbp_data.csv'\n",
    "data = pd.read_csv(file_path)\n",
    "data.head()"
   ]
  },
  {
   "cell_type": "markdown",
   "id": "cd4b2be1",
   "metadata": {},
   "source": [
    "# MODEL"
   ]
  },
  {
   "cell_type": "markdown",
   "id": "fbe146ef",
   "metadata": {},
   "source": [
    "Lit Review Variables: Firm Age, **Business Size**, **Industry**, **Location**, Legal"
   ]
  },
  {
   "cell_type": "markdown",
   "id": "795457e1",
   "metadata": {},
   "source": [
    "Goal: Forecast ESTAB for Zipcodes given **Business Size**, **Industry**, **Location** and past **ESTAB**\n",
    "\n",
    "Steps:\n",
    "* Rebuild ingestion pipeline to accept multi-year datasets\n",
    "* Build heatmap of establishments by zipcode\n",
    "    * https://medium.com/@mm.fuenteslopez/using-plotly-express-to-make-zip-code-level-choropleth-maps-a8ac8212b7ed\n",
    "* Build baseline model\n",
    "* Research how to apply actual timeseries models, LSTM?"
   ]
  },
  {
   "cell_type": "markdown",
   "id": "bdd69e3b",
   "metadata": {},
   "source": [
    "Notes: \n",
    "* Assumes Monotonically increasing growth\n",
    "* Time Series Predictions: https://www.advancinganalytics.co.uk/blog/2021/06/22/10-incredibly-useful-time-series-forecasting-algorithms\n",
    "    * Training one lin-reg for each zipcode-size-ind combination may suffice for a baseline?\n",
    "* Since data at county level is much more prevelant, may be better to look at distribution of jobs across all of california rather than just SD County. (may be skewed by large counties such as San Bernardino?)"
   ]
  },
  {
   "cell_type": "markdown",
   "id": "abe9fb1f",
   "metadata": {},
   "source": [
    "## BASELINE - LINREG ENSEMBLE"
   ]
  },
  {
   "cell_type": "markdown",
   "id": "709419b6",
   "metadata": {},
   "source": [
    "break df by zip/naics (and n's)\n",
    "\n",
    "train one linreg for each combo, using years as X and est as Y"
   ]
  },
  {
   "cell_type": "code",
   "execution_count": null,
   "id": "54507526",
   "metadata": {},
   "outputs": [],
   "source": [
    "zip_codes = data['zip'].unique()\n",
    "naics_codes = data['naics'].unique()"
   ]
  },
  {
   "cell_type": "code",
   "execution_count": null,
   "id": "fcc44952",
   "metadata": {},
   "outputs": [],
   "source": [
    "%time\n",
    "\n",
    "# train models\n",
    "\n",
    "reg_ensemble = {}\n",
    "\n",
    "for zc in zip_codes:\n",
    "    reg_ensemble[zc] = {}\n",
    "    for nc in naics_codes:\n",
    "        # filter data\n",
    "        temp = data[data['zip']==zc]\n",
    "        temp = temp[temp['naics']==nc]\n",
    "        # check if data exists\n",
    "        if temp.shape[0] == 0:\n",
    "            continue\n",
    "        X = temp[['year']]\n",
    "        y = temp['est']\n",
    "        lr = LinearRegression().fit(X, y)\n",
    "        reg_ensemble[zc][nc] = lr"
   ]
  },
  {
   "cell_type": "code",
   "execution_count": null,
   "id": "9998a129",
   "metadata": {},
   "outputs": [],
   "source": [
    "# compute predict\n",
    "\n",
    "def forecast_year(year):\n",
    "    forecasts = []\n",
    "    for zc in zip_codes:\n",
    "        for nc in naics_codes:\n",
    "            if (zc in reg_ensemble) and (nc in reg_ensemble[zc]):\n",
    "                lr = reg_ensemble[zc][nc]\n",
    "                pred = lr.predict(pd.DataFrame([year], columns=['year']))[0]\n",
    "                forecasts += [[zc, nc, pred]]\n",
    "    return forecasts"
   ]
  },
  {
   "cell_type": "code",
   "execution_count": null,
   "id": "dad55778",
   "metadata": {
    "scrolled": true
   },
   "outputs": [],
   "source": [
    "forecast_2050 = forecast_year(2050)\n",
    "forecast_2050 = pd.DataFrame(np.array(forecast_2050), columns=['zip', 'naics', 'est'])\n",
    "forecast_2050.head()"
   ]
  },
  {
   "cell_type": "code",
   "execution_count": null,
   "id": "7801896e",
   "metadata": {},
   "outputs": [],
   "source": [
    "def plot_forecasts(data, year):\n",
    "    df = data.groupby('zip')['est'].sum().reset_index()[['zip','est']]\n",
    "    \n",
    "    with urlopen('https://raw.githubusercontent.com/OpenDataDE/State-zip-code-GeoJSON/master/ca_california_zip_codes_geo.min.json') as response:\n",
    "        zipcodes = json.load(response)\n",
    "\n",
    "    fig = px.choropleth(df, \n",
    "                        geojson=zipcodes, \n",
    "                        locations='zip', \n",
    "                        color='est',\n",
    "                        color_continuous_scale='blackbody_r',\n",
    "                        range_color=(df['est'].min(),df['est'].max()),\n",
    "                        featureidkey=\"properties.ZCTA5CE10\",\n",
    "                        scope=\"usa\",\n",
    "                        labels={'Final_Labels':'Cluster_Category'})\n",
    "    fig.update_layout(margin={\"r\":0,\"t\":0,\"l\":0,\"b\":0})\n",
    "    fig.write_html(f'../../src/data/out/plots/zbp_forecast_plot_{year}.html')\n",
    "\n",
    "    display(IFrame(src=f'../../src/data/out/plots/zbp_forecast_plot_{year}.html', width=1000, height=1000))"
   ]
  },
  {
   "cell_type": "code",
   "execution_count": null,
   "id": "d7208641",
   "metadata": {},
   "outputs": [],
   "source": [
    "plot_forecasts(forecast_2050, 2050)"
   ]
  },
  {
   "cell_type": "code",
   "execution_count": null,
   "id": "0fcfc084",
   "metadata": {},
   "outputs": [],
   "source": []
  }
 ],
 "metadata": {
  "kernelspec": {
   "display_name": "Python 3 (ipykernel)",
   "language": "python",
   "name": "python3"
  },
  "language_info": {
   "codemirror_mode": {
    "name": "ipython",
    "version": 3
   },
   "file_extension": ".py",
   "mimetype": "text/x-python",
   "name": "python",
   "nbconvert_exporter": "python",
   "pygments_lexer": "ipython3",
   "version": "3.10.10"
  }
 },
 "nbformat": 4,
 "nbformat_minor": 5
}
