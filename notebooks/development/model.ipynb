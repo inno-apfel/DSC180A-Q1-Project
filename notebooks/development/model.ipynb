{
 "cells": [
  {
   "cell_type": "code",
   "execution_count": null,
   "id": "d949c95c",
   "metadata": {},
   "outputs": [],
   "source": [
    "import numpy as np\n",
    "import pandas as pd\n",
    "\n",
    "from sklearn.linear_model import LinearRegression\n",
    "from sklearn.metrics import mean_squared_error\n",
    "\n",
    "from urllib.request import urlopen\n",
    "import json\n",
    "import plotly.express as px\n",
    "from IPython.display import IFrame"
   ]
  },
  {
   "cell_type": "markdown",
   "id": "4988b795",
   "metadata": {},
   "source": [
    "# DATA"
   ]
  },
  {
   "cell_type": "markdown",
   "id": "c9376ca8",
   "metadata": {},
   "source": [
    "Data Dictionary: \n",
    "* https://www2.census.gov/programs-surveys/cbp/technical-documentation/records-layouts/2017_record_layouts/zip_code_industry_detail_record_layout_2017.txt\n",
    "\n",
    "NAICS Code Meanings:\n",
    "* https://www.naics.com/six-digit-naics/"
   ]
  },
  {
   "cell_type": "code",
   "execution_count": null,
   "id": "dfa20cb8",
   "metadata": {
    "scrolled": true
   },
   "outputs": [],
   "source": [
    "file_path = '../../src/data/temp/processed_zbp_data.csv'\n",
    "data = pd.read_csv(file_path)\n",
    "data.head()"
   ]
  },
  {
   "cell_type": "markdown",
   "id": "cd4b2be1",
   "metadata": {},
   "source": [
    "# MODEL"
   ]
  },
  {
   "cell_type": "markdown",
   "id": "fbe146ef",
   "metadata": {},
   "source": [
    "Lit Review Variables: Firm Age, **Business Size**, **Industry**, **Location**, Legal"
   ]
  },
  {
   "cell_type": "markdown",
   "id": "795457e1",
   "metadata": {},
   "source": [
    "Goal: Forecast ESTAB for Zipcodes given **Business Size**, **Industry**, **Location** and past **ESTAB**\n",
    "\n",
    "Next-Steps:\n",
    "* Research how to apply actual timeseries models, LSTM?"
   ]
  },
  {
   "cell_type": "markdown",
   "id": "bdd69e3b",
   "metadata": {},
   "source": [
    "Notes: \n",
    "* Assumes Monotonically increasing growth\n",
    "* Time Series Predictions: https://www.advancinganalytics.co.uk/blog/2021/06/22/10-incredibly-useful-time-series-forecasting-algorithms\n",
    "    * Training one lin-reg for each zipcode-size-ind combination may suffice for a baseline?\n",
    "* Since data at county level is much more prevelant, may be better to look at distribution of jobs across all of california rather than just SD County. (may be skewed by large counties such as San Bernardino?)"
   ]
  },
  {
   "cell_type": "markdown",
   "id": "abe9fb1f",
   "metadata": {},
   "source": [
    "## BASELINE - LINREG ENSEMBLE"
   ]
  },
  {
   "cell_type": "markdown",
   "id": "709419b6",
   "metadata": {},
   "source": [
    "break df by zip/naics (and n's)\n",
    "\n",
    "train one linreg for each combo, using years as X and est as Y"
   ]
  },
  {
   "cell_type": "code",
   "execution_count": null,
   "id": "741c67d8",
   "metadata": {},
   "outputs": [],
   "source": [
    "class ForecastModel():\n",
    "    \n",
    "    def __init__(self, data, year_to_forecast):\n",
    "        self.data = data[data['year'] < year_to_forecast]\n",
    "        self.year_to_forecast = year_to_forecast\n",
    "        self.ensemble = None\n",
    "        self.generated_forecasts = {}\n",
    "        \n",
    "    def train(self):\n",
    "        \n",
    "        self.zip_codes = data['zip'].unique()\n",
    "        self.naics_codes = data['naics'].unique()\n",
    "        \n",
    "        reg_ensemble = {}\n",
    "\n",
    "        for zc in self.zip_codes:\n",
    "            reg_ensemble[zc] = {}\n",
    "            for nc in self.naics_codes:\n",
    "                # filter data\n",
    "                temp = data[data['zip']==zc]\n",
    "                temp = temp[temp['naics']==nc]\n",
    "                # check if data exists\n",
    "                if temp.shape[0] == 0:\n",
    "                    continue\n",
    "                X = temp[['year']]\n",
    "                y = temp['est']\n",
    "                lr = LinearRegression().fit(X, y)\n",
    "                reg_ensemble[zc][nc] = lr\n",
    "                \n",
    "        self.ensemble = reg_ensemble\n",
    "        \n",
    "    def generate_forecast(self, year=None):\n",
    "        \n",
    "        if year is None:\n",
    "            year = self.year_to_forecast\n",
    "        \n",
    "        forecasts = []\n",
    "        for zc in self.zip_codes:\n",
    "            for nc in self.naics_codes:\n",
    "                if (zc in self.ensemble) and (nc in self.ensemble[zc]):\n",
    "                    lr = self.ensemble[zc][nc]\n",
    "                    pred = lr.predict(pd.DataFrame([year], columns=['year']))[0]\n",
    "                    forecasts += [[zc, nc, pred]]\n",
    "                    \n",
    "        self.generated_forecasts[year] = pd.DataFrame(np.array(forecasts), columns=['zip', 'naics', 'est']).astype({'zip': 'int64', 'naics': 'int64'})\n",
    "        \n",
    "        def plot_forecasts(data, year):\n",
    "            df = data.groupby('zip')['est'].sum().reset_index()[['zip','est']]\n",
    "            with urlopen('https://raw.githubusercontent.com/OpenDataDE/State-zip-code-GeoJSON/master/ca_california_zip_codes_geo.min.json') as response:\n",
    "                zipcodes = json.load(response)\n",
    "            fig = px.choropleth(df, \n",
    "                                geojson=zipcodes, \n",
    "                                locations='zip', \n",
    "                                color='est',\n",
    "                                color_continuous_scale='blackbody_r',\n",
    "                                range_color=(df['est'].min(),df['est'].max()),\n",
    "                                featureidkey=\"properties.ZCTA5CE10\",\n",
    "                                scope=\"usa\",\n",
    "                                labels={'Final_Labels':'Cluster_Category'})\n",
    "            fig.update_layout(margin={\"r\":0,\"t\":0,\"l\":0,\"b\":0})\n",
    "            fig.write_html(f'../../src/data/out/plots/zbp_forecast_plot_{year}.html')\n",
    "            display(IFrame(src=f'../../src/data/out/plots/zbp_forecast_plot_{year}.html', width=1000, height=1000))\n",
    "            \n",
    "        plot_forecasts(self.generated_forecasts[year], year)\n",
    "        \n",
    "        return self.generated_forecasts[year]\n",
    "    "
   ]
  },
  {
   "cell_type": "markdown",
   "id": "047ff91c",
   "metadata": {},
   "source": [
    "### Run Model"
   ]
  },
  {
   "cell_type": "code",
   "execution_count": null,
   "id": "16258013",
   "metadata": {},
   "outputs": [],
   "source": [
    "model = ForecastModel(data, 2021)\n",
    "model.train()\n",
    "results = model.generate_forecast()\n",
    "results.head()"
   ]
  },
  {
   "cell_type": "markdown",
   "id": "bd6d3ce8",
   "metadata": {},
   "source": [
    "### Evaluate Model (MSE)"
   ]
  },
  {
   "cell_type": "code",
   "execution_count": null,
   "id": "15253f4b",
   "metadata": {},
   "outputs": [],
   "source": [
    "year_to_eval = 2021\n",
    "\n",
    "preds = model.generated_forecasts[year_to_eval].groupby(['zip', 'naics']).max()\n",
    "trues = data[data['year']==year_to_eval][['zip', 'naics', 'est']].groupby(['zip', 'naics']).max()\n",
    "res = trues.merge(preds, how='inner', left_index=True, right_index=True, suffixes=('_trues', '_preds'))\n",
    "\n",
    "mean_squared_error(res['est_trues'].reset_index(drop=True), res['est_preds'].reset_index(drop=True))"
   ]
  },
  {
   "cell_type": "code",
   "execution_count": null,
   "id": "6bc95bde",
   "metadata": {},
   "outputs": [],
   "source": []
  }
 ],
 "metadata": {
  "kernelspec": {
   "display_name": "Python 3 (ipykernel)",
   "language": "python",
   "name": "python3"
  },
  "language_info": {
   "codemirror_mode": {
    "name": "ipython",
    "version": 3
   },
   "file_extension": ".py",
   "mimetype": "text/x-python",
   "name": "python",
   "nbconvert_exporter": "python",
   "pygments_lexer": "ipython3",
   "version": "3.10.10"
  }
 },
 "nbformat": 4,
 "nbformat_minor": 5
}
