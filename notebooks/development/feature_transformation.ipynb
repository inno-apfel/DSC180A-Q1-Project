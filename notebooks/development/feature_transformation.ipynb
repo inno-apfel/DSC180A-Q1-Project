{
 "cells": [
  {
   "cell_type": "code",
   "execution_count": null,
   "id": "37a47ee5",
   "metadata": {},
   "outputs": [],
   "source": [
    "import numpy as np\n",
    "import pandas as pd"
   ]
  },
  {
   "cell_type": "markdown",
   "id": "cc10b59d",
   "metadata": {},
   "source": [
    "# DATA"
   ]
  },
  {
   "cell_type": "code",
   "execution_count": null,
   "id": "4cd92d14",
   "metadata": {},
   "outputs": [],
   "source": [
    "file_path = '../../src/data/temp/processed_zbp_detail_data.csv'\n",
    "zbp_detail = pd.read_csv(file_path)\n",
    "zbp_detail.head()"
   ]
  },
  {
   "cell_type": "code",
   "execution_count": null,
   "id": "c1980abe",
   "metadata": {},
   "outputs": [],
   "source": [
    "file_path = '../../src/data/temp/processed_zbp_totals_data.csv'\n",
    "zbp_totals = pd.read_csv(file_path)\n",
    "zbp_totals.head()"
   ]
  },
  {
   "cell_type": "markdown",
   "id": "5731395c",
   "metadata": {},
   "source": [
    "# Features\n",
    "\n",
    "* presence of anchor business(es) (eg, measured by the number of large businesses or combination of large business and industry)\n",
    "* % tech\n",
    "* % bio\n",
    "* % restaurant\n",
    "* % small business\n",
    "* population\n",
    "* % population working (labor force %)\n"
   ]
  },
  {
   "cell_type": "markdown",
   "id": "500ea013",
   "metadata": {},
   "source": [
    "# Industry Percentages"
   ]
  },
  {
   "cell_type": "code",
   "execution_count": null,
   "id": "2f2512fb",
   "metadata": {},
   "outputs": [],
   "source": [
    "zip_est = zbp_detail.groupby(['zip', 'year'])['est'].sum()\n",
    "zip_naics = zbp_detail.groupby(['zip', 'year', 'naics'])['est'].sum()\n",
    "naics_percentages = (zip_naics/zip_est).unstack().fillna(value=0).add_prefix('naics_').add_suffix('_pct').reset_index()\n",
    "naics_percentages"
   ]
  },
  {
   "cell_type": "markdown",
   "id": "a5b85680",
   "metadata": {},
   "source": [
    "# Establishment Size Percentages"
   ]
  },
  {
   "cell_type": "code",
   "execution_count": null,
   "id": "052d3df8",
   "metadata": {},
   "outputs": [],
   "source": [
    "est_size_percentages = zbp_detail.groupby(['zip', 'year'])[['n1_4', 'n5_9', 'n10_19', 'n20_49', 'n50_99', 'n100_249', 'n250_499', 'n500_999', 'n1000']].sum()\n",
    "est_size_percentages = est_size_percentages.apply(lambda ser: ser/zip_est, axis=0).add_suffix('_pct').reset_index()\n",
    "est_size_percentages"
   ]
  },
  {
   "cell_type": "markdown",
   "id": "94f25541",
   "metadata": {},
   "source": [
    "# Compile Features"
   ]
  },
  {
   "cell_type": "code",
   "execution_count": null,
   "id": "90689320",
   "metadata": {},
   "outputs": [],
   "source": [
    "zbp_totals_with_features = zbp_totals.merge(naics_percentages, on=['zip', 'year'])\n",
    "zbp_totals_with_features = zbp_totals_with_features.merge(est_size_percentages, on=['zip', 'year'])\n",
    "zbp_totals_with_features.to_csv('../../src/data/temp/zbp_totals_with_features.csv', index=False)\n",
    "zbp_totals_with_features # 1523 rows instead of 1705 because there are more (zip, year) pairs in totals than in details"
   ]
  },
  {
   "cell_type": "code",
   "execution_count": null,
   "id": "3d465fb2",
   "metadata": {},
   "outputs": [],
   "source": []
  }
 ],
 "metadata": {
  "kernelspec": {
   "display_name": "Python 3 (ipykernel)",
   "language": "python",
   "name": "python3"
  },
  "language_info": {
   "codemirror_mode": {
    "name": "ipython",
    "version": 3
   },
   "file_extension": ".py",
   "mimetype": "text/x-python",
   "name": "python",
   "nbconvert_exporter": "python",
   "pygments_lexer": "ipython3",
   "version": "3.10.10"
  }
 },
 "nbformat": 4,
 "nbformat_minor": 5
}
